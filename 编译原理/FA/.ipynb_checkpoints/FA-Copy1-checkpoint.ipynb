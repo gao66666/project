{
 "cells": [
  {
   "cell_type": "code",
   "execution_count": null,
   "id": "88554b0d-16c1-402a-9e00-a50caa7d93d3",
   "metadata": {
    "tags": []
   },
   "outputs": [],
   "source": [
    "import networkx as nx\n",
    "from networkx.drawing.nx_pydot import write_dot\n",
    "from IPython.core.interactiveshell import InteractiveShell\n",
    "InteractiveShell.ast_node_interactivity = \"all\"\n",
    "from graphviz import Digraph\n",
    "from networkx import DiGraph"
   ]
  },
  {
   "cell_type": "code",
   "execution_count": null,
   "id": "c5d5b153-a450-47f5-82ab-7d08a3f6410b",
   "metadata": {
    "tags": []
   },
   "outputs": [],
   "source": [
    "import graphviz\n",
    "def plot(dot):\n",
    "    write_dot(dot, \"./pic/grid.dot\")\n",
    "    with open(\"./pic/grid.dot\") as f:\n",
    "        dot_graph = f.read()\n",
    "    dot_graph=dot_graph.replace('name','label')\n",
    "    dot2 = graphviz.Source(dot_graph)\n",
    "    return dot2"
   ]
  },
  {
   "cell_type": "code",
   "execution_count": null,
   "id": "6504058e-1bd4-4936-a551-dc45de08740c",
   "metadata": {
    "tags": []
   },
   "outputs": [],
   "source": [
    "class Subgraph():\n",
    "    def __init__(self, dot):\n",
    "        \n",
    "        self.label = ''\n",
    "        self.head = ''\n",
    "        self.tail = ''\n",
    "        self.index = 0\n",
    "        self.nodes = []\n",
    "        self.copy_num = 0\n",
    "\n",
    "    def add_edge(self, a, b, label='xx'):\n",
    "        if type(a) != str:\n",
    "            a = a.tail\n",
    "        if type(b) != str:\n",
    "            b = b.head\n",
    "        self.nodes.append([a, b, label])\n",
    "        dot.add_edge(a, b, name=label)\n",
    "\n",
    "    def add_node(self, name, shape='circle', color='black'):\n",
    "        dot.add_node(name, shape=shape, color=color)\n",
    "\n",
    "\n",
    "def subcopy(sg, dot, start):\n",
    "    d_temp = Subgraph(dot)\n",
    "    d_temp.head = f'{start}' + f'cop{sg.copy_num}' + sg.head\n",
    "    for n in sg.nodes:\n",
    "        d_temp.add_edge(f'{start}' + f'cop{sg.copy_num}' + n[0], f'{start}' + f'cop{sg.copy_num}' + n[1], n[2])\n",
    "        start += 1\n",
    "    d_temp.tail = f'{start - 1}' + f'cop{sg.copy_num}' + sg.tail\n",
    "    sg.copy_num += 1\n",
    "\n",
    "    d_temp.label = sg.label\n",
    "\n",
    "    return d_temp, start"
   ]
  },
  {
   "cell_type": "code",
   "execution_count": null,
   "id": "99546af9-a27b-4ade-bdfa-a869de270ad7",
   "metadata": {
    "tags": []
   },
   "outputs": [],
   "source": [
    "def deal_or(s, stack_sign, dot, start):\n",
    "    if s == '|':\n",
    "        a = stack_sign.pop(-1)\n",
    "        b = stack_sign.pop(-1)\n",
    "        d = Subgraph(dot)\n",
    "        d.add_edge(str(start), str(start + 1), label='sgm')\n",
    "        d.add_edge(str(start), str(start + 2), label='sgm')\n",
    "        d.add_edge(str(start + 1), b, b.label)\n",
    "        d.add_edge(str(start + 2), a, a.label)\n",
    "        d.add_edge(b, str(start + 3), label='sgm')\n",
    "        d.add_edge(a, str(start + 3), label='sgm')\n",
    "        d.head = str(start)\n",
    "        d.tail = str(start + 3)\n",
    "        d.label = 'sgm'\n",
    "        start += 4\n",
    "        stack_sign.append(d)\n",
    "        return stack_sign, start\n",
    "        \n",
    "def deal_attach(s, stack_sign, dot, start):\n",
    "    if s == '·':\n",
    "        d = Subgraph(dot)\n",
    "        b = stack_sign.pop(-1)\n",
    "        a = stack_sign.pop(-1)\n",
    "        if a.label=='start':\n",
    "            d.add_edge(f'{start}', b, label=b.label)\n",
    "            d.add_edge(a,f'{start}',label='sgm')\n",
    "            d.head = str(a.head)\n",
    "            d.tail = str(b.tail)\n",
    "            d.label = a.label\n",
    "            print('起始',start)\n",
    "        else:\n",
    "            \n",
    "            d.add_edge(a, b, label=b.label)\n",
    "            d.head = str(a.head)\n",
    "            d.tail = str(b.tail)\n",
    "            d.label = a.label\n",
    "        \n",
    "        start += 1\n",
    "        stack_sign.append(d)\n",
    "        return stack_sign, start\n",
    "def deal_dian(s, stack_sign, dot, start):\n",
    "    if s == '.':\n",
    "        d = Subgraph(dot)\n",
    "        a = stack_sign.pop(-1)\n",
    "        d.add_edge(a, f'{start}', label='!=\\  n')\n",
    "        d.head = str(a.head)\n",
    "        d.tail = f'{start}'\n",
    "        d.label=a.label\n",
    "        start += 1\n",
    "        stack_sign.append(d)\n",
    "        return stack_sign, start\n",
    "        \n",
    "\n",
    "def deal_bb(s, stack_sign, dot, start):\n",
    "    if s == '*':\n",
    "        d = Subgraph(dot)\n",
    "        a = stack_sign.pop(-1)\n",
    "        d.add_edge(str(start), a, label='sgm')\n",
    "        d.add_edge(a, a, label=a.label)\n",
    "        d.add_edge(a, str(start + 1), label='sgm')\n",
    "        d.add_edge(str(start), str(start + 1), label='sgm')\n",
    "        d.head = str(start)\n",
    "        d.tail = str(start + 1)\n",
    "        d.label='sgm'\n",
    "        start+=2\n",
    "        stack_sign.append(d)\n",
    "    return stack_sign, start\n",
    "def deal_zbb(s, stack_sign, dot, start):\n",
    "    if s == '+':\n",
    "        d = Subgraph(dot)\n",
    "        a = stack_sign.pop(-1)\n",
    "        d.add_edge(str(start), a, label=a.label)\n",
    "        d.add_edge(a, a, label=a.label)\n",
    "        d.add_edge(a, str(start + 1), label='sgm')\n",
    "        d.head = str(start)\n",
    "        d.tail = str(start + 1)\n",
    "        d.label='sgm'\n",
    "        start+=2\n",
    "        stack_sign.append(d)\n",
    "    return stack_sign, start\n",
    "# 花括号\n",
    "def deal_hkh(s, stack_sign, dot, start):\n",
    "    if s == '}':\n",
    "        d = Subgraph(dot)\n",
    "        c = stack_sign.pop(-1)\n",
    "        dot.remove_node(c.head)\n",
    "        m = int(c.label)-1\n",
    "        a = stack_sign.pop(-1)\n",
    "        \n",
    "        cop = ''\n",
    "        last = a\n",
    "        for i in range(m):\n",
    "            cop, start = subcopy(a, dot, start)\n",
    "            d.add_edge(last, cop, label=cop.label)\n",
    "            last = cop\n",
    "        d.head = a.head\n",
    "        d.tail = last.tail\n",
    "        d.label=a.label\n",
    "        stack_sign.append(d)\n",
    "        return stack_sign, start\n",
    "# 方括号\n",
    "def deal_fkh(st):\n",
    "    Li=0\n",
    "    remain=[]\n",
    "    for c in range(0,len(st)):\n",
    "        p=st[c]\n",
    "        if c == 0:\n",
    "            if st[c + 1] != '-':\n",
    "                remain.append(st[c])\n",
    "                continue\n",
    "        if c == len(st)-1 :\n",
    "            if st[c - 1] != '-':\n",
    "                remain.append(st[c])\n",
    "                continue\n",
    "        if st[c-1]!='-' and st[c+1]!='-' and st[c]!='-':\n",
    "            remain.append(st[c])\n",
    "    result=''\n",
    "    while True:\n",
    "        try:\n",
    "            i=st.index('-',Li)\n",
    "        except:\n",
    "            break\n",
    "        if st[i-1].isalpha() and st[i+1].isalpha():\n",
    "            chars=[]\n",
    "            L1=ord(st[i-1])\n",
    "            L2=ord(st[i+1])\n",
    "            if L1>L2:\n",
    "                L1,L2=L2,L1\n",
    "            for k in range(L1,L2+1):\n",
    "                chars.append(str(chr(k)))\n",
    "            if len(result)>1:\n",
    "                result+='|'\n",
    "            result+= '|'.join(chars)\n",
    "\n",
    "        if st[i-1].isdigit() and st[i+1].isdigit():\n",
    "            ints=[]\n",
    "            L1=int(st[i-1])\n",
    "            L2=int(st[i+1])\n",
    "            if L1>L2:\n",
    "                L1,L2=L2,L1\n",
    "            for k in range(L1,L2+1):\n",
    "                ints.append(str(k))\n",
    "            if len(result)>1:\n",
    "                result+='|'\n",
    "            result +=  '|'.join(ints)\n",
    "\n",
    "        Li=i+1\n",
    "    if len(result) > 1:\n",
    "        result += '|'\n",
    "        result+='|'.join(remain)\n",
    "        \n",
    "    return '('+result+')'\n",
    "    "
   ]
  },
  {
   "cell_type": "code",
   "execution_count": null,
   "id": "f3493047-3da3-4387-b897-6aab0353282b",
   "metadata": {
    "tags": []
   },
   "outputs": [],
   "source": [
    "def deal(s, stack_sign, dot, start):\n",
    "#  ^ .还没有写\n",
    "    if s== '·':\n",
    "        return deal_attach(s, stack_sign, dot, start)\n",
    "    elif s=='}':\n",
    "        return deal_hkh(s, stack_sign, dot, start)\n",
    "    elif s=='|':\n",
    "        return deal_or(s, stack_sign, dot, start)\n",
    "    elif s=='+':\n",
    "        return deal_zbb(s, stack_sign, dot, start)\n",
    "    elif s=='*':\n",
    "        return deal_bb(s, stack_sign, dot, start)\n",
    "    elif s=='.':\n",
    "        return deal_dian(s, stack_sign, dot, start)"
   ]
  },
  {
   "cell_type": "code",
   "execution_count": null,
   "id": "121009fd-508c-4f1b-8ced-f840dd35a041",
   "metadata": {
    "tags": []
   },
   "outputs": [],
   "source": [
    "def get_st(zz,index,stack_cal):\n",
    "    if index+1<len(zz) and zz[index+1].isalpha() :\n",
    "        stack_cal.append('·')\n",
    "    elif index+1<len(zz) and zz[index+1]=='(':\n",
    "        stack_cal.append('·')\n",
    "    return stack_cal"
   ]
  },
  {
   "cell_type": "code",
   "execution_count": null,
   "id": "b55aad97-1442-4bd3-af61-ecfb32d3d6c4",
   "metadata": {
    "tags": []
   },
   "outputs": [],
   "source": [
    "# '·'表示连接运算符\n",
    "level = {\n",
    "\n",
    "    '+': 3, '\\\\': 5, '|': 1, '*': 4, '.': 2, '?': 3, '{': 3, '}': 3.5, '(': 4, ')': 4.5, '[': 4, ']': 4.5, '^': 2,\n",
    "    '$': 2,\n",
    "    '·': 2,\n",
    "}\n",
    "\n",
    "# 实例化一个Digraph对象(有向图)，name:生成的图片的图片名，format:生成的图片格式\n",
    "dot = nx.DiGraph(splines=True)\n",
    "index = 0\n",
    "cnt = 1\n",
    "d = Subgraph(dot=dot)\n",
    "d.add_node(name=str(0) + 'start',color='red')\n",
    "d.head = str(0) + 'start'\n",
    "d.tail = str(0) + 'start'\n",
    "d.label='start'\n",
    "\n",
    "# 存储运算符\n",
    "stack_cal = ['#', '·']\n",
    "# 存储非运算符 sgm表示空字符\n",
    "stack_sign = [d]\n",
    "\n",
    "zz =  '(a|b)*abb(a|b)*'\n",
    "zm=[]\n",
    "while True:\n",
    "    s = zz[index]\n",
    "    plot(dot)\n",
    "    print('当前stack_cal',stack_cal,s)\n",
    "    print('剩余',len(stack_sign))\n",
    "    print('当前尾节点',stack_sign[-1].tail,'当前头节点',stack_sign[-1].head,'当前节点label',stack_sign[-1].label)\n",
    "    \n",
    "    if s in ['+', '\\\\', '|', '*', '.', '?', '{', '}', '(', ')', '[', ']']:\n",
    "        if level[stack_cal[-1]] < level[s]:\n",
    "            if s == '}':\n",
    "                stack_sign, cnt = deal(s, stack_sign, dot, cnt)\n",
    "                while stack_cal[-1] != '{':\n",
    "                    stack_sign, cnt = deal_hkh(s, stack_sign, dot, cnt)\n",
    "               \n",
    "            elif s == ')':\n",
    "                stack_sign, cnt = deal(stack_cal.pop(), stack_sign, dot, cnt)\n",
    "                while stack_cal[-1] != '(':\n",
    "                    stack_sign, cnt = deal(stack_cal.pop(), stack_sign, dot, cnt)\n",
    "                stack_cal.pop()\n",
    "             \n",
    "            elif s == ']':\n",
    "                st = ''\n",
    "                while stack_cal[-1] != '[':\n",
    "                    st += stack_sign.pop(-1).label\n",
    "                    stack_cal.pop(-1)\n",
    "                st = deal_fkh(st)\n",
    "                if st[-2]=='|':\n",
    "                    st=st[:-2]+')'\n",
    "            \n",
    "\n",
    "                \n",
    "                for m in st:\n",
    "                    if m not in level.keys():\n",
    "                        d = Subgraph(dot)\n",
    "                        d.add_node(name=f'{cnt}' + f' {m}')\n",
    "                        d.head = str(cnt) + f' {m}'\n",
    "                        d.tail = str(cnt) + f' {m}'\n",
    "                        d.label = m\n",
    "                        stack_sign.append(d)\n",
    "                        cnt += 1\n",
    "                    elif m != ')':\n",
    "                        stack_cal.append(m)\n",
    "                     \n",
    "                    elif m == ')':\n",
    "                        stack_sign, cnt = deal(stack_cal.pop(), stack_sign, dot, cnt)\n",
    "                        while stack_cal[-1] != '(':\n",
    "                            stack_sign, cnt = deal(stack_cal.pop(), stack_sign, dot, cnt)\n",
    "                        stack_cal.pop()\n",
    "                       \n",
    "                stack_cal.pop()\n",
    "              \n",
    "            \n",
    "            elif s in ['(', '[', '{']:\n",
    "                stack_cal.append(s)\n",
    "                \n",
    "            else:\n",
    "                stack_cal.append(s)\n",
    "                stack_sign, cnt = deal(stack_cal.pop(), stack_sign, dot, cnt)\n",
    "\n",
    "        elif level[stack_cal[-1]] == level[s] :\n",
    "            if stack_cal[-1]==s and s=='(':\n",
    "                stack_cal.append(s)\n",
    "            elif stack_cal[-1]!=s :\n",
    "                stack_cal.append(s)\n",
    "                stack_sign, cnt = deal(stack_cal.pop(), stack_sign, dot, cnt)\n",
    "                \n",
    "            else:\n",
    "                stack_cal.pop()\n",
    "        else:\n",
    "            stack_cal.append(s)\n",
    "#             右符号的连接\n",
    "        if s in [')',']','}','*','+','.']:\n",
    "            stack_cal=get_st(zz,index,stack_cal)\n",
    "\n",
    "    else:\n",
    "        stack_cal=get_st(zz,index,stack_cal)\n",
    "        zm.append(s)\n",
    "        d = Subgraph(dot)\n",
    "        d.add_node(name=f'{cnt}')\n",
    "        d.head = str(cnt) \n",
    "        d.tail = str(cnt) \n",
    "        d.label = s\n",
    "        stack_sign.append(d)\n",
    "        cnt += 1\n",
    "  \n",
    "    index += 1\n",
    "    if index >= len(zz):\n",
    "        break\n",
    "\n",
    "while len(stack_cal) != 1 :\n",
    "    # plot(dot)\n",
    "    # print('当前尾节点',stack_sign[-1].tail,'当前头节点',stack_sign[-1].head,'当前节点label',stack_sign[-1].label)\n",
    "    # print('剩余',stack_cal)\n",
    "    stack_sign, cnt = deal(stack_cal[-1], stack_sign, dot, cnt)\n",
    "    stack_cal.pop()"
   ]
  },
  {
   "cell_type": "code",
   "execution_count": null,
   "id": "cc7e0a87-94a8-4807-9ac0-fb28797d2de8",
   "metadata": {
    "tags": []
   },
   "outputs": [],
   "source": [
    "z_node=[]\n",
    "for n in dot.nodes:\n",
    "    if dot.out_degree(n)==0 and n!='0start':\n",
    "        z_node.append(n)\n",
    "        continue\n",
    "zt_n=z_node[0]"
   ]
  },
  {
   "cell_type": "code",
   "execution_count": null,
   "id": "b950c53f-87dd-49eb-ad8e-9ee556336caf",
   "metadata": {
    "tags": []
   },
   "outputs": [],
   "source": [
    "d.add_node(name= 'end',shape='doublecircle')\n",
    "dot.add_edge(z_node[0],'end',name='sgm')"
   ]
  },
  {
   "cell_type": "code",
   "execution_count": null,
   "id": "7568ce64-2e63-4bda-92f8-6b5b77244e25",
   "metadata": {
    "tags": []
   },
   "outputs": [],
   "source": [
    "plot(dot)\n",
    "dot.remove_node('end')"
   ]
  },
  {
   "cell_type": "code",
   "execution_count": null,
   "id": "67c5fb7f-69e1-4e93-916a-d0a564b583a4",
   "metadata": {
    "tags": []
   },
   "outputs": [],
   "source": [
    "import gc\n",
    "gc.collect()"
   ]
  },
  {
   "cell_type": "markdown",
   "id": "030f0106-fd3b-43c8-88ab-9a6d92a04b42",
   "metadata": {
    "tags": []
   },
   "source": [
    "# 第二步 NFA->DFA"
   ]
  },
  {
   "cell_type": "code",
   "execution_count": null,
   "id": "0cdafbb2-8716-47d5-82eb-60676f2a84b2",
   "metadata": {
    "tags": []
   },
   "outputs": [],
   "source": [
    "def get_closure(nn,la,res,dot,gy):\n",
    "    f=False\n",
    "    r=dict(dot[nn].items())\n",
    "    for m,n in zip(r.keys(),r.values()):\n",
    "        if n['name']==la and m!=nn and m not in gy:\n",
    "            f=True\n",
    "            if m not in gy:\n",
    "                gy.append(m)\n",
    "            res=get_closure(nn=m,la=la,res=res,dot=dot,gy=gy)\n",
    "    \n",
    "    res.append(nn)\n",
    "    return res"
   ]
  },
  {
   "cell_type": "code",
   "execution_count": null,
   "id": "0ce0c78a-a43c-4763-8580-fe2db58e11d4",
   "metadata": {
    "tags": []
   },
   "outputs": [],
   "source": [
    "def get_I(nn,la,res,dot):\n",
    "    f=False\n",
    "    r=dict(dot[nn].items())\n",
    "    for m,n in zip(r.keys(),r.values()):\n",
    "        if n['name']==la :\n",
    "            f=True\n",
    "            res.append(m)\n",
    "    return res\n",
    "    "
   ]
  },
  {
   "cell_type": "code",
   "execution_count": null,
   "id": "07042c96-8502-412a-ab13-6260632b93ea",
   "metadata": {
    "tags": []
   },
   "outputs": [],
   "source": [
    "dr={}\n",
    "for n in dot.nodes:\n",
    "    k=get_closure(n,res=[],la='sgm',dot=dot,gy=[])\n",
    "    dr[n]=list(set(k))\n",
    "start=list(dict(dot['0start'].items()).keys())[0]"
   ]
  },
  {
   "cell_type": "code",
   "execution_count": null,
   "id": "12d3e014-45d0-4908-a29d-db0ad1b0afb6",
   "metadata": {
    "tags": []
   },
   "outputs": [],
   "source": [
    "import pandas as pd\n",
    "import numpy as np\n",
    "zm=list(set(zm))\n",
    "df=pd.DataFrame()\n",
    "df=pd.DataFrame(np.zeros(len(zm)+1))\n",
    "df=df.T\n",
    "df.columns=['sgmlist']+zm\n",
    "df.iloc[0,0]='['+','.join(dr[start])+']'"
   ]
  },
  {
   "cell_type": "code",
   "execution_count": null,
   "id": "efa074aa-7612-440b-b163-1225b8879676",
   "metadata": {
    "tags": []
   },
   "outputs": [],
   "source": [
    "n_index=0\n",
    "new_=1\n",
    "while True:\n",
    "    change=False\n",
    "    for z in zm:\n",
    "        move=[]\n",
    "        for m in eval(df.iloc[n_index,0]):\n",
    "            t=list(set(get_I(str(m),res=[],la=z,dot=dot)))\n",
    "            move+=t\n",
    "        move=list(set(move))\n",
    "        \n",
    "        res=[]\n",
    "        for m in move:\n",
    "            res+=dr[m]\n",
    "        df.loc[n_index,z]='['+','.join(res)+']'\n",
    "       \n",
    "        \n",
    "        if df.loc[n_index,z] not in df.iloc[:,0].unique():\n",
    "            change=True\n",
    "            df.loc[new_,'sgmlist']='['+','.join(res)+']'\n",
    "            new_+=1\n",
    "    if not change and len(df[df[zm[0]].isna()])==0 :\n",
    "        break\n",
    "    n_index+=1\n",
    "        "
   ]
  },
  {
   "cell_type": "code",
   "execution_count": null,
   "id": "44e67a2f-16f8-48e7-a9fe-628a1fbc59a5",
   "metadata": {
    "tags": []
   },
   "outputs": [],
   "source": [
    "zt_p=df.loc[:,'sgmlist'].apply(lambda x : zt_n in x)\n",
    "ct_p=df.loc[:,'sgmlist'].apply(lambda x : start in x)"
   ]
  },
  {
   "cell_type": "code",
   "execution_count": null,
   "id": "692e7f1f-26d4-4718-9f7b-83bfd4a73b7a",
   "metadata": {
    "tags": []
   },
   "outputs": [],
   "source": [
    "pre_sgm=df['sgmlist']"
   ]
  },
  {
   "cell_type": "code",
   "execution_count": null,
   "id": "d8f217bb-8793-41bb-aa49-90e47faf8118",
   "metadata": {
    "tags": []
   },
   "outputs": [],
   "source": [
    "df"
   ]
  },
  {
   "cell_type": "code",
   "execution_count": null,
   "id": "7f3aed75-7d9d-4fcc-bb0a-29844591b9d6",
   "metadata": {
    "tags": []
   },
   "outputs": [],
   "source": [
    "from sklearn.preprocessing import LabelEncoder\n",
    "La=LabelEncoder()\n",
    "\n",
    "for i in range(len(df.columns)):\n",
    "    df.iloc[:,i]=df.iloc[:,i].astype(str)\n",
    "    if i==0:\n",
    "        df.iloc[:,i]=La.fit_transform(df.iloc[:,i])\n",
    "    else:\n",
    "        df.iloc[:,i]=La.transform(df.iloc[:,i])\n",
    "        "
   ]
  },
  {
   "cell_type": "code",
   "execution_count": null,
   "id": "07a48d11-fca0-440a-b8ab-2d061adecd66",
   "metadata": {
    "tags": []
   },
   "outputs": [],
   "source": [
    "if '[]' in list(pre_sgm):\n",
    "    kong=La.transform(['[]'])[0]\n",
    "else:\n",
    "    kong=''"
   ]
  },
  {
   "cell_type": "code",
   "execution_count": null,
   "id": "b1f68193-9da1-4f40-8f4a-01c7d260d498",
   "metadata": {
    "tags": []
   },
   "outputs": [],
   "source": [
    "# 连接点是否不全为空点\n",
    "def add(i,kong):\n",
    "    for j in range(1,len(i)):\n",
    "        if j!=kong:\n",
    "            return True\n",
    "    return False"
   ]
  },
  {
   "cell_type": "code",
   "execution_count": null,
   "id": "6642c3f0-9b63-42ed-bc5f-b0a94ff8501b",
   "metadata": {},
   "outputs": [],
   "source": [
    "def hasIntersection(a, b):\n",
    "        return not set(a).isdisjoint(b)"
   ]
  },
  {
   "cell_type": "code",
   "execution_count": null,
   "id": "6eca0a7b-43f1-415d-87f3-8b6c91b4ae48",
   "metadata": {
    "tags": []
   },
   "outputs": [],
   "source": [
    "dot2 = nx.DiGraph(splines=True)\n",
    "cnt=0\n",
    "# 确定终态和初态\n",
    "zt_nodes=[]\n",
    "ct_nodes=[]\n",
    "zm_new=[]\n",
    "for i in df.values:\n",
    "    if i[0]!=kong:\n",
    "        if zt_p[cnt]:\n",
    "            if add(i,kong):\n",
    "                dot2.add_node(str(i[0]),shape='doublecircle')\n",
    "                zt_nodes.append(str(i[0]))\n",
    "#         elif ct_p[cnt]:\n",
    "#             if add(i,kong):\n",
    "#                 dot2.add_node(str(i[0]),color='red')\n",
    "#                 ct_nodes.append(str(i[0]))\n",
    "        \n",
    "        cnt+=1\n",
    "        for j in range(1,len(i)):\n",
    "            if i[j]!=kong and i[0]!=kong:\n",
    "                if dot2.has_edge(str(i[0]), str(i[j])) and not hasIntersection(zm[j-1], dot2[str(i[0])][str(i[j])]['name']) :\n",
    "                    zm[j-1]+=' or '+dot2[str(i[0])][str(i[j])]['name']\n",
    "                if zm[j-1] not in zm_new:\n",
    "                    zm_new.append(zm[j-1])\n",
    "                dot2.add_edge(str(i[0]),str(i[j]),name=zm[j-1])"
   ]
  },
  {
   "cell_type": "code",
   "execution_count": null,
   "id": "29e32a14-58bc-441b-83f1-7ccd70000bcf",
   "metadata": {},
   "outputs": [],
   "source": []
  },
  {
   "cell_type": "code",
   "execution_count": null,
   "id": "8690b752-0ebb-4ae9-af73-0368e8eeb504",
   "metadata": {
    "tags": []
   },
   "outputs": [],
   "source": []
  },
  {
   "cell_type": "code",
   "execution_count": null,
   "id": "e5f2c248-e6dc-4902-b47d-b0f958e3c99f",
   "metadata": {
    "tags": []
   },
   "outputs": [],
   "source": [
    "kong"
   ]
  },
  {
   "cell_type": "code",
   "execution_count": null,
   "id": "046ca0bb-8f23-4d75-880d-e70ad89928dd",
   "metadata": {
    "tags": []
   },
   "outputs": [],
   "source": [
    "df"
   ]
  },
  {
   "cell_type": "code",
   "execution_count": null,
   "id": "575236f1-82fa-49d3-aed0-323c3565f156",
   "metadata": {},
   "outputs": [],
   "source": []
  },
  {
   "cell_type": "code",
   "execution_count": null,
   "id": "0cdaf564-1cef-46c8-a751-5bb7ca1e4054",
   "metadata": {
    "tags": []
   },
   "outputs": [],
   "source": [
    "hasIntersection('ab', 'b')"
   ]
  },
  {
   "cell_type": "code",
   "execution_count": null,
   "id": "abb6432e-7d8a-4d94-affd-7a0e1c535a8b",
   "metadata": {
    "tags": []
   },
   "outputs": [],
   "source": [
    "plot(dot2)"
   ]
  },
  {
   "cell_type": "markdown",
   "id": "5e2ac308-f038-4945-89ab-02c540d071c1",
   "metadata": {},
   "source": [
    "# DFA的最小化"
   ]
  },
  {
   "cell_type": "markdown",
   "id": "9ae159af-9130-487b-b5ce-d92cf6ba3aaf",
   "metadata": {},
   "source": [
    "## 终态的定义：自连接的状态，由其他终态指向的状态、出度为0的状态\n",
    "## 转min_DFA这部分存在问题，dfa倒是OK了。后面换一种最小化方法"
   ]
  },
  {
   "cell_type": "code",
   "execution_count": null,
   "id": "c33a165f-643f-476f-8fe8-91727cee0809",
   "metadata": {
    "tags": []
   },
   "outputs": [],
   "source": [
    "# dot2=nx.DiGraph()\n",
    "# # 书上的测试数据\n",
    "# dot2.add_edge('S','A',name='a')\n",
    "# dot2.add_edge('S','B',name='b')\n",
    "# dot2.add_edge('A','B',name='b')\n",
    "# dot2.add_edge('B','A',name='a')\n",
    "# dot2.add_edge('A','C',name='a')\n",
    "# dot2.add_edge('B','D',name='b')\n",
    "# dot2.add_edge('C','C',name='a')\n",
    "# dot2.add_edge('C','E',name='b')\n",
    "# dot2.add_edge('D','D',name='b')\n",
    "# dot2.add_edge('D','F',name='a')\n",
    "# dot2.add_edge('E','D',name='b')\n",
    "# dot2.add_edge('E','F',name='a')\n",
    "# dot2.add_edge('F','C',name='a')\n",
    "# dot2.add_edge('F','E',name='b')\n",
    "# plot(dot2)"
   ]
  },
  {
   "cell_type": "code",
   "execution_count": null,
   "id": "8e9c179f-63cd-4509-89e2-736872c8f65e",
   "metadata": {
    "tags": []
   },
   "outputs": [],
   "source": [
    "def reverse_dict(dic):\n",
    "    \n",
    "    v=dic.values()\n",
    "    nd={}\n",
    "    for (a,s) in dic.items():\n",
    "        if s in nd.keys():\n",
    "            nd[s].append(a)\n",
    "        else:\n",
    "            nd[s]=[a]\n",
    "    return nd\n",
    "    "
   ]
  },
  {
   "cell_type": "code",
   "execution_count": null,
   "id": "90933ab9-8ab3-4777-a4e1-608c73045c9c",
   "metadata": {
    "tags": []
   },
   "outputs": [],
   "source": [
    "fzt_node=[]\n",
    "zm=zm_new\n",
    "for n in dot2.nodes:\n",
    "    if n not in zt_nodes:\n",
    "        fzt_node.append(n)"
   ]
  },
  {
   "cell_type": "code",
   "execution_count": null,
   "id": "1042206a-b29a-4ab3-8b15-a42ddea044b5",
   "metadata": {
    "tags": []
   },
   "outputs": [],
   "source": [
    "if len(fzt_node)>=1:\n",
    "    zj=[fzt_node,zt_nodes]\n",
    "else:\n",
    "    zj=[zt_nodes]\n",
    "print(zj)"
   ]
  },
  {
   "cell_type": "code",
   "execution_count": null,
   "id": "74c92e43-7620-4178-8248-f4f32c5494a8",
   "metadata": {
    "tags": []
   },
   "outputs": [],
   "source": [
    "zj"
   ]
  },
  {
   "cell_type": "code",
   "execution_count": null,
   "id": "0ff25b55-3116-4837-a5ba-528904da40ae",
   "metadata": {},
   "outputs": [],
   "source": [
    "import statistics as stats"
   ]
  },
  {
   "cell_type": "code",
   "execution_count": 105,
   "id": "ddbc65b8-4fa7-4e56-9f0e-3777febb6a6f",
   "metadata": {
    "execution": {
     "iopub.execute_input": "2022-04-27T02:35:18.934741Z",
     "iopub.status.busy": "2022-04-27T02:35:18.934741Z",
     "iopub.status.idle": "2022-04-27T02:35:18.945711Z",
     "shell.execute_reply": "2022-04-27T02:35:18.945711Z",
     "shell.execute_reply.started": "2022-04-27T02:35:18.934741Z"
    },
    "tags": []
   },
   "outputs": [],
   "source": [
    "def get_fizj(zj,dot2):\n",
    "    while True:\n",
    "        change_cnt=len(zj)\n",
    "        for z in zm:            \n",
    "            zj2=zj.copy()\n",
    "            for m in zj.copy():\n",
    "                print('当前子集',m)\n",
    "                dt={}\n",
    "                rea_change=[]\n",
    "                for k in m:\n",
    "                        e=get_I(str(k),la=z,res=[],dot=dot2)\n",
    "                        if len(e)==0:\n",
    "                            dt[f'{k}']='kong'\n",
    "                        else:\n",
    "                            dt[f'{k}']=f'{e[0]}'\n",
    "                            rea_change.append(f'{e[0]}')\n",
    "        #         如果存在其后接子集与另一个子集的差集等于该后接子集，则该子集无法区分\n",
    "\n",
    "                print('后接子集',rea_change,'字母',z)\n",
    "                change=True\n",
    "                cc=[]\n",
    "                res=[]\n",
    "                for r in zj.copy():\n",
    "                    r=set(r)\n",
    "                    if list(set(rea_change)&r)==list(set(rea_change)):\n",
    "                        print('存在完全相等集合',r,rea_change,'集合不可区分')\n",
    "                        change=False\n",
    "                        break\n",
    "                    else:\n",
    "                        temp2=set(rea_change)&r\n",
    "                        if len(temp2)!=0:\n",
    "                            res.append(list(temp2))\n",
    "\n",
    "\n",
    "\n",
    "                dt_verse=reverse_dict(dt)\n",
    "\n",
    "                if change:\n",
    "                    print('改变了','映射是',dt)\n",
    "                    zj2.remove(m)\n",
    "\n",
    "                    for f in res:\n",
    "                        ttt=[]\n",
    "                        for q in f:\n",
    "                            ttt.extend(dt_verse[q])\n",
    "                        zj2.append(ttt)\n",
    "                    print( '翻转映射',dt_verse,'新子集：',zj2)\n",
    "                else:\n",
    "                    print('\\n\\n')\n",
    "                    continue\n",
    "                print('\\n\\n')\n",
    "        zj=zj2\n",
    "        print('子集变成了',zj)\n",
    "        if change_cnt==len(zj):\n",
    "            return zj2        \n",
    "\n",
    "\n",
    "\n"
   ]
  },
  {
   "cell_type": "code",
   "execution_count": null,
   "id": "d883124b-ec8d-4cd6-8865-19de624d6568",
   "metadata": {
    "tags": []
   },
   "outputs": [],
   "source": [
    "\n",
    "        \n"
   ]
  },
  {
   "cell_type": "code",
   "execution_count": 106,
   "id": "84d839a8-fe70-4e91-94ce-6598b1977496",
   "metadata": {
    "execution": {
     "iopub.execute_input": "2022-04-27T02:35:19.453537Z",
     "iopub.status.busy": "2022-04-27T02:35:19.453537Z",
     "iopub.status.idle": "2022-04-27T02:35:19.458553Z",
     "shell.execute_reply": "2022-04-27T02:35:19.458553Z",
     "shell.execute_reply.started": "2022-04-27T02:35:19.453537Z"
    },
    "tags": []
   },
   "outputs": [
    {
     "data": {
      "text/plain": [
       "[['8', '6', '7', '0'], ['4', '9', '3', '5', '1', '2']]"
      ]
     },
     "execution_count": 106,
     "metadata": {},
     "output_type": "execute_result"
    }
   ],
   "source": [
    "zj"
   ]
  },
  {
   "cell_type": "code",
   "execution_count": 107,
   "id": "f64ebdf6-e139-46d2-8c07-40e60e5fdb7f",
   "metadata": {
    "execution": {
     "iopub.execute_input": "2022-04-27T02:35:19.750805Z",
     "iopub.status.busy": "2022-04-27T02:35:19.750805Z",
     "iopub.status.idle": "2022-04-27T02:35:19.766729Z",
     "shell.execute_reply": "2022-04-27T02:35:19.765730Z",
     "shell.execute_reply.started": "2022-04-27T02:35:19.750805Z"
    },
    "tags": []
   },
   "outputs": [
    {
     "name": "stdout",
     "output_type": "stream",
     "text": [
      "当前子集 ['8', '6', '7', '0']\n",
      "后接子集 ['6', '6', '6', '6'] 字母 a\n",
      "存在完全相等集合 {'6', '8', '7', '0'} ['6', '6', '6', '6'] 集合不可区分\n",
      "\n",
      "\n",
      "\n",
      "当前子集 ['4', '9', '3', '5', '1', '2']\n",
      "后接子集 ['9', '5', '9', '9', '9', '9'] 字母 a\n",
      "存在完全相等集合 {'9', '5', '3', '1', '4', '2'} ['9', '5', '9', '9', '9', '9'] 集合不可区分\n",
      "\n",
      "\n",
      "\n",
      "当前子集 ['8', '6', '7', '0']\n",
      "后接子集 ['7', '0', '7', '4'] 字母 b\n",
      "改变了 映射是 {'8': '7', '6': '0', '7': '7', '0': '4'}\n",
      "翻转映射 {'7': ['8', '7'], '0': ['6'], '4': ['0']} 新子集： [['4', '9', '3', '5', '1', '2'], ['8', '7', '6'], ['0']]\n",
      "\n",
      "\n",
      "\n",
      "当前子集 ['4', '9', '3', '5', '1', '2']\n",
      "后接子集 ['3', '1', '3', '1', '2', '3'] 字母 b\n",
      "改变了 映射是 {'4': '3', '9': '1', '3': '3', '5': '1', '1': '2', '2': '3'}\n",
      "翻转映射 {'3': ['4', '3', '2'], '1': ['9', '5'], '2': ['1']} 新子集： [['8', '7', '6'], ['0'], ['1', '9', '5', '4', '3', '2']]\n",
      "\n",
      "\n",
      "\n",
      "子集变成了 [['8', '7', '6'], ['0'], ['1', '9', '5', '4', '3', '2']]\n",
      "当前子集 ['8', '7', '6']\n",
      "后接子集 ['6', '6', '6'] 字母 a\n",
      "存在完全相等集合 {'6', '8', '7'} ['6', '6', '6'] 集合不可区分\n",
      "\n",
      "\n",
      "\n",
      "当前子集 ['0']\n",
      "后接子集 ['6'] 字母 a\n",
      "存在完全相等集合 {'6', '8', '7'} ['6'] 集合不可区分\n",
      "\n",
      "\n",
      "\n",
      "当前子集 ['1', '9', '5', '4', '3', '2']\n",
      "后接子集 ['9', '5', '9', '9', '9', '9'] 字母 a\n",
      "存在完全相等集合 {'9', '5', '3', '1', '4', '2'} ['9', '5', '9', '9', '9', '9'] 集合不可区分\n",
      "\n",
      "\n",
      "\n",
      "当前子集 ['8', '7', '6']\n",
      "后接子集 ['7', '7', '0'] 字母 b\n",
      "改变了 映射是 {'8': '7', '7': '7', '6': '0'}\n",
      "翻转映射 {'7': ['8', '7'], '0': ['6']} 新子集： [['0'], ['1', '9', '5', '4', '3', '2'], ['8', '7'], ['6']]\n",
      "\n",
      "\n",
      "\n",
      "当前子集 ['0']\n",
      "后接子集 ['4'] 字母 b\n",
      "存在完全相等集合 {'9', '5', '3', '1', '4', '2'} ['4'] 集合不可区分\n",
      "\n",
      "\n",
      "\n",
      "当前子集 ['1', '9', '5', '4', '3', '2']\n",
      "后接子集 ['2', '1', '1', '3', '3', '3'] 字母 b\n",
      "存在完全相等集合 {'9', '5', '3', '1', '4', '2'} ['2', '1', '1', '3', '3', '3'] 集合不可区分\n",
      "\n",
      "\n",
      "\n",
      "子集变成了 [['0'], ['1', '9', '5', '4', '3', '2'], ['8', '7'], ['6']]\n",
      "当前子集 ['0']\n",
      "后接子集 ['6'] 字母 a\n",
      "存在完全相等集合 {'6'} ['6'] 集合不可区分\n",
      "\n",
      "\n",
      "\n",
      "当前子集 ['1', '9', '5', '4', '3', '2']\n",
      "后接子集 ['9', '5', '9', '9', '9', '9'] 字母 a\n",
      "存在完全相等集合 {'9', '5', '3', '1', '4', '2'} ['9', '5', '9', '9', '9', '9'] 集合不可区分\n",
      "\n",
      "\n",
      "\n",
      "当前子集 ['8', '7']\n",
      "后接子集 ['6', '6'] 字母 a\n",
      "存在完全相等集合 {'6'} ['6', '6'] 集合不可区分\n",
      "\n",
      "\n",
      "\n",
      "当前子集 ['6']\n",
      "后接子集 ['6'] 字母 a\n",
      "存在完全相等集合 {'6'} ['6'] 集合不可区分\n",
      "\n",
      "\n",
      "\n",
      "当前子集 ['0']\n",
      "后接子集 ['4'] 字母 b\n",
      "存在完全相等集合 {'9', '5', '3', '1', '4', '2'} ['4'] 集合不可区分\n",
      "\n",
      "\n",
      "\n",
      "当前子集 ['1', '9', '5', '4', '3', '2']\n",
      "后接子集 ['2', '1', '1', '3', '3', '3'] 字母 b\n",
      "存在完全相等集合 {'9', '5', '3', '1', '4', '2'} ['2', '1', '1', '3', '3', '3'] 集合不可区分\n",
      "\n",
      "\n",
      "\n",
      "当前子集 ['8', '7']\n",
      "后接子集 ['7', '7'] 字母 b\n",
      "存在完全相等集合 {'8', '7'} ['7', '7'] 集合不可区分\n",
      "\n",
      "\n",
      "\n",
      "当前子集 ['6']\n",
      "后接子集 ['0'] 字母 b\n",
      "存在完全相等集合 {'0'} ['0'] 集合不可区分\n",
      "\n",
      "\n",
      "\n",
      "子集变成了 [['0'], ['1', '9', '5', '4', '3', '2'], ['8', '7'], ['6']]\n"
     ]
    },
    {
     "data": {
      "text/plain": [
       "[['0'], ['1', '9', '5', '4', '3', '2'], ['8', '7'], ['6']]"
      ]
     },
     "execution_count": 107,
     "metadata": {},
     "output_type": "execute_result"
    }
   ],
   "source": [
    "# 最终子集 \n",
    "\n",
    "zj_final=get_fizj(zj,dot2)\n",
    "zj_final"
   ]
  },
  {
   "cell_type": "code",
   "execution_count": 88,
   "id": "019d4b9d-357a-4a30-b45e-daaa811c0ab1",
   "metadata": {
    "execution": {
     "iopub.execute_input": "2022-04-27T02:32:21.509191Z",
     "iopub.status.busy": "2022-04-27T02:32:21.509191Z",
     "iopub.status.idle": "2022-04-27T02:32:21.514178Z",
     "shell.execute_reply": "2022-04-27T02:32:21.514178Z",
     "shell.execute_reply.started": "2022-04-27T02:32:21.509191Z"
    },
    "tags": []
   },
   "outputs": [],
   "source": [
    "t_dic={}\n",
    "for j in zj_final:\n",
    "    if len(j)>1:\n",
    "        for l in j:\n",
    "            t_dic[l]=j[0]\n",
    "    elif len(j)==1:\n",
    "        t_dic[j[0]]=j[0]"
   ]
  },
  {
   "cell_type": "code",
   "execution_count": 89,
   "id": "129a397f-06eb-4a3d-88fb-71dea52044f0",
   "metadata": {
    "execution": {
     "iopub.execute_input": "2022-04-27T02:32:21.841331Z",
     "iopub.status.busy": "2022-04-27T02:32:21.840362Z",
     "iopub.status.idle": "2022-04-27T02:32:21.844657Z",
     "shell.execute_reply": "2022-04-27T02:32:21.844297Z",
     "shell.execute_reply.started": "2022-04-27T02:32:21.841331Z"
    },
    "tags": []
   },
   "outputs": [],
   "source": [
    "dot_f=nx.DiGraph()"
   ]
  },
  {
   "cell_type": "code",
   "execution_count": 90,
   "id": "991343ad-fae9-4c6c-92ff-7ba9c3d70f94",
   "metadata": {
    "execution": {
     "iopub.execute_input": "2022-04-27T02:32:22.108733Z",
     "iopub.status.busy": "2022-04-27T02:32:22.108733Z",
     "iopub.status.idle": "2022-04-27T02:32:22.113749Z",
     "shell.execute_reply": "2022-04-27T02:32:22.113749Z",
     "shell.execute_reply.started": "2022-04-27T02:32:22.108733Z"
    },
    "tags": []
   },
   "outputs": [
    {
     "data": {
      "text/plain": [
       "{'0': '0',\n",
       " '1': '1',\n",
       " '9': '1',\n",
       " '5': '1',\n",
       " '4': '1',\n",
       " '3': '1',\n",
       " '2': '1',\n",
       " '8': '8',\n",
       " '7': '8',\n",
       " '6': '6'}"
      ]
     },
     "execution_count": 90,
     "metadata": {},
     "output_type": "execute_result"
    }
   ],
   "source": [
    "t_dic"
   ]
  },
  {
   "cell_type": "code",
   "execution_count": 91,
   "id": "8a9ccd25-ae7a-465d-af7d-868dcc37a13a",
   "metadata": {
    "execution": {
     "iopub.execute_input": "2022-04-27T02:32:22.433863Z",
     "iopub.status.busy": "2022-04-27T02:32:22.433863Z",
     "iopub.status.idle": "2022-04-27T02:32:22.439847Z",
     "shell.execute_reply": "2022-04-27T02:32:22.439847Z",
     "shell.execute_reply.started": "2022-04-27T02:32:22.433863Z"
    },
    "tags": []
   },
   "outputs": [],
   "source": [
    "kk=[]\n",
    "\n",
    "dr={}\n",
    "dy={}\n",
    "for z in zm:\n",
    "    for n in dot2.nodes:\n",
    "        k=get_I(n,res=[],la=z,dot=dot2)\n",
    "        if len(k)>0:\n",
    "#             if n in t_dic.keys():\n",
    "            k=list(set(k))[0]\n",
    "            kk.append(f'{t_dic[n]}_{t_dic[k]}_{z}')"
   ]
  },
  {
   "cell_type": "code",
   "execution_count": 92,
   "id": "c12b6a24-c17c-4eec-b5a7-0ce1a1642497",
   "metadata": {
    "execution": {
     "iopub.execute_input": "2022-04-27T02:32:22.950206Z",
     "iopub.status.busy": "2022-04-27T02:32:22.949208Z",
     "iopub.status.idle": "2022-04-27T02:32:22.954228Z",
     "shell.execute_reply": "2022-04-27T02:32:22.954228Z",
     "shell.execute_reply.started": "2022-04-27T02:32:22.950206Z"
    },
    "tags": []
   },
   "outputs": [],
   "source": [
    "kk=list(set(kk))"
   ]
  },
  {
   "cell_type": "code",
   "execution_count": 93,
   "id": "b0cfb947-c085-4983-83f8-af24096a904c",
   "metadata": {
    "execution": {
     "iopub.execute_input": "2022-04-27T02:32:23.202434Z",
     "iopub.status.busy": "2022-04-27T02:32:23.201436Z",
     "iopub.status.idle": "2022-04-27T02:32:23.206422Z",
     "shell.execute_reply": "2022-04-27T02:32:23.206422Z",
     "shell.execute_reply.started": "2022-04-27T02:32:23.202434Z"
    },
    "tags": []
   },
   "outputs": [
    {
     "data": {
      "text/plain": [
       "['1_1_a', '8_6_a', '1_1_b', '6_0_b', '6_6_a', '0_1_b', '8_8_b', '0_6_a']"
      ]
     },
     "execution_count": 93,
     "metadata": {},
     "output_type": "execute_result"
    }
   ],
   "source": [
    "kk"
   ]
  },
  {
   "cell_type": "code",
   "execution_count": 94,
   "id": "422fd43d-4420-4aec-8444-27b147bd86c3",
   "metadata": {
    "execution": {
     "iopub.execute_input": "2022-04-27T02:32:23.527271Z",
     "iopub.status.busy": "2022-04-27T02:32:23.527271Z",
     "iopub.status.idle": "2022-04-27T02:32:23.535220Z",
     "shell.execute_reply": "2022-04-27T02:32:23.534256Z",
     "shell.execute_reply.started": "2022-04-27T02:32:23.527271Z"
    },
    "tags": []
   },
   "outputs": [],
   "source": [
    "for n in ct_nodes:\n",
    "    if n in list(t_dic.values()):\n",
    "        dot_f.add_node(n,color='red')\n",
    "for n in zt_nodes:\n",
    "    if n in list(t_dic.values()):\n",
    "        dot_f.add_node(n,shape='doublecircle')"
   ]
  },
  {
   "cell_type": "code",
   "execution_count": 95,
   "id": "4328b915-d294-4a3e-8f65-9a808cee2d2e",
   "metadata": {
    "execution": {
     "iopub.execute_input": "2022-04-27T02:32:24.649055Z",
     "iopub.status.busy": "2022-04-27T02:32:24.648053Z",
     "iopub.status.idle": "2022-04-27T02:32:24.659398Z",
     "shell.execute_reply": "2022-04-27T02:32:24.658395Z",
     "shell.execute_reply.started": "2022-04-27T02:32:24.649055Z"
    },
    "tags": []
   },
   "outputs": [
    {
     "data": {
      "text/plain": [
       "['4', '9', '3', '5', '1', '2']"
      ]
     },
     "execution_count": 95,
     "metadata": {},
     "output_type": "execute_result"
    }
   ],
   "source": [
    "zt_nodes"
   ]
  },
  {
   "cell_type": "code",
   "execution_count": 96,
   "id": "305b33de-afd3-45e4-b6d7-3da9b28c7dd0",
   "metadata": {
    "execution": {
     "iopub.execute_input": "2022-04-27T02:32:25.206572Z",
     "iopub.status.busy": "2022-04-27T02:32:25.205567Z",
     "iopub.status.idle": "2022-04-27T02:32:25.212545Z",
     "shell.execute_reply": "2022-04-27T02:32:25.212545Z",
     "shell.execute_reply.started": "2022-04-27T02:32:25.206572Z"
    },
    "tags": []
   },
   "outputs": [],
   "source": [
    "for k in kk:\n",
    "    k=k.split('_')\n",
    "    if k[0]==k[1]:\n",
    "        if dot_f.has_edge(k[0], k[1]):\n",
    "            k[2]+=' or '+dot_f[k[0]][k[1]]['name']\n",
    "    dot_f.add_edge(k[0],k[1],name=k[2])\n",
    "    "
   ]
  },
  {
   "cell_type": "code",
   "execution_count": 97,
   "id": "493d6802-7442-4f01-8554-6e7e2eaf7e0a",
   "metadata": {
    "execution": {
     "iopub.execute_input": "2022-04-27T02:32:25.508263Z",
     "iopub.status.busy": "2022-04-27T02:32:25.507275Z",
     "iopub.status.idle": "2022-04-27T02:32:25.512233Z",
     "shell.execute_reply": "2022-04-27T02:32:25.512233Z",
     "shell.execute_reply.started": "2022-04-27T02:32:25.508263Z"
    },
    "tags": []
   },
   "outputs": [],
   "source": [
    "# z_node=[]\n",
    "# for n in dot_f.nodes:\n",
    "#     if dot.in_degree(n)==0 :\n",
    "#         dot_f.add_edge('start',n,)\n",
    "        \n",
    "        \n",
    "        "
   ]
  },
  {
   "cell_type": "code",
   "execution_count": 98,
   "id": "40bcaa80-7f13-4945-bf4b-f5b78f529dfd",
   "metadata": {
    "execution": {
     "iopub.execute_input": "2022-04-27T02:32:25.960396Z",
     "iopub.status.busy": "2022-04-27T02:32:25.960396Z",
     "iopub.status.idle": "2022-04-27T02:32:26.078079Z",
     "shell.execute_reply": "2022-04-27T02:32:26.078079Z",
     "shell.execute_reply.started": "2022-04-27T02:32:25.960396Z"
    },
    "tags": []
   },
   "outputs": [
    {
     "data": {
      "image/svg+xml": [
       "<?xml version=\"1.0\" encoding=\"UTF-8\" standalone=\"no\"?>\n",
       "<!DOCTYPE svg PUBLIC \"-//W3C//DTD SVG 1.1//EN\"\n",
       " \"http://www.w3.org/Graphics/SVG/1.1/DTD/svg11.dtd\">\n",
       "<!-- Generated by graphviz version 2.38.0 (20140413.2041)\n",
       " -->\n",
       "<!-- Title: %3 Pages: 1 -->\n",
       "<svg width=\"219pt\" height=\"139pt\"\n",
       " viewBox=\"0.00 0.00 219.00 139.00\" xmlns=\"http://www.w3.org/2000/svg\" xmlns:xlink=\"http://www.w3.org/1999/xlink\">\n",
       "<g id=\"graph0\" class=\"graph\" transform=\"scale(1 1) rotate(0) translate(4 135)\">\n",
       "<title>%3</title>\n",
       "<polygon fill=\"white\" stroke=\"none\" points=\"-4,4 -4,-135 215,-135 215,4 -4,4\"/>\n",
       "<!-- 1 -->\n",
       "<g id=\"node1\" class=\"node\"><title>1</title>\n",
       "<ellipse fill=\"none\" stroke=\"black\" cx=\"22\" cy=\"-22\" rx=\"18\" ry=\"18\"/>\n",
       "<ellipse fill=\"none\" stroke=\"black\" cx=\"22\" cy=\"-22\" rx=\"22\" ry=\"22\"/>\n",
       "<text text-anchor=\"middle\" x=\"22\" y=\"-18.3\" font-family=\"Times New Roman,serif\" font-size=\"14.00\">1</text>\n",
       "</g>\n",
       "<!-- 1&#45;&gt;1 -->\n",
       "<g id=\"edge1\" class=\"edge\"><title>1&#45;&gt;1</title>\n",
       "<path fill=\"none\" stroke=\"black\" d=\"M42.5808,-30.3702C52.8447,-31.5284 62,-28.7383 62,-22 62,-17.6833 58.2427,-14.9869 52.8436,-13.9109\"/>\n",
       "<polygon fill=\"black\" stroke=\"black\" points=\"52.6729,-10.405 42.5808,-13.6298 52.4812,-17.4024 52.6729,-10.405\"/>\n",
       "<text text-anchor=\"middle\" x=\"79\" y=\"-18.3\" font-family=\"Times New Roman,serif\" font-size=\"14.00\">b or a</text>\n",
       "</g>\n",
       "<!-- 8 -->\n",
       "<g id=\"node2\" class=\"node\"><title>8</title>\n",
       "<ellipse fill=\"none\" stroke=\"black\" cx=\"158\" cy=\"-113\" rx=\"27\" ry=\"18\"/>\n",
       "<text text-anchor=\"middle\" x=\"158\" y=\"-109.3\" font-family=\"Times New Roman,serif\" font-size=\"14.00\">8</text>\n",
       "</g>\n",
       "<!-- 8&#45;&gt;8 -->\n",
       "<g id=\"edge3\" class=\"edge\"><title>8&#45;&gt;8</title>\n",
       "<path fill=\"none\" stroke=\"black\" d=\"M182.532,-120.752C193.508,-121.49 203,-118.906 203,-113 203,-109.032 198.715,-106.563 192.574,-105.594\"/>\n",
       "<polygon fill=\"black\" stroke=\"black\" points=\"192.647,-102.095 182.532,-105.248 192.406,-109.091 192.647,-102.095\"/>\n",
       "<text text-anchor=\"middle\" x=\"207\" y=\"-109.3\" font-family=\"Times New Roman,serif\" font-size=\"14.00\">b</text>\n",
       "</g>\n",
       "<!-- 6 -->\n",
       "<g id=\"node3\" class=\"node\"><title>6</title>\n",
       "<ellipse fill=\"none\" stroke=\"black\" cx=\"141\" cy=\"-22\" rx=\"27\" ry=\"18\"/>\n",
       "<text text-anchor=\"middle\" x=\"141\" y=\"-18.3\" font-family=\"Times New Roman,serif\" font-size=\"14.00\">6</text>\n",
       "</g>\n",
       "<!-- 8&#45;&gt;6 -->\n",
       "<g id=\"edge2\" class=\"edge\"><title>8&#45;&gt;6</title>\n",
       "<path fill=\"none\" stroke=\"black\" d=\"M154.722,-94.8399C152.3,-82.1581 148.954,-64.6397 146.172,-50.0772\"/>\n",
       "<polygon fill=\"black\" stroke=\"black\" points=\"149.582,-49.2731 144.268,-40.1074 142.706,-50.5865 149.582,-49.2731\"/>\n",
       "<text text-anchor=\"middle\" x=\"154.5\" y=\"-65.8\" font-family=\"Times New Roman,serif\" font-size=\"14.00\">a</text>\n",
       "</g>\n",
       "<!-- 6&#45;&gt;6 -->\n",
       "<g id=\"edge5\" class=\"edge\"><title>6&#45;&gt;6</title>\n",
       "<path fill=\"none\" stroke=\"black\" d=\"M165.074,-30.4544C176.242,-31.3767 186,-28.5586 186,-22 186,-17.5934 181.595,-14.8754 175.317,-13.8458\"/>\n",
       "<polygon fill=\"black\" stroke=\"black\" points=\"175.173,-10.3402 165.074,-13.5456 174.967,-17.3372 175.173,-10.3402\"/>\n",
       "<text text-anchor=\"middle\" x=\"189.5\" y=\"-18.3\" font-family=\"Times New Roman,serif\" font-size=\"14.00\">a</text>\n",
       "</g>\n",
       "<!-- 0 -->\n",
       "<g id=\"node4\" class=\"node\"><title>0</title>\n",
       "<ellipse fill=\"none\" stroke=\"black\" cx=\"86\" cy=\"-113\" rx=\"27\" ry=\"18\"/>\n",
       "<text text-anchor=\"middle\" x=\"86\" y=\"-109.3\" font-family=\"Times New Roman,serif\" font-size=\"14.00\">0</text>\n",
       "</g>\n",
       "<!-- 6&#45;&gt;0 -->\n",
       "<g id=\"edge4\" class=\"edge\"><title>6&#45;&gt;0</title>\n",
       "<path fill=\"none\" stroke=\"black\" d=\"M121.117,-34.6344C111.384,-41.3798 100.41,-50.7639 94,-62 90.1069,-68.8246 87.9571,-76.9783 86.8078,-84.7011\"/>\n",
       "<polygon fill=\"black\" stroke=\"black\" points=\"83.3104,-84.4997 85.791,-94.8001 90.2752,-85.201 83.3104,-84.4997\"/>\n",
       "<text text-anchor=\"middle\" x=\"98\" y=\"-65.8\" font-family=\"Times New Roman,serif\" font-size=\"14.00\">b</text>\n",
       "</g>\n",
       "<!-- 0&#45;&gt;1 -->\n",
       "<g id=\"edge6\" class=\"edge\"><title>0&#45;&gt;1</title>\n",
       "<path fill=\"none\" stroke=\"black\" d=\"M74.8521,-96.4974C65.3638,-83.3027 51.5433,-64.0837 40.4147,-48.6079\"/>\n",
       "<polygon fill=\"black\" stroke=\"black\" points=\"43.2335,-46.5329 34.5537,-40.4575 37.5504,-50.6197 43.2335,-46.5329\"/>\n",
       "<text text-anchor=\"middle\" x=\"63\" y=\"-65.8\" font-family=\"Times New Roman,serif\" font-size=\"14.00\">b</text>\n",
       "</g>\n",
       "<!-- 0&#45;&gt;6 -->\n",
       "<g id=\"edge7\" class=\"edge\"><title>0&#45;&gt;6</title>\n",
       "<path fill=\"none\" stroke=\"black\" d=\"M95.8329,-96.0886C104.15,-82.6302 116.206,-63.1219 125.77,-47.6445\"/>\n",
       "<polygon fill=\"black\" stroke=\"black\" points=\"128.787,-49.4204 131.067,-39.0737 122.832,-45.7405 128.787,-49.4204\"/>\n",
       "<text text-anchor=\"middle\" x=\"119.5\" y=\"-65.8\" font-family=\"Times New Roman,serif\" font-size=\"14.00\">a</text>\n",
       "</g>\n",
       "</g>\n",
       "</svg>\n"
      ],
      "text/plain": [
       "<graphviz.sources.Source at 0x23dc0934550>"
      ]
     },
     "execution_count": 98,
     "metadata": {},
     "output_type": "execute_result"
    }
   ],
   "source": [
    "plot(dot_f)"
   ]
  },
  {
   "cell_type": "code",
   "execution_count": null,
   "id": "efe43b27-1af0-4df9-ab51-3a8e6fcc78fa",
   "metadata": {},
   "outputs": [],
   "source": []
  }
 ],
 "metadata": {
  "kernelspec": {
   "display_name": "Python 3 (ipykernel)",
   "language": "python",
   "name": "python3"
  },
  "language_info": {
   "codemirror_mode": {
    "name": "ipython",
    "version": 3
   },
   "file_extension": ".py",
   "mimetype": "text/x-python",
   "name": "python",
   "nbconvert_exporter": "python",
   "pygments_lexer": "ipython3",
   "version": "3.8.12"
  }
 },
 "nbformat": 4,
 "nbformat_minor": 5
}
