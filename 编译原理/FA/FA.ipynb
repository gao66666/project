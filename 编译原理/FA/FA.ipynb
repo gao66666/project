{
 "cells": [
  {
   "cell_type": "code",
   "execution_count": 118,
   "id": "88554b0d-16c1-402a-9e00-a50caa7d93d3",
   "metadata": {
    "execution": {
     "iopub.execute_input": "2022-04-12T07:04:39.586998Z",
     "iopub.status.busy": "2022-04-12T07:04:39.586998Z",
     "iopub.status.idle": "2022-04-12T07:04:39.590987Z",
     "shell.execute_reply": "2022-04-12T07:04:39.590987Z",
     "shell.execute_reply.started": "2022-04-12T07:04:39.586998Z"
    },
    "tags": []
   },
   "outputs": [],
   "source": [
    "import networkx as nx\n",
    "from networkx.drawing.nx_pydot import write_dot\n",
    "from IPython.core.interactiveshell import InteractiveShell\n",
    "InteractiveShell.ast_node_interactivity = \"all\"\n",
    "from graphviz import Digraph\n",
    "from networkx import DiGraph"
   ]
  },
  {
   "cell_type": "code",
   "execution_count": 119,
   "id": "c5d5b153-a450-47f5-82ab-7d08a3f6410b",
   "metadata": {
    "execution": {
     "iopub.execute_input": "2022-04-12T07:04:39.592983Z",
     "iopub.status.busy": "2022-04-12T07:04:39.592983Z",
     "iopub.status.idle": "2022-04-12T07:04:39.599963Z",
     "shell.execute_reply": "2022-04-12T07:04:39.598966Z",
     "shell.execute_reply.started": "2022-04-12T07:04:39.592983Z"
    },
    "tags": []
   },
   "outputs": [],
   "source": [
    "import graphviz\n",
    "def plot(dot):\n",
    "    write_dot(dot, \"./pic/grid.dot\")\n",
    "    with open(\"./pic/grid.dot\") as f:\n",
    "        dot_graph = f.read()\n",
    "    dot_graph=dot_graph.replace('name','label')\n",
    "    dot2 = graphviz.Source(dot_graph)\n",
    "    return dot2"
   ]
  },
  {
   "cell_type": "code",
   "execution_count": 120,
   "id": "6504058e-1bd4-4936-a551-dc45de08740c",
   "metadata": {
    "execution": {
     "iopub.execute_input": "2022-04-12T07:04:39.601958Z",
     "iopub.status.busy": "2022-04-12T07:04:39.600962Z",
     "iopub.status.idle": "2022-04-12T07:04:39.611933Z",
     "shell.execute_reply": "2022-04-12T07:04:39.610965Z",
     "shell.execute_reply.started": "2022-04-12T07:04:39.601958Z"
    },
    "tags": []
   },
   "outputs": [],
   "source": [
    "class Subgraph():\n",
    "    def __init__(self, dot):\n",
    "        \n",
    "        self.label = ''\n",
    "        self.head = ''\n",
    "        self.tail = ''\n",
    "        self.index = 0\n",
    "        self.nodes = []\n",
    "        self.copy_num = 0\n",
    "\n",
    "    def add_edge(self, a, b, label='xx'):\n",
    "        if type(a) != str:\n",
    "            a = a.tail\n",
    "        if type(b) != str:\n",
    "            b = b.head\n",
    "        self.nodes.append([a, b, label])\n",
    "        dot.add_edge(a, b, name=label)\n",
    "\n",
    "    def add_node(self, name, shape='circle', color='black'):\n",
    "        dot.add_node(name, shape=shape, color=color)\n",
    "\n",
    "\n",
    "def subcopy(sg, dot, start):\n",
    "    d_temp = Subgraph(dot)\n",
    "    d_temp.head = f'{start}' + f'cop{sg.copy_num}' + sg.head\n",
    "    for n in sg.nodes:\n",
    "        d_temp.add_edge(f'{start}' + f'cop{sg.copy_num}' + n[0], f'{start}' + f'cop{sg.copy_num}' + n[1], n[2])\n",
    "        start += 1\n",
    "    d_temp.tail = f'{start - 1}' + f'cop{sg.copy_num}' + sg.tail\n",
    "    sg.copy_num += 1\n",
    "\n",
    "    d_temp.label = sg.label\n",
    "\n",
    "    return d_temp, start"
   ]
  },
  {
   "cell_type": "code",
   "execution_count": 121,
   "id": "99546af9-a27b-4ade-bdfa-a869de270ad7",
   "metadata": {
    "execution": {
     "iopub.execute_input": "2022-04-12T07:04:39.614925Z",
     "iopub.status.busy": "2022-04-12T07:04:39.613926Z",
     "iopub.status.idle": "2022-04-12T07:04:39.644843Z",
     "shell.execute_reply": "2022-04-12T07:04:39.644843Z",
     "shell.execute_reply.started": "2022-04-12T07:04:39.613926Z"
    },
    "tags": []
   },
   "outputs": [],
   "source": [
    "def deal_or(s, stack_sign, dot, start):\n",
    "    if s == '|':\n",
    "        a = stack_sign.pop(-1)\n",
    "        b = stack_sign.pop(-1)\n",
    "        d = Subgraph(dot)\n",
    "        d.add_edge(str(start), str(start + 1), label='sgm')\n",
    "        d.add_edge(str(start), str(start + 2), label='sgm')\n",
    "        d.add_edge(str(start + 1), b, b.label)\n",
    "        d.add_edge(str(start + 2), a, a.label)\n",
    "        d.add_edge(b, str(start + 3), label='sgm')\n",
    "        d.add_edge(a, str(start + 3), label='sgm')\n",
    "        d.head = str(start)\n",
    "        d.tail = str(start + 3)\n",
    "        d.label = 'sgm'\n",
    "        start += 4\n",
    "        stack_sign.append(d)\n",
    "        return stack_sign, start\n",
    "        \n",
    "def deal_attach(s, stack_sign, dot, start):\n",
    "    if s == '·':\n",
    "        d = Subgraph(dot)\n",
    "        b = stack_sign.pop(-1)\n",
    "        a = stack_sign.pop(-1)\n",
    "        if a.label=='start':\n",
    "            d.add_edge(f'{start}', b, label=b.label)\n",
    "            d.add_edge(a,f'{start}',label='sgm')\n",
    "            d.head = str(a.head)\n",
    "            d.tail = str(b.tail)\n",
    "            d.label = a.label\n",
    "            print('起始',start)\n",
    "        else:\n",
    "            \n",
    "            d.add_edge(a, b, label=b.label)\n",
    "            d.head = str(a.head)\n",
    "            d.tail = str(b.tail)\n",
    "            d.label = a.label\n",
    "        \n",
    "        start += 1\n",
    "        stack_sign.append(d)\n",
    "        return stack_sign, start\n",
    "def deal_dian(s, stack_sign, dot, start):\n",
    "    if s == '.':\n",
    "        d = Subgraph(dot)\n",
    "        a = stack_sign.pop(-1)\n",
    "        d.add_edge(a, f'{start}', label='!=\\  n')\n",
    "        d.head = str(a.head)\n",
    "        d.tail = f'{start}'\n",
    "        d.label=a.label\n",
    "        start += 1\n",
    "        stack_sign.append(d)\n",
    "        return stack_sign, start\n",
    "        \n",
    "\n",
    "def deal_bb(s, stack_sign, dot, start):\n",
    "    if s == '*':\n",
    "        d = Subgraph(dot)\n",
    "        a = stack_sign.pop(-1)\n",
    "        d.add_edge(str(start), a, label='sgm')\n",
    "        d.add_edge(a, a, label=a.label)\n",
    "        d.add_edge(a, str(start + 1), label='sgm')\n",
    "        d.add_edge(str(start), str(start + 1), label='sgm')\n",
    "        d.head = str(start)\n",
    "        d.tail = str(start + 1)\n",
    "        d.label='sgm'\n",
    "        start+=2\n",
    "        stack_sign.append(d)\n",
    "    return stack_sign, start\n",
    "def deal_zbb(s, stack_sign, dot, start):\n",
    "    if s == '+':\n",
    "        d = Subgraph(dot)\n",
    "        a = stack_sign.pop(-1)\n",
    "        d.add_edge(str(start), a, label=a.label)\n",
    "        d.add_edge(a, a, label=a.label)\n",
    "        d.add_edge(a, str(start + 1), label='sgm')\n",
    "        d.head = str(start)\n",
    "        d.tail = str(start + 1)\n",
    "        d.label='sgm'\n",
    "        start+=2\n",
    "        stack_sign.append(d)\n",
    "    return stack_sign, start\n",
    "# 花括号\n",
    "def deal_hkh(s, stack_sign, dot, start):\n",
    "    if s == '}':\n",
    "        d = Subgraph(dot)\n",
    "        c = stack_sign.pop(-1)\n",
    "        dot.remove_node(c.head)\n",
    "        m = int(c.label)-1\n",
    "        a = stack_sign.pop(-1)\n",
    "        \n",
    "        cop = ''\n",
    "        last = a\n",
    "        for i in range(m):\n",
    "            cop, start = subcopy(a, dot, start)\n",
    "            d.add_edge(last, cop, label=cop.label)\n",
    "            last = cop\n",
    "        d.head = a.head\n",
    "        d.tail = last.tail\n",
    "        d.label=a.label\n",
    "        stack_sign.append(d)\n",
    "        return stack_sign, start\n",
    "# 方括号\n",
    "def deal_fkh(st):\n",
    "    Li=0\n",
    "    remain=[]\n",
    "    for c in range(0,len(st)):\n",
    "        p=st[c]\n",
    "        if c == 0:\n",
    "            if st[c + 1] != '-':\n",
    "                remain.append(st[c])\n",
    "                continue\n",
    "        if c == len(st)-1 :\n",
    "            if st[c - 1] != '-':\n",
    "                remain.append(st[c])\n",
    "                continue\n",
    "        if st[c-1]!='-' and st[c+1]!='-' and st[c]!='-':\n",
    "            remain.append(st[c])\n",
    "    result=''\n",
    "    while True:\n",
    "        try:\n",
    "            i=st.index('-',Li)\n",
    "        except:\n",
    "            break\n",
    "        if st[i-1].isalpha() and st[i+1].isalpha():\n",
    "            chars=[]\n",
    "            L1=ord(st[i-1])\n",
    "            L2=ord(st[i+1])\n",
    "            if L1>L2:\n",
    "                L1,L2=L2,L1\n",
    "            for k in range(L1,L2+1):\n",
    "                chars.append(str(chr(k)))\n",
    "            if len(result)>1:\n",
    "                result+='|'\n",
    "            result+= '|'.join(chars)\n",
    "\n",
    "        if st[i-1].isdigit() and st[i+1].isdigit():\n",
    "            ints=[]\n",
    "            L1=int(st[i-1])\n",
    "            L2=int(st[i+1])\n",
    "            if L1>L2:\n",
    "                L1,L2=L2,L1\n",
    "            for k in range(L1,L2+1):\n",
    "                ints.append(str(k))\n",
    "            if len(result)>1:\n",
    "                result+='|'\n",
    "            result +=  '|'.join(ints)\n",
    "\n",
    "        Li=i+1\n",
    "    if len(result) > 1:\n",
    "        result += '|'\n",
    "        result+='|'.join(remain)\n",
    "        \n",
    "    return '('+result+')'\n",
    "    "
   ]
  },
  {
   "cell_type": "code",
   "execution_count": 122,
   "id": "f3493047-3da3-4387-b897-6aab0353282b",
   "metadata": {
    "execution": {
     "iopub.execute_input": "2022-04-12T07:04:39.646838Z",
     "iopub.status.busy": "2022-04-12T07:04:39.645895Z",
     "iopub.status.idle": "2022-04-12T07:04:39.653819Z",
     "shell.execute_reply": "2022-04-12T07:04:39.652822Z",
     "shell.execute_reply.started": "2022-04-12T07:04:39.646838Z"
    },
    "tags": []
   },
   "outputs": [],
   "source": [
    "def deal(s, stack_sign, dot, start):\n",
    "#  ^ .还没有写\n",
    "    if s== '·':\n",
    "        return deal_attach(s, stack_sign, dot, start)\n",
    "    elif s=='}':\n",
    "        return deal_hkh(s, stack_sign, dot, start)\n",
    "    elif s=='|':\n",
    "        return deal_or(s, stack_sign, dot, start)\n",
    "    elif s=='+':\n",
    "        return deal_zbb(s, stack_sign, dot, start)\n",
    "    elif s=='*':\n",
    "        return deal_bb(s, stack_sign, dot, start)\n",
    "    elif s=='.':\n",
    "        return deal_dian(s, stack_sign, dot, start)"
   ]
  },
  {
   "cell_type": "code",
   "execution_count": 123,
   "id": "121009fd-508c-4f1b-8ced-f840dd35a041",
   "metadata": {
    "execution": {
     "iopub.execute_input": "2022-04-12T07:04:39.654845Z",
     "iopub.status.busy": "2022-04-12T07:04:39.654845Z",
     "iopub.status.idle": "2022-04-12T07:04:39.661798Z",
     "shell.execute_reply": "2022-04-12T07:04:39.660829Z",
     "shell.execute_reply.started": "2022-04-12T07:04:39.654845Z"
    },
    "tags": []
   },
   "outputs": [],
   "source": [
    "def get_st(zz,index,stack_cal):\n",
    "    if index+1<len(zz) and zz[index+1].isalpha() :\n",
    "        stack_cal.append('·')\n",
    "    elif index+1<len(zz) and zz[index+1]=='(':\n",
    "        stack_cal.append('·')\n",
    "    return stack_cal"
   ]
  },
  {
   "cell_type": "code",
   "execution_count": 124,
   "id": "b55aad97-1442-4bd3-af61-ecfb32d3d6c4",
   "metadata": {
    "execution": {
     "iopub.execute_input": "2022-04-12T07:04:39.662795Z",
     "iopub.status.busy": "2022-04-12T07:04:39.662795Z",
     "iopub.status.idle": "2022-04-12T07:04:40.340842Z",
     "shell.execute_reply": "2022-04-12T07:04:40.340842Z",
     "shell.execute_reply.started": "2022-04-12T07:04:39.662795Z"
    },
    "tags": []
   },
   "outputs": [
    {
     "data": {
      "image/svg+xml": [
       "<?xml version=\"1.0\" encoding=\"UTF-8\" standalone=\"no\"?>\n",
       "<!DOCTYPE svg PUBLIC \"-//W3C//DTD SVG 1.1//EN\"\n",
       " \"http://www.w3.org/Graphics/SVG/1.1/DTD/svg11.dtd\">\n",
       "<!-- Generated by graphviz version 2.38.0 (20140413.2041)\n",
       " -->\n",
       "<!-- Title: %3 Pages: 1 -->\n",
       "<svg width=\"69pt\" height=\"69pt\"\n",
       " viewBox=\"0.00 0.00 69.09 69.09\" xmlns=\"http://www.w3.org/2000/svg\" xmlns:xlink=\"http://www.w3.org/1999/xlink\">\n",
       "<g id=\"graph0\" class=\"graph\" transform=\"scale(1 1) rotate(0) translate(4 65.0946)\">\n",
       "<title>%3</title>\n",
       "<polygon fill=\"white\" stroke=\"none\" points=\"-4,4 -4,-65.0946 65.0946,-65.0946 65.0946,4 -4,4\"/>\n",
       "<!-- 0start -->\n",
       "<g id=\"node1\" class=\"node\"><title>0start</title>\n",
       "<ellipse fill=\"none\" stroke=\"red\" cx=\"30.5473\" cy=\"-30.5473\" rx=\"30.5947\" ry=\"30.5947\"/>\n",
       "<text text-anchor=\"middle\" x=\"30.5473\" y=\"-26.8473\" font-family=\"Times New Roman,serif\" font-size=\"14.00\">0start</text>\n",
       "</g>\n",
       "</g>\n",
       "</svg>\n"
      ],
      "text/plain": [
       "<graphviz.sources.Source at 0x1d9629029d0>"
      ]
     },
     "execution_count": 124,
     "metadata": {},
     "output_type": "execute_result"
    },
    {
     "name": "stdout",
     "output_type": "stream",
     "text": [
      "当前stack_cal ['#', '·'] (\n",
      "剩余 1\n",
      "当前尾节点 0start 当前头节点 0start 当前节点label start\n"
     ]
    },
    {
     "data": {
      "image/svg+xml": [
       "<?xml version=\"1.0\" encoding=\"UTF-8\" standalone=\"no\"?>\n",
       "<!DOCTYPE svg PUBLIC \"-//W3C//DTD SVG 1.1//EN\"\n",
       " \"http://www.w3.org/Graphics/SVG/1.1/DTD/svg11.dtd\">\n",
       "<!-- Generated by graphviz version 2.38.0 (20140413.2041)\n",
       " -->\n",
       "<!-- Title: %3 Pages: 1 -->\n",
       "<svg width=\"69pt\" height=\"69pt\"\n",
       " viewBox=\"0.00 0.00 69.09 69.09\" xmlns=\"http://www.w3.org/2000/svg\" xmlns:xlink=\"http://www.w3.org/1999/xlink\">\n",
       "<g id=\"graph0\" class=\"graph\" transform=\"scale(1 1) rotate(0) translate(4 65.0946)\">\n",
       "<title>%3</title>\n",
       "<polygon fill=\"white\" stroke=\"none\" points=\"-4,4 -4,-65.0946 65.0946,-65.0946 65.0946,4 -4,4\"/>\n",
       "<!-- 0start -->\n",
       "<g id=\"node1\" class=\"node\"><title>0start</title>\n",
       "<ellipse fill=\"none\" stroke=\"red\" cx=\"30.5473\" cy=\"-30.5473\" rx=\"30.5947\" ry=\"30.5947\"/>\n",
       "<text text-anchor=\"middle\" x=\"30.5473\" y=\"-26.8473\" font-family=\"Times New Roman,serif\" font-size=\"14.00\">0start</text>\n",
       "</g>\n",
       "</g>\n",
       "</svg>\n"
      ],
      "text/plain": [
       "<graphviz.sources.Source at 0x1d963bede80>"
      ]
     },
     "execution_count": 124,
     "metadata": {},
     "output_type": "execute_result"
    },
    {
     "name": "stdout",
     "output_type": "stream",
     "text": [
      "当前stack_cal ['#', '·', '('] a\n",
      "剩余 1\n",
      "当前尾节点 0start 当前头节点 0start 当前节点label start\n"
     ]
    },
    {
     "data": {
      "image/svg+xml": [
       "<?xml version=\"1.0\" encoding=\"UTF-8\" standalone=\"no\"?>\n",
       "<!DOCTYPE svg PUBLIC \"-//W3C//DTD SVG 1.1//EN\"\n",
       " \"http://www.w3.org/Graphics/SVG/1.1/DTD/svg11.dtd\">\n",
       "<!-- Generated by graphviz version 2.38.0 (20140413.2041)\n",
       " -->\n",
       "<!-- Title: %3 Pages: 1 -->\n",
       "<svg width=\"124pt\" height=\"69pt\"\n",
       " viewBox=\"0.00 0.00 123.55 69.09\" xmlns=\"http://www.w3.org/2000/svg\" xmlns:xlink=\"http://www.w3.org/1999/xlink\">\n",
       "<g id=\"graph0\" class=\"graph\" transform=\"scale(1 1) rotate(0) translate(4 65.0946)\">\n",
       "<title>%3</title>\n",
       "<polygon fill=\"white\" stroke=\"none\" points=\"-4,4 -4,-65.0946 119.547,-65.0946 119.547,4 -4,4\"/>\n",
       "<!-- 0start -->\n",
       "<g id=\"node1\" class=\"node\"><title>0start</title>\n",
       "<ellipse fill=\"none\" stroke=\"red\" cx=\"30.5473\" cy=\"-30.5473\" rx=\"30.5947\" ry=\"30.5947\"/>\n",
       "<text text-anchor=\"middle\" x=\"30.5473\" y=\"-26.8473\" font-family=\"Times New Roman,serif\" font-size=\"14.00\">0start</text>\n",
       "</g>\n",
       "<!-- 1 -->\n",
       "<g id=\"node2\" class=\"node\"><title>1</title>\n",
       "<ellipse fill=\"none\" stroke=\"black\" cx=\"97.5473\" cy=\"-30.5473\" rx=\"18\" ry=\"18\"/>\n",
       "<text text-anchor=\"middle\" x=\"97.5473\" y=\"-26.8473\" font-family=\"Times New Roman,serif\" font-size=\"14.00\">1</text>\n",
       "</g>\n",
       "</g>\n",
       "</svg>\n"
      ],
      "text/plain": [
       "<graphviz.sources.Source at 0x1d9629028b0>"
      ]
     },
     "execution_count": 124,
     "metadata": {},
     "output_type": "execute_result"
    },
    {
     "name": "stdout",
     "output_type": "stream",
     "text": [
      "当前stack_cal ['#', '·', '('] *\n",
      "剩余 2\n",
      "当前尾节点 1 当前头节点 1 当前节点label a\n"
     ]
    },
    {
     "data": {
      "image/svg+xml": [
       "<?xml version=\"1.0\" encoding=\"UTF-8\" standalone=\"no\"?>\n",
       "<!DOCTYPE svg PUBLIC \"-//W3C//DTD SVG 1.1//EN\"\n",
       " \"http://www.w3.org/Graphics/SVG/1.1/DTD/svg11.dtd\">\n",
       "<!-- Generated by graphviz version 2.38.0 (20140413.2041)\n",
       " -->\n",
       "<!-- Title: %3 Pages: 1 -->\n",
       "<svg width=\"145pt\" height=\"243pt\"\n",
       " viewBox=\"0.00 0.00 144.55 243.09\" xmlns=\"http://www.w3.org/2000/svg\" xmlns:xlink=\"http://www.w3.org/1999/xlink\">\n",
       "<g id=\"graph0\" class=\"graph\" transform=\"scale(1 1) rotate(0) translate(4 239.095)\">\n",
       "<title>%3</title>\n",
       "<polygon fill=\"white\" stroke=\"none\" points=\"-4,4 -4,-239.095 140.547,-239.095 140.547,4 -4,4\"/>\n",
       "<!-- 0start -->\n",
       "<g id=\"node1\" class=\"node\"><title>0start</title>\n",
       "<ellipse fill=\"none\" stroke=\"red\" cx=\"30.5473\" cy=\"-204.547\" rx=\"30.5947\" ry=\"30.5947\"/>\n",
       "<text text-anchor=\"middle\" x=\"30.5473\" y=\"-200.847\" font-family=\"Times New Roman,serif\" font-size=\"14.00\">0start</text>\n",
       "</g>\n",
       "<!-- 1 -->\n",
       "<g id=\"node2\" class=\"node\"><title>1</title>\n",
       "<ellipse fill=\"none\" stroke=\"black\" cx=\"56.5473\" cy=\"-105\" rx=\"18\" ry=\"18\"/>\n",
       "<text text-anchor=\"middle\" x=\"56.5473\" y=\"-101.3\" font-family=\"Times New Roman,serif\" font-size=\"14.00\">1</text>\n",
       "</g>\n",
       "<!-- 1&#45;&gt;1 -->\n",
       "<g id=\"edge1\" class=\"edge\"><title>1&#45;&gt;1</title>\n",
       "<path fill=\"none\" stroke=\"black\" d=\"M73.2114,-112.383C83.1723,-114.023 92.5473,-111.563 92.5473,-105 92.5473,-100.796 88.6998,-98.2751 83.3155,-97.4375\"/>\n",
       "<polygon fill=\"black\" stroke=\"black\" points=\"83.1475,-93.9399 73.2114,-97.6172 83.272,-100.939 83.1475,-93.9399\"/>\n",
       "<text text-anchor=\"middle\" x=\"96.0473\" y=\"-101.3\" font-family=\"Times New Roman,serif\" font-size=\"14.00\">a</text>\n",
       "</g>\n",
       "<!-- 3 -->\n",
       "<g id=\"node4\" class=\"node\"><title>3</title>\n",
       "<ellipse fill=\"none\" stroke=\"black\" cx=\"105.547\" cy=\"-18\" rx=\"27\" ry=\"18\"/>\n",
       "<text text-anchor=\"middle\" x=\"105.547\" y=\"-14.3\" font-family=\"Times New Roman,serif\" font-size=\"14.00\">3</text>\n",
       "</g>\n",
       "<!-- 1&#45;&gt;3 -->\n",
       "<g id=\"edge2\" class=\"edge\"><title>1&#45;&gt;3</title>\n",
       "<path fill=\"none\" stroke=\"black\" d=\"M65.3075,-88.8037C72.4883,-76.3472 82.7975,-58.4639 91.1833,-43.9171\"/>\n",
       "<polygon fill=\"black\" stroke=\"black\" points=\"94.4019,-45.3418 96.364,-34.9302 88.3374,-41.8457 94.4019,-45.3418\"/>\n",
       "<text text-anchor=\"middle\" x=\"95.5473\" y=\"-57.8\" font-family=\"Times New Roman,serif\" font-size=\"14.00\">sgm</text>\n",
       "</g>\n",
       "<!-- 2 -->\n",
       "<g id=\"node3\" class=\"node\"><title>2</title>\n",
       "<ellipse fill=\"none\" stroke=\"black\" cx=\"106.547\" cy=\"-204.547\" rx=\"27\" ry=\"18\"/>\n",
       "<text text-anchor=\"middle\" x=\"106.547\" y=\"-200.847\" font-family=\"Times New Roman,serif\" font-size=\"14.00\">2</text>\n",
       "</g>\n",
       "<!-- 2&#45;&gt;1 -->\n",
       "<g id=\"edge3\" class=\"edge\"><title>2&#45;&gt;1</title>\n",
       "<path fill=\"none\" stroke=\"black\" d=\"M98.0655,-187C90.1196,-171.498 78.1443,-148.135 69.0936,-130.477\"/>\n",
       "<polygon fill=\"black\" stroke=\"black\" points=\"72.0866,-128.643 64.4105,-121.341 65.8573,-131.836 72.0866,-128.643\"/>\n",
       "<text text-anchor=\"middle\" x=\"93.5473\" y=\"-144.8\" font-family=\"Times New Roman,serif\" font-size=\"14.00\">sgm</text>\n",
       "</g>\n",
       "<!-- 2&#45;&gt;3 -->\n",
       "<g id=\"edge4\" class=\"edge\"><title>2&#45;&gt;3</title>\n",
       "<path fill=\"none\" stroke=\"black\" d=\"M108.428,-186.469C111.196,-158.66 115.622,-101.885 111.547,-54 111.328,-51.42 111.019,-48.7445 110.656,-46.0743\"/>\n",
       "<polygon fill=\"black\" stroke=\"black\" points=\"114.084,-45.3437 109.061,-36.0151 107.17,-46.4398 114.084,-45.3437\"/>\n",
       "<text text-anchor=\"middle\" x=\"124.547\" y=\"-101.3\" font-family=\"Times New Roman,serif\" font-size=\"14.00\">sgm</text>\n",
       "</g>\n",
       "</g>\n",
       "</svg>\n"
      ],
      "text/plain": [
       "<graphviz.sources.Source at 0x1d963bedbe0>"
      ]
     },
     "execution_count": 124,
     "metadata": {},
     "output_type": "execute_result"
    },
    {
     "name": "stdout",
     "output_type": "stream",
     "text": [
      "当前stack_cal ['#', '·', '('] |\n",
      "剩余 2\n",
      "当前尾节点 3 当前头节点 2 当前节点label sgm\n"
     ]
    },
    {
     "data": {
      "image/svg+xml": [
       "<?xml version=\"1.0\" encoding=\"UTF-8\" standalone=\"no\"?>\n",
       "<!DOCTYPE svg PUBLIC \"-//W3C//DTD SVG 1.1//EN\"\n",
       " \"http://www.w3.org/Graphics/SVG/1.1/DTD/svg11.dtd\">\n",
       "<!-- Generated by graphviz version 2.38.0 (20140413.2041)\n",
       " -->\n",
       "<!-- Title: %3 Pages: 1 -->\n",
       "<svg width=\"145pt\" height=\"243pt\"\n",
       " viewBox=\"0.00 0.00 144.55 243.09\" xmlns=\"http://www.w3.org/2000/svg\" xmlns:xlink=\"http://www.w3.org/1999/xlink\">\n",
       "<g id=\"graph0\" class=\"graph\" transform=\"scale(1 1) rotate(0) translate(4 239.095)\">\n",
       "<title>%3</title>\n",
       "<polygon fill=\"white\" stroke=\"none\" points=\"-4,4 -4,-239.095 140.547,-239.095 140.547,4 -4,4\"/>\n",
       "<!-- 0start -->\n",
       "<g id=\"node1\" class=\"node\"><title>0start</title>\n",
       "<ellipse fill=\"none\" stroke=\"red\" cx=\"30.5473\" cy=\"-204.547\" rx=\"30.5947\" ry=\"30.5947\"/>\n",
       "<text text-anchor=\"middle\" x=\"30.5473\" y=\"-200.847\" font-family=\"Times New Roman,serif\" font-size=\"14.00\">0start</text>\n",
       "</g>\n",
       "<!-- 1 -->\n",
       "<g id=\"node2\" class=\"node\"><title>1</title>\n",
       "<ellipse fill=\"none\" stroke=\"black\" cx=\"56.5473\" cy=\"-105\" rx=\"18\" ry=\"18\"/>\n",
       "<text text-anchor=\"middle\" x=\"56.5473\" y=\"-101.3\" font-family=\"Times New Roman,serif\" font-size=\"14.00\">1</text>\n",
       "</g>\n",
       "<!-- 1&#45;&gt;1 -->\n",
       "<g id=\"edge1\" class=\"edge\"><title>1&#45;&gt;1</title>\n",
       "<path fill=\"none\" stroke=\"black\" d=\"M73.2114,-112.383C83.1723,-114.023 92.5473,-111.563 92.5473,-105 92.5473,-100.796 88.6998,-98.2751 83.3155,-97.4375\"/>\n",
       "<polygon fill=\"black\" stroke=\"black\" points=\"83.1475,-93.9399 73.2114,-97.6172 83.272,-100.939 83.1475,-93.9399\"/>\n",
       "<text text-anchor=\"middle\" x=\"96.0473\" y=\"-101.3\" font-family=\"Times New Roman,serif\" font-size=\"14.00\">a</text>\n",
       "</g>\n",
       "<!-- 3 -->\n",
       "<g id=\"node4\" class=\"node\"><title>3</title>\n",
       "<ellipse fill=\"none\" stroke=\"black\" cx=\"105.547\" cy=\"-18\" rx=\"27\" ry=\"18\"/>\n",
       "<text text-anchor=\"middle\" x=\"105.547\" y=\"-14.3\" font-family=\"Times New Roman,serif\" font-size=\"14.00\">3</text>\n",
       "</g>\n",
       "<!-- 1&#45;&gt;3 -->\n",
       "<g id=\"edge2\" class=\"edge\"><title>1&#45;&gt;3</title>\n",
       "<path fill=\"none\" stroke=\"black\" d=\"M65.3075,-88.8037C72.4883,-76.3472 82.7975,-58.4639 91.1833,-43.9171\"/>\n",
       "<polygon fill=\"black\" stroke=\"black\" points=\"94.4019,-45.3418 96.364,-34.9302 88.3374,-41.8457 94.4019,-45.3418\"/>\n",
       "<text text-anchor=\"middle\" x=\"95.5473\" y=\"-57.8\" font-family=\"Times New Roman,serif\" font-size=\"14.00\">sgm</text>\n",
       "</g>\n",
       "<!-- 2 -->\n",
       "<g id=\"node3\" class=\"node\"><title>2</title>\n",
       "<ellipse fill=\"none\" stroke=\"black\" cx=\"106.547\" cy=\"-204.547\" rx=\"27\" ry=\"18\"/>\n",
       "<text text-anchor=\"middle\" x=\"106.547\" y=\"-200.847\" font-family=\"Times New Roman,serif\" font-size=\"14.00\">2</text>\n",
       "</g>\n",
       "<!-- 2&#45;&gt;1 -->\n",
       "<g id=\"edge3\" class=\"edge\"><title>2&#45;&gt;1</title>\n",
       "<path fill=\"none\" stroke=\"black\" d=\"M98.0655,-187C90.1196,-171.498 78.1443,-148.135 69.0936,-130.477\"/>\n",
       "<polygon fill=\"black\" stroke=\"black\" points=\"72.0866,-128.643 64.4105,-121.341 65.8573,-131.836 72.0866,-128.643\"/>\n",
       "<text text-anchor=\"middle\" x=\"93.5473\" y=\"-144.8\" font-family=\"Times New Roman,serif\" font-size=\"14.00\">sgm</text>\n",
       "</g>\n",
       "<!-- 2&#45;&gt;3 -->\n",
       "<g id=\"edge4\" class=\"edge\"><title>2&#45;&gt;3</title>\n",
       "<path fill=\"none\" stroke=\"black\" d=\"M108.428,-186.469C111.196,-158.66 115.622,-101.885 111.547,-54 111.328,-51.42 111.019,-48.7445 110.656,-46.0743\"/>\n",
       "<polygon fill=\"black\" stroke=\"black\" points=\"114.084,-45.3437 109.061,-36.0151 107.17,-46.4398 114.084,-45.3437\"/>\n",
       "<text text-anchor=\"middle\" x=\"124.547\" y=\"-101.3\" font-family=\"Times New Roman,serif\" font-size=\"14.00\">sgm</text>\n",
       "</g>\n",
       "</g>\n",
       "</svg>\n"
      ],
      "text/plain": [
       "<graphviz.sources.Source at 0x1d963bed2e0>"
      ]
     },
     "execution_count": 124,
     "metadata": {},
     "output_type": "execute_result"
    },
    {
     "name": "stdout",
     "output_type": "stream",
     "text": [
      "当前stack_cal ['#', '·', '(', '|'] b\n",
      "剩余 2\n",
      "当前尾节点 3 当前头节点 2 当前节点label sgm\n"
     ]
    },
    {
     "data": {
      "image/svg+xml": [
       "<?xml version=\"1.0\" encoding=\"UTF-8\" standalone=\"no\"?>\n",
       "<!DOCTYPE svg PUBLIC \"-//W3C//DTD SVG 1.1//EN\"\n",
       " \"http://www.w3.org/Graphics/SVG/1.1/DTD/svg11.dtd\">\n",
       "<!-- Generated by graphviz version 2.38.0 (20140413.2041)\n",
       " -->\n",
       "<!-- Title: %3 Pages: 1 -->\n",
       "<svg width=\"196pt\" height=\"243pt\"\n",
       " viewBox=\"0.00 0.00 195.55 243.09\" xmlns=\"http://www.w3.org/2000/svg\" xmlns:xlink=\"http://www.w3.org/1999/xlink\">\n",
       "<g id=\"graph0\" class=\"graph\" transform=\"scale(1 1) rotate(0) translate(4 239.095)\">\n",
       "<title>%3</title>\n",
       "<polygon fill=\"white\" stroke=\"none\" points=\"-4,4 -4,-239.095 191.547,-239.095 191.547,4 -4,4\"/>\n",
       "<!-- 0start -->\n",
       "<g id=\"node1\" class=\"node\"><title>0start</title>\n",
       "<ellipse fill=\"none\" stroke=\"red\" cx=\"30.5473\" cy=\"-204.547\" rx=\"30.5947\" ry=\"30.5947\"/>\n",
       "<text text-anchor=\"middle\" x=\"30.5473\" y=\"-200.847\" font-family=\"Times New Roman,serif\" font-size=\"14.00\">0start</text>\n",
       "</g>\n",
       "<!-- 1 -->\n",
       "<g id=\"node2\" class=\"node\"><title>1</title>\n",
       "<ellipse fill=\"none\" stroke=\"black\" cx=\"56.5473\" cy=\"-105\" rx=\"18\" ry=\"18\"/>\n",
       "<text text-anchor=\"middle\" x=\"56.5473\" y=\"-101.3\" font-family=\"Times New Roman,serif\" font-size=\"14.00\">1</text>\n",
       "</g>\n",
       "<!-- 1&#45;&gt;1 -->\n",
       "<g id=\"edge1\" class=\"edge\"><title>1&#45;&gt;1</title>\n",
       "<path fill=\"none\" stroke=\"black\" d=\"M73.2114,-112.383C83.1723,-114.023 92.5473,-111.563 92.5473,-105 92.5473,-100.796 88.6998,-98.2751 83.3155,-97.4375\"/>\n",
       "<polygon fill=\"black\" stroke=\"black\" points=\"83.1475,-93.9399 73.2114,-97.6172 83.272,-100.939 83.1475,-93.9399\"/>\n",
       "<text text-anchor=\"middle\" x=\"96.0473\" y=\"-101.3\" font-family=\"Times New Roman,serif\" font-size=\"14.00\">a</text>\n",
       "</g>\n",
       "<!-- 3 -->\n",
       "<g id=\"node4\" class=\"node\"><title>3</title>\n",
       "<ellipse fill=\"none\" stroke=\"black\" cx=\"105.547\" cy=\"-18\" rx=\"27\" ry=\"18\"/>\n",
       "<text text-anchor=\"middle\" x=\"105.547\" y=\"-14.3\" font-family=\"Times New Roman,serif\" font-size=\"14.00\">3</text>\n",
       "</g>\n",
       "<!-- 1&#45;&gt;3 -->\n",
       "<g id=\"edge2\" class=\"edge\"><title>1&#45;&gt;3</title>\n",
       "<path fill=\"none\" stroke=\"black\" d=\"M65.3075,-88.8037C72.4883,-76.3472 82.7975,-58.4639 91.1833,-43.9171\"/>\n",
       "<polygon fill=\"black\" stroke=\"black\" points=\"94.4019,-45.3418 96.364,-34.9302 88.3374,-41.8457 94.4019,-45.3418\"/>\n",
       "<text text-anchor=\"middle\" x=\"95.5473\" y=\"-57.8\" font-family=\"Times New Roman,serif\" font-size=\"14.00\">sgm</text>\n",
       "</g>\n",
       "<!-- 2 -->\n",
       "<g id=\"node3\" class=\"node\"><title>2</title>\n",
       "<ellipse fill=\"none\" stroke=\"black\" cx=\"106.547\" cy=\"-204.547\" rx=\"27\" ry=\"18\"/>\n",
       "<text text-anchor=\"middle\" x=\"106.547\" y=\"-200.847\" font-family=\"Times New Roman,serif\" font-size=\"14.00\">2</text>\n",
       "</g>\n",
       "<!-- 2&#45;&gt;1 -->\n",
       "<g id=\"edge3\" class=\"edge\"><title>2&#45;&gt;1</title>\n",
       "<path fill=\"none\" stroke=\"black\" d=\"M98.0655,-187C90.1196,-171.498 78.1443,-148.135 69.0936,-130.477\"/>\n",
       "<polygon fill=\"black\" stroke=\"black\" points=\"72.0866,-128.643 64.4105,-121.341 65.8573,-131.836 72.0866,-128.643\"/>\n",
       "<text text-anchor=\"middle\" x=\"93.5473\" y=\"-144.8\" font-family=\"Times New Roman,serif\" font-size=\"14.00\">sgm</text>\n",
       "</g>\n",
       "<!-- 2&#45;&gt;3 -->\n",
       "<g id=\"edge4\" class=\"edge\"><title>2&#45;&gt;3</title>\n",
       "<path fill=\"none\" stroke=\"black\" d=\"M108.428,-186.469C111.196,-158.66 115.622,-101.885 111.547,-54 111.328,-51.42 111.019,-48.7445 110.656,-46.0743\"/>\n",
       "<polygon fill=\"black\" stroke=\"black\" points=\"114.084,-45.3437 109.061,-36.0151 107.17,-46.4398 114.084,-45.3437\"/>\n",
       "<text text-anchor=\"middle\" x=\"124.547\" y=\"-101.3\" font-family=\"Times New Roman,serif\" font-size=\"14.00\">sgm</text>\n",
       "</g>\n",
       "<!-- 4 -->\n",
       "<g id=\"node5\" class=\"node\"><title>4</title>\n",
       "<ellipse fill=\"none\" stroke=\"black\" cx=\"169.547\" cy=\"-204.547\" rx=\"18\" ry=\"18\"/>\n",
       "<text text-anchor=\"middle\" x=\"169.547\" y=\"-200.847\" font-family=\"Times New Roman,serif\" font-size=\"14.00\">4</text>\n",
       "</g>\n",
       "</g>\n",
       "</svg>\n"
      ],
      "text/plain": [
       "<graphviz.sources.Source at 0x1d963e97670>"
      ]
     },
     "execution_count": 124,
     "metadata": {},
     "output_type": "execute_result"
    },
    {
     "name": "stdout",
     "output_type": "stream",
     "text": [
      "当前stack_cal ['#', '·', '(', '|'] *\n",
      "剩余 3\n",
      "当前尾节点 4 当前头节点 4 当前节点label b\n"
     ]
    },
    {
     "data": {
      "image/svg+xml": [
       "<?xml version=\"1.0\" encoding=\"UTF-8\" standalone=\"no\"?>\n",
       "<!DOCTYPE svg PUBLIC \"-//W3C//DTD SVG 1.1//EN\"\n",
       " \"http://www.w3.org/Graphics/SVG/1.1/DTD/svg11.dtd\">\n",
       "<!-- Generated by graphviz version 2.38.0 (20140413.2041)\n",
       " -->\n",
       "<!-- Title: %3 Pages: 1 -->\n",
       "<svg width=\"273pt\" height=\"243pt\"\n",
       " viewBox=\"0.00 0.00 272.55 243.09\" xmlns=\"http://www.w3.org/2000/svg\" xmlns:xlink=\"http://www.w3.org/1999/xlink\">\n",
       "<g id=\"graph0\" class=\"graph\" transform=\"scale(1 1) rotate(0) translate(4 239.095)\">\n",
       "<title>%3</title>\n",
       "<polygon fill=\"white\" stroke=\"none\" points=\"-4,4 -4,-239.095 268.547,-239.095 268.547,4 -4,4\"/>\n",
       "<!-- 0start -->\n",
       "<g id=\"node1\" class=\"node\"><title>0start</title>\n",
       "<ellipse fill=\"none\" stroke=\"red\" cx=\"30.5473\" cy=\"-204.547\" rx=\"30.5947\" ry=\"30.5947\"/>\n",
       "<text text-anchor=\"middle\" x=\"30.5473\" y=\"-200.847\" font-family=\"Times New Roman,serif\" font-size=\"14.00\">0start</text>\n",
       "</g>\n",
       "<!-- 1 -->\n",
       "<g id=\"node2\" class=\"node\"><title>1</title>\n",
       "<ellipse fill=\"none\" stroke=\"black\" cx=\"38.5473\" cy=\"-105\" rx=\"18\" ry=\"18\"/>\n",
       "<text text-anchor=\"middle\" x=\"38.5473\" y=\"-101.3\" font-family=\"Times New Roman,serif\" font-size=\"14.00\">1</text>\n",
       "</g>\n",
       "<!-- 1&#45;&gt;1 -->\n",
       "<g id=\"edge1\" class=\"edge\"><title>1&#45;&gt;1</title>\n",
       "<path fill=\"none\" stroke=\"black\" d=\"M55.2114,-112.383C65.1723,-114.023 74.5473,-111.563 74.5473,-105 74.5473,-100.796 70.6998,-98.2751 65.3155,-97.4375\"/>\n",
       "<polygon fill=\"black\" stroke=\"black\" points=\"65.1475,-93.9399 55.2114,-97.6172 65.272,-100.939 65.1475,-93.9399\"/>\n",
       "<text text-anchor=\"middle\" x=\"78.0473\" y=\"-101.3\" font-family=\"Times New Roman,serif\" font-size=\"14.00\">a</text>\n",
       "</g>\n",
       "<!-- 3 -->\n",
       "<g id=\"node4\" class=\"node\"><title>3</title>\n",
       "<ellipse fill=\"none\" stroke=\"black\" cx=\"87.5473\" cy=\"-18\" rx=\"27\" ry=\"18\"/>\n",
       "<text text-anchor=\"middle\" x=\"87.5473\" y=\"-14.3\" font-family=\"Times New Roman,serif\" font-size=\"14.00\">3</text>\n",
       "</g>\n",
       "<!-- 1&#45;&gt;3 -->\n",
       "<g id=\"edge2\" class=\"edge\"><title>1&#45;&gt;3</title>\n",
       "<path fill=\"none\" stroke=\"black\" d=\"M47.3075,-88.8037C54.4883,-76.3472 64.7975,-58.4639 73.1833,-43.9171\"/>\n",
       "<polygon fill=\"black\" stroke=\"black\" points=\"76.4019,-45.3418 78.364,-34.9302 70.3374,-41.8457 76.4019,-45.3418\"/>\n",
       "<text text-anchor=\"middle\" x=\"78.5473\" y=\"-57.8\" font-family=\"Times New Roman,serif\" font-size=\"14.00\">sgm</text>\n",
       "</g>\n",
       "<!-- 2 -->\n",
       "<g id=\"node3\" class=\"node\"><title>2</title>\n",
       "<ellipse fill=\"none\" stroke=\"black\" cx=\"106.547\" cy=\"-204.547\" rx=\"27\" ry=\"18\"/>\n",
       "<text text-anchor=\"middle\" x=\"106.547\" y=\"-200.847\" font-family=\"Times New Roman,serif\" font-size=\"14.00\">2</text>\n",
       "</g>\n",
       "<!-- 2&#45;&gt;1 -->\n",
       "<g id=\"edge3\" class=\"edge\"><title>2&#45;&gt;1</title>\n",
       "<path fill=\"none\" stroke=\"black\" d=\"M95.6219,-187.875C84.4587,-171.861 67.012,-146.833 54.3451,-128.662\"/>\n",
       "<polygon fill=\"black\" stroke=\"black\" points=\"57.1491,-126.564 48.5592,-120.362 51.4067,-130.567 57.1491,-126.564\"/>\n",
       "<text text-anchor=\"middle\" x=\"84.5473\" y=\"-144.8\" font-family=\"Times New Roman,serif\" font-size=\"14.00\">sgm</text>\n",
       "</g>\n",
       "<!-- 2&#45;&gt;3 -->\n",
       "<g id=\"edge4\" class=\"edge\"><title>2&#45;&gt;3</title>\n",
       "<path fill=\"none\" stroke=\"black\" d=\"M105.828,-186.431C104.51,-158.57 101.211,-101.723 94.5473,-54 94.1874,-51.4224 93.7571,-48.7485 93.2894,-46.0792\"/>\n",
       "<polygon fill=\"black\" stroke=\"black\" points=\"96.6823,-45.1873 91.3684,-36.0214 89.8066,-46.5005 96.6823,-45.1873\"/>\n",
       "<text text-anchor=\"middle\" x=\"113.547\" y=\"-101.3\" font-family=\"Times New Roman,serif\" font-size=\"14.00\">sgm</text>\n",
       "</g>\n",
       "<!-- 4 -->\n",
       "<g id=\"node5\" class=\"node\"><title>4</title>\n",
       "<ellipse fill=\"none\" stroke=\"black\" cx=\"183.547\" cy=\"-105\" rx=\"18\" ry=\"18\"/>\n",
       "<text text-anchor=\"middle\" x=\"183.547\" y=\"-101.3\" font-family=\"Times New Roman,serif\" font-size=\"14.00\">4</text>\n",
       "</g>\n",
       "<!-- 4&#45;&gt;4 -->\n",
       "<g id=\"edge5\" class=\"edge\"><title>4&#45;&gt;4</title>\n",
       "<path fill=\"none\" stroke=\"black\" d=\"M200.211,-112.383C210.172,-114.023 219.547,-111.563 219.547,-105 219.547,-100.796 215.7,-98.2751 210.316,-97.4375\"/>\n",
       "<polygon fill=\"black\" stroke=\"black\" points=\"210.148,-93.9399 200.211,-97.6172 210.272,-100.939 210.148,-93.9399\"/>\n",
       "<text text-anchor=\"middle\" x=\"223.547\" y=\"-101.3\" font-family=\"Times New Roman,serif\" font-size=\"14.00\">b</text>\n",
       "</g>\n",
       "<!-- 6 -->\n",
       "<g id=\"node7\" class=\"node\"><title>6</title>\n",
       "<ellipse fill=\"none\" stroke=\"black\" cx=\"233.547\" cy=\"-18\" rx=\"27\" ry=\"18\"/>\n",
       "<text text-anchor=\"middle\" x=\"233.547\" y=\"-14.3\" font-family=\"Times New Roman,serif\" font-size=\"14.00\">6</text>\n",
       "</g>\n",
       "<!-- 4&#45;&gt;6 -->\n",
       "<g id=\"edge6\" class=\"edge\"><title>4&#45;&gt;6</title>\n",
       "<path fill=\"none\" stroke=\"black\" d=\"M192.257,-89.1941C199.625,-76.6683 210.337,-58.4578 219.004,-43.7241\"/>\n",
       "<polygon fill=\"black\" stroke=\"black\" points=\"222.034,-45.4755 224.088,-35.0815 216.001,-41.9263 222.034,-45.4755\"/>\n",
       "<text text-anchor=\"middle\" x=\"222.547\" y=\"-57.8\" font-family=\"Times New Roman,serif\" font-size=\"14.00\">sgm</text>\n",
       "</g>\n",
       "<!-- 5 -->\n",
       "<g id=\"node6\" class=\"node\"><title>5</title>\n",
       "<ellipse fill=\"none\" stroke=\"black\" cx=\"195.547\" cy=\"-204.547\" rx=\"27\" ry=\"18\"/>\n",
       "<text text-anchor=\"middle\" x=\"195.547\" y=\"-200.847\" font-family=\"Times New Roman,serif\" font-size=\"14.00\">5</text>\n",
       "</g>\n",
       "<!-- 5&#45;&gt;4 -->\n",
       "<g id=\"edge7\" class=\"edge\"><title>5&#45;&gt;4</title>\n",
       "<path fill=\"none\" stroke=\"black\" d=\"M193.457,-186.556C191.644,-171.819 188.988,-150.227 186.882,-133.105\"/>\n",
       "<polygon fill=\"black\" stroke=\"black\" points=\"190.349,-132.622 185.654,-123.124 183.401,-133.477 190.349,-132.622\"/>\n",
       "<text text-anchor=\"middle\" x=\"201.547\" y=\"-144.8\" font-family=\"Times New Roman,serif\" font-size=\"14.00\">sgm</text>\n",
       "</g>\n",
       "<!-- 5&#45;&gt;6 -->\n",
       "<g id=\"edge8\" class=\"edge\"><title>5&#45;&gt;6</title>\n",
       "<path fill=\"none\" stroke=\"black\" d=\"M206.234,-187.723C216.161,-172.055 230.319,-146.997 236.547,-123 243.185,-97.4237 241.257,-67.1185 238.386,-45.8401\"/>\n",
       "<polygon fill=\"black\" stroke=\"black\" points=\"241.838,-45.2609 236.886,-35.8945 234.916,-46.3046 241.838,-45.2609\"/>\n",
       "<text text-anchor=\"middle\" x=\"252.547\" y=\"-101.3\" font-family=\"Times New Roman,serif\" font-size=\"14.00\">sgm</text>\n",
       "</g>\n",
       "</g>\n",
       "</svg>\n"
      ],
      "text/plain": [
       "<graphviz.sources.Source at 0x1d963c9d6a0>"
      ]
     },
     "execution_count": 124,
     "metadata": {},
     "output_type": "execute_result"
    },
    {
     "name": "stdout",
     "output_type": "stream",
     "text": [
      "当前stack_cal ['#', '·', '(', '|'] )\n",
      "剩余 3\n",
      "当前尾节点 6 当前头节点 5 当前节点label sgm\n"
     ]
    },
    {
     "data": {
      "text/plain": [
       "'('"
      ]
     },
     "execution_count": 124,
     "metadata": {},
     "output_type": "execute_result"
    },
    {
     "data": {
      "image/svg+xml": [
       "<?xml version=\"1.0\" encoding=\"UTF-8\" standalone=\"no\"?>\n",
       "<!DOCTYPE svg PUBLIC \"-//W3C//DTD SVG 1.1//EN\"\n",
       " \"http://www.w3.org/Graphics/SVG/1.1/DTD/svg11.dtd\">\n",
       "<!-- Generated by graphviz version 2.38.0 (20140413.2041)\n",
       " -->\n",
       "<!-- Title: %3 Pages: 1 -->\n",
       "<svg width=\"248pt\" height=\"504pt\"\n",
       " viewBox=\"0.00 0.00 248.00 504.09\" xmlns=\"http://www.w3.org/2000/svg\" xmlns:xlink=\"http://www.w3.org/1999/xlink\">\n",
       "<g id=\"graph0\" class=\"graph\" transform=\"scale(1 1) rotate(0) translate(4 500.095)\">\n",
       "<title>%3</title>\n",
       "<polygon fill=\"white\" stroke=\"none\" points=\"-4,4 -4,-500.095 244,-500.095 244,4 -4,4\"/>\n",
       "<!-- 0start -->\n",
       "<g id=\"node1\" class=\"node\"><title>0start</title>\n",
       "<ellipse fill=\"none\" stroke=\"red\" cx=\"57\" cy=\"-465.547\" rx=\"30.5947\" ry=\"30.5947\"/>\n",
       "<text text-anchor=\"middle\" x=\"57\" y=\"-461.847\" font-family=\"Times New Roman,serif\" font-size=\"14.00\">0start</text>\n",
       "</g>\n",
       "<!-- 1 -->\n",
       "<g id=\"node2\" class=\"node\"><title>1</title>\n",
       "<ellipse fill=\"none\" stroke=\"black\" cx=\"18\" cy=\"-192\" rx=\"18\" ry=\"18\"/>\n",
       "<text text-anchor=\"middle\" x=\"18\" y=\"-188.3\" font-family=\"Times New Roman,serif\" font-size=\"14.00\">1</text>\n",
       "</g>\n",
       "<!-- 1&#45;&gt;1 -->\n",
       "<g id=\"edge1\" class=\"edge\"><title>1&#45;&gt;1</title>\n",
       "<path fill=\"none\" stroke=\"black\" d=\"M34.6641,-199.383C44.625,-201.023 54,-198.563 54,-192 54,-187.796 50.1525,-185.275 44.7682,-184.438\"/>\n",
       "<polygon fill=\"black\" stroke=\"black\" points=\"44.6002,-180.94 34.6641,-184.617 44.7247,-187.939 44.6002,-180.94\"/>\n",
       "<text text-anchor=\"middle\" x=\"57.5\" y=\"-188.3\" font-family=\"Times New Roman,serif\" font-size=\"14.00\">a</text>\n",
       "</g>\n",
       "<!-- 3 -->\n",
       "<g id=\"node4\" class=\"node\"><title>3</title>\n",
       "<ellipse fill=\"none\" stroke=\"black\" cx=\"95\" cy=\"-105\" rx=\"27\" ry=\"18\"/>\n",
       "<text text-anchor=\"middle\" x=\"95\" y=\"-101.3\" font-family=\"Times New Roman,serif\" font-size=\"14.00\">3</text>\n",
       "</g>\n",
       "<!-- 1&#45;&gt;3 -->\n",
       "<g id=\"edge2\" class=\"edge\"><title>1&#45;&gt;3</title>\n",
       "<path fill=\"none\" stroke=\"black\" d=\"M28.7337,-177.068C36.7793,-166.838 48.2144,-152.738 59,-141 63.2318,-136.395 67.9194,-131.621 72.4749,-127.136\"/>\n",
       "<polygon fill=\"black\" stroke=\"black\" points=\"75.1594,-129.409 79.9129,-119.94 70.2922,-124.378 75.1594,-129.409\"/>\n",
       "<text text-anchor=\"middle\" x=\"71\" y=\"-144.8\" font-family=\"Times New Roman,serif\" font-size=\"14.00\">sgm</text>\n",
       "</g>\n",
       "<!-- 2 -->\n",
       "<g id=\"node3\" class=\"node\"><title>2</title>\n",
       "<ellipse fill=\"none\" stroke=\"black\" cx=\"94\" cy=\"-279\" rx=\"27\" ry=\"18\"/>\n",
       "<text text-anchor=\"middle\" x=\"94\" y=\"-275.3\" font-family=\"Times New Roman,serif\" font-size=\"14.00\">2</text>\n",
       "</g>\n",
       "<!-- 2&#45;&gt;1 -->\n",
       "<g id=\"edge3\" class=\"edge\"><title>2&#45;&gt;1</title>\n",
       "<path fill=\"none\" stroke=\"black\" d=\"M79.0257,-263.668C72.7012,-257.452 65.3466,-250.005 59,-243 50.8894,-234.048 42.3529,-223.787 35.1817,-214.899\"/>\n",
       "<polygon fill=\"black\" stroke=\"black\" points=\"37.7582,-212.517 28.783,-206.887 32.2883,-216.885 37.7582,-212.517\"/>\n",
       "<text text-anchor=\"middle\" x=\"71\" y=\"-231.8\" font-family=\"Times New Roman,serif\" font-size=\"14.00\">sgm</text>\n",
       "</g>\n",
       "<!-- 2&#45;&gt;3 -->\n",
       "<g id=\"edge4\" class=\"edge\"><title>2&#45;&gt;3</title>\n",
       "<path fill=\"none\" stroke=\"black\" d=\"M94.0995,-260.879C94.2732,-231.001 94.6331,-169.113 94.8414,-133.274\"/>\n",
       "<polygon fill=\"black\" stroke=\"black\" points=\"98.3426,-133.072 94.9009,-123.052 91.3427,-133.031 98.3426,-133.072\"/>\n",
       "<text text-anchor=\"middle\" x=\"106\" y=\"-188.3\" font-family=\"Times New Roman,serif\" font-size=\"14.00\">sgm</text>\n",
       "</g>\n",
       "<!-- 10 -->\n",
       "<g id=\"node11\" class=\"node\"><title>10</title>\n",
       "<ellipse fill=\"none\" stroke=\"black\" cx=\"133\" cy=\"-18\" rx=\"27\" ry=\"18\"/>\n",
       "<text text-anchor=\"middle\" x=\"133\" y=\"-14.3\" font-family=\"Times New Roman,serif\" font-size=\"14.00\">10</text>\n",
       "</g>\n",
       "<!-- 3&#45;&gt;10 -->\n",
       "<g id=\"edge5\" class=\"edge\"><title>3&#45;&gt;10</title>\n",
       "<path fill=\"none\" stroke=\"black\" d=\"M102.327,-87.6111C107.741,-75.4993 115.221,-58.7682 121.439,-44.8603\"/>\n",
       "<polygon fill=\"black\" stroke=\"black\" points=\"124.81,-45.8963 125.696,-35.3385 118.419,-43.0393 124.81,-45.8963\"/>\n",
       "<text text-anchor=\"middle\" x=\"128\" y=\"-57.8\" font-family=\"Times New Roman,serif\" font-size=\"14.00\">sgm</text>\n",
       "</g>\n",
       "<!-- 4 -->\n",
       "<g id=\"node5\" class=\"node\"><title>4</title>\n",
       "<ellipse fill=\"none\" stroke=\"black\" cx=\"160\" cy=\"-192\" rx=\"18\" ry=\"18\"/>\n",
       "<text text-anchor=\"middle\" x=\"160\" y=\"-188.3\" font-family=\"Times New Roman,serif\" font-size=\"14.00\">4</text>\n",
       "</g>\n",
       "<!-- 4&#45;&gt;4 -->\n",
       "<g id=\"edge6\" class=\"edge\"><title>4&#45;&gt;4</title>\n",
       "<path fill=\"none\" stroke=\"black\" d=\"M176.664,-199.383C186.625,-201.023 196,-198.563 196,-192 196,-187.796 192.152,-185.275 186.768,-184.438\"/>\n",
       "<polygon fill=\"black\" stroke=\"black\" points=\"186.6,-180.94 176.664,-184.617 186.725,-187.939 186.6,-180.94\"/>\n",
       "<text text-anchor=\"middle\" x=\"200\" y=\"-188.3\" font-family=\"Times New Roman,serif\" font-size=\"14.00\">b</text>\n",
       "</g>\n",
       "<!-- 6 -->\n",
       "<g id=\"node7\" class=\"node\"><title>6</title>\n",
       "<ellipse fill=\"none\" stroke=\"black\" cx=\"167\" cy=\"-105\" rx=\"27\" ry=\"18\"/>\n",
       "<text text-anchor=\"middle\" x=\"167\" y=\"-101.3\" font-family=\"Times New Roman,serif\" font-size=\"14.00\">6</text>\n",
       "</g>\n",
       "<!-- 4&#45;&gt;6 -->\n",
       "<g id=\"edge7\" class=\"edge\"><title>4&#45;&gt;6</title>\n",
       "<path fill=\"none\" stroke=\"black\" d=\"M161.417,-173.799C162.375,-162.163 163.661,-146.548 164.757,-133.237\"/>\n",
       "<polygon fill=\"black\" stroke=\"black\" points=\"168.253,-133.429 165.586,-123.175 161.277,-132.854 168.253,-133.429\"/>\n",
       "<text text-anchor=\"middle\" x=\"175\" y=\"-144.8\" font-family=\"Times New Roman,serif\" font-size=\"14.00\">sgm</text>\n",
       "</g>\n",
       "<!-- 5 -->\n",
       "<g id=\"node6\" class=\"node\"><title>5</title>\n",
       "<ellipse fill=\"none\" stroke=\"black\" cx=\"166\" cy=\"-279\" rx=\"27\" ry=\"18\"/>\n",
       "<text text-anchor=\"middle\" x=\"166\" y=\"-275.3\" font-family=\"Times New Roman,serif\" font-size=\"14.00\">5</text>\n",
       "</g>\n",
       "<!-- 5&#45;&gt;4 -->\n",
       "<g id=\"edge8\" class=\"edge\"><title>5&#45;&gt;4</title>\n",
       "<path fill=\"none\" stroke=\"black\" d=\"M164.786,-260.799C163.964,-249.163 162.862,-233.548 161.923,-220.237\"/>\n",
       "<polygon fill=\"black\" stroke=\"black\" points=\"165.408,-219.904 161.212,-210.175 158.425,-220.397 165.408,-219.904\"/>\n",
       "<text text-anchor=\"middle\" x=\"175\" y=\"-231.8\" font-family=\"Times New Roman,serif\" font-size=\"14.00\">sgm</text>\n",
       "</g>\n",
       "<!-- 5&#45;&gt;6 -->\n",
       "<g id=\"edge9\" class=\"edge\"><title>5&#45;&gt;6</title>\n",
       "<path fill=\"none\" stroke=\"black\" d=\"M180.065,-263.533C191.497,-250.672 206.72,-230.74 213,-210 217.637,-194.687 217.637,-189.313 213,-174 207.892,-157.129 200.873,-155.602 191,-141 188.586,-137.429 186.022,-133.663 183.502,-129.977\"/>\n",
       "<polygon fill=\"black\" stroke=\"black\" points=\"186.336,-127.921 177.796,-121.651 180.562,-131.878 186.336,-127.921\"/>\n",
       "<text text-anchor=\"middle\" x=\"228\" y=\"-188.3\" font-family=\"Times New Roman,serif\" font-size=\"14.00\">sgm</text>\n",
       "</g>\n",
       "<!-- 6&#45;&gt;10 -->\n",
       "<g id=\"edge10\" class=\"edge\"><title>6&#45;&gt;10</title>\n",
       "<path fill=\"none\" stroke=\"black\" d=\"M160.283,-87.2067C155.455,-75.1377 148.855,-58.6384 143.356,-44.8906\"/>\n",
       "<polygon fill=\"black\" stroke=\"black\" points=\"146.551,-43.454 139.588,-35.4692 140.052,-46.0538 146.551,-43.454\"/>\n",
       "<text text-anchor=\"middle\" x=\"164\" y=\"-57.8\" font-family=\"Times New Roman,serif\" font-size=\"14.00\">sgm</text>\n",
       "</g>\n",
       "<!-- 7 -->\n",
       "<g id=\"node8\" class=\"node\"><title>7</title>\n",
       "<ellipse fill=\"none\" stroke=\"black\" cx=\"133\" cy=\"-465.547\" rx=\"27\" ry=\"18\"/>\n",
       "<text text-anchor=\"middle\" x=\"133\" y=\"-461.847\" font-family=\"Times New Roman,serif\" font-size=\"14.00\">7</text>\n",
       "</g>\n",
       "<!-- 8 -->\n",
       "<g id=\"node9\" class=\"node\"><title>8</title>\n",
       "<ellipse fill=\"none\" stroke=\"black\" cx=\"94\" cy=\"-366\" rx=\"27\" ry=\"18\"/>\n",
       "<text text-anchor=\"middle\" x=\"94\" y=\"-362.3\" font-family=\"Times New Roman,serif\" font-size=\"14.00\">8</text>\n",
       "</g>\n",
       "<!-- 7&#45;&gt;8 -->\n",
       "<g id=\"edge11\" class=\"edge\"><title>7&#45;&gt;8</title>\n",
       "<path fill=\"none\" stroke=\"black\" d=\"M126.384,-448C120.389,-433.005 111.453,-410.655 104.486,-393.228\"/>\n",
       "<polygon fill=\"black\" stroke=\"black\" points=\"107.611,-391.615 100.648,-383.629 101.111,-394.213 107.611,-391.615\"/>\n",
       "<text text-anchor=\"middle\" x=\"125\" y=\"-405.8\" font-family=\"Times New Roman,serif\" font-size=\"14.00\">sgm</text>\n",
       "</g>\n",
       "<!-- 9 -->\n",
       "<g id=\"node10\" class=\"node\"><title>9</title>\n",
       "<ellipse fill=\"none\" stroke=\"black\" cx=\"166\" cy=\"-366\" rx=\"27\" ry=\"18\"/>\n",
       "<text text-anchor=\"middle\" x=\"166\" y=\"-362.3\" font-family=\"Times New Roman,serif\" font-size=\"14.00\">9</text>\n",
       "</g>\n",
       "<!-- 7&#45;&gt;9 -->\n",
       "<g id=\"edge12\" class=\"edge\"><title>7&#45;&gt;9</title>\n",
       "<path fill=\"none\" stroke=\"black\" d=\"M138.748,-447.556C143.811,-432.589 151.267,-410.55 157.101,-393.306\"/>\n",
       "<polygon fill=\"black\" stroke=\"black\" points=\"160.428,-394.391 160.318,-383.797 153.798,-392.148 160.428,-394.391\"/>\n",
       "<text text-anchor=\"middle\" x=\"165\" y=\"-405.8\" font-family=\"Times New Roman,serif\" font-size=\"14.00\">sgm</text>\n",
       "</g>\n",
       "<!-- 8&#45;&gt;2 -->\n",
       "<g id=\"edge13\" class=\"edge\"><title>8&#45;&gt;2</title>\n",
       "<path fill=\"none\" stroke=\"black\" d=\"M94,-347.799C94,-336.163 94,-320.548 94,-307.237\"/>\n",
       "<polygon fill=\"black\" stroke=\"black\" points=\"97.5001,-307.175 94,-297.175 90.5001,-307.175 97.5001,-307.175\"/>\n",
       "<text text-anchor=\"middle\" x=\"106\" y=\"-318.8\" font-family=\"Times New Roman,serif\" font-size=\"14.00\">sgm</text>\n",
       "</g>\n",
       "<!-- 9&#45;&gt;5 -->\n",
       "<g id=\"edge14\" class=\"edge\"><title>9&#45;&gt;5</title>\n",
       "<path fill=\"none\" stroke=\"black\" d=\"M166,-347.799C166,-336.163 166,-320.548 166,-307.237\"/>\n",
       "<polygon fill=\"black\" stroke=\"black\" points=\"169.5,-307.175 166,-297.175 162.5,-307.175 169.5,-307.175\"/>\n",
       "<text text-anchor=\"middle\" x=\"178\" y=\"-318.8\" font-family=\"Times New Roman,serif\" font-size=\"14.00\">sgm</text>\n",
       "</g>\n",
       "</g>\n",
       "</svg>\n"
      ],
      "text/plain": [
       "<graphviz.sources.Source at 0x1d963c9d130>"
      ]
     },
     "execution_count": 124,
     "metadata": {},
     "output_type": "execute_result"
    },
    {
     "name": "stdout",
     "output_type": "stream",
     "text": [
      "当前stack_cal ['#', '·'] *\n",
      "剩余 2\n",
      "当前尾节点 10 当前头节点 7 当前节点label sgm\n",
      "起始 13\n"
     ]
    },
    {
     "data": {
      "text/plain": [
       "'·'"
      ]
     },
     "execution_count": 124,
     "metadata": {},
     "output_type": "execute_result"
    }
   ],
   "source": [
    "# '·'表示连接运算符\n",
    "level = {\n",
    "\n",
    "    '+': 3, '\\\\': 5, '|': 1, '*': 4, '.': 2, '?': 3, '{': 3, '}': 3.5, '(': 4, ')': 4.5, '[': 4, ']': 4.5, '^': 2,\n",
    "    '$': 2,\n",
    "    '·': 2,\n",
    "}\n",
    "\n",
    "# 实例化一个Digraph对象(有向图)，name:生成的图片的图片名，format:生成的图片格式\n",
    "dot = nx.DiGraph(splines=True)\n",
    "index = 0\n",
    "cnt = 1\n",
    "d = Subgraph(dot=dot)\n",
    "d.add_node(name=str(0) + 'start',color='red')\n",
    "d.head = str(0) + 'start'\n",
    "d.tail = str(0) + 'start'\n",
    "d.label='start'\n",
    "\n",
    "# 存储运算符\n",
    "stack_cal = ['#', '·']\n",
    "# 存储非运算符 sgm表示空字符\n",
    "stack_sign = [d]\n",
    "\n",
    "zz = '(a*|b*)*'\n",
    "zm=[]\n",
    "while True:\n",
    "    s = zz[index]\n",
    "    plot(dot)\n",
    "    print('当前stack_cal',stack_cal,s)\n",
    "    print('剩余',len(stack_sign))\n",
    "    print('当前尾节点',stack_sign[-1].tail,'当前头节点',stack_sign[-1].head,'当前节点label',stack_sign[-1].label)\n",
    "    \n",
    "    if s in ['+', '\\\\', '|', '*', '.', '?', '{', '}', '(', ')', '[', ']']:\n",
    "        if level[stack_cal[-1]] < level[s]:\n",
    "            if s == '}':\n",
    "                stack_sign, cnt = deal(s, stack_sign, dot, cnt)\n",
    "                while stack_cal[-1] != '{':\n",
    "                    stack_sign, cnt = deal_hkh(s, stack_sign, dot, cnt)\n",
    "               \n",
    "            elif s == ')':\n",
    "                stack_sign, cnt = deal(stack_cal.pop(), stack_sign, dot, cnt)\n",
    "                while stack_cal[-1] != '(':\n",
    "                    stack_sign, cnt = deal(stack_cal.pop(), stack_sign, dot, cnt)\n",
    "                stack_cal.pop()\n",
    "             \n",
    "            elif s == ']':\n",
    "                st = ''\n",
    "                while stack_cal[-1] != '[':\n",
    "                    st += stack_sign.pop(-1).label\n",
    "                    stack_cal.pop(-1)\n",
    "                st = deal_fkh(st)\n",
    "                if st[-2]=='|':\n",
    "                    st=st[:-2]+')'\n",
    "            \n",
    "\n",
    "                \n",
    "                for m in st:\n",
    "                    if m not in level.keys():\n",
    "                        d = Subgraph(dot)\n",
    "                        d.add_node(name=f'{cnt}' + f' {m}')\n",
    "                        d.head = str(cnt) + f' {m}'\n",
    "                        d.tail = str(cnt) + f' {m}'\n",
    "                        d.label = m\n",
    "                        stack_sign.append(d)\n",
    "                        cnt += 1\n",
    "                    elif m != ')':\n",
    "                        stack_cal.append(m)\n",
    "                     \n",
    "                    elif m == ')':\n",
    "                        stack_sign, cnt = deal(stack_cal.pop(), stack_sign, dot, cnt)\n",
    "                        while stack_cal[-1] != '(':\n",
    "                            stack_sign, cnt = deal(stack_cal.pop(), stack_sign, dot, cnt)\n",
    "                        stack_cal.pop()\n",
    "                       \n",
    "                stack_cal.pop()\n",
    "              \n",
    "            \n",
    "            elif s in ['(', '[', '{']:\n",
    "                stack_cal.append(s)\n",
    "                \n",
    "            else:\n",
    "                stack_cal.append(s)\n",
    "                stack_sign, cnt = deal(stack_cal.pop(), stack_sign, dot, cnt)\n",
    "\n",
    "        elif level[stack_cal[-1]] == level[s] :\n",
    "            if stack_cal[-1]==s and s=='(':\n",
    "                stack_cal.append(s)\n",
    "            elif stack_cal[-1]!=s :\n",
    "                stack_cal.append(s)\n",
    "                stack_sign, cnt = deal(stack_cal.pop(), stack_sign, dot, cnt)\n",
    "                \n",
    "            else:\n",
    "                stack_cal.pop()\n",
    "        else:\n",
    "            stack_cal.append(s)\n",
    "#             右符号的连接\n",
    "        if s in [')',']','}','*','+','.']:\n",
    "            stack_cal=get_st(zz,index,stack_cal)\n",
    "\n",
    "    else:\n",
    "        stack_cal=get_st(zz,index,stack_cal)\n",
    "        zm.append(s)\n",
    "        d = Subgraph(dot)\n",
    "        d.add_node(name=f'{cnt}')\n",
    "        d.head = str(cnt) \n",
    "        d.tail = str(cnt) \n",
    "        d.label = s\n",
    "        stack_sign.append(d)\n",
    "        cnt += 1\n",
    "  \n",
    "    index += 1\n",
    "    if index >= len(zz):\n",
    "        break\n",
    "\n",
    "while len(stack_cal) != 1 :\n",
    "    # plot(dot)\n",
    "    # print('当前尾节点',stack_sign[-1].tail,'当前头节点',stack_sign[-1].head,'当前节点label',stack_sign[-1].label)\n",
    "    # print('剩余',stack_cal)\n",
    "    stack_sign, cnt = deal(stack_cal[-1], stack_sign, dot, cnt)\n",
    "    stack_cal.pop()"
   ]
  },
  {
   "cell_type": "code",
   "execution_count": 125,
   "id": "cc7e0a87-94a8-4807-9ac0-fb28797d2de8",
   "metadata": {
    "execution": {
     "iopub.execute_input": "2022-04-12T07:04:40.341840Z",
     "iopub.status.busy": "2022-04-12T07:04:40.341840Z",
     "iopub.status.idle": "2022-04-12T07:04:40.347823Z",
     "shell.execute_reply": "2022-04-12T07:04:40.347823Z",
     "shell.execute_reply.started": "2022-04-12T07:04:40.341840Z"
    },
    "tags": []
   },
   "outputs": [],
   "source": [
    "z_node=[]\n",
    "for n in dot.nodes:\n",
    "    if dot.out_degree(n)==0 and n!='0start':\n",
    "        z_node.append(n)\n",
    "        continue\n",
    "zt_n=z_node[0]"
   ]
  },
  {
   "cell_type": "code",
   "execution_count": 126,
   "id": "b950c53f-87dd-49eb-ad8e-9ee556336caf",
   "metadata": {
    "execution": {
     "iopub.execute_input": "2022-04-12T07:04:40.350814Z",
     "iopub.status.busy": "2022-04-12T07:04:40.350814Z",
     "iopub.status.idle": "2022-04-12T07:04:40.360761Z",
     "shell.execute_reply": "2022-04-12T07:04:40.360761Z",
     "shell.execute_reply.started": "2022-04-12T07:04:40.350814Z"
    },
    "tags": []
   },
   "outputs": [],
   "source": [
    "d.add_node(name= 'end',shape='doublecircle')\n",
    "dot.add_edge(z_node[0],'end',name='sgm')"
   ]
  },
  {
   "cell_type": "code",
   "execution_count": 127,
   "id": "7568ce64-2e63-4bda-92f8-6b5b77244e25",
   "metadata": {
    "execution": {
     "iopub.execute_input": "2022-04-12T07:04:40.362724Z",
     "iopub.status.busy": "2022-04-12T07:04:40.362724Z",
     "iopub.status.idle": "2022-04-12T07:04:40.459503Z",
     "shell.execute_reply": "2022-04-12T07:04:40.459503Z",
     "shell.execute_reply.started": "2022-04-12T07:04:40.362724Z"
    },
    "tags": []
   },
   "outputs": [
    {
     "data": {
      "image/svg+xml": [
       "<?xml version=\"1.0\" encoding=\"UTF-8\" standalone=\"no\"?>\n",
       "<!DOCTYPE svg PUBLIC \"-//W3C//DTD SVG 1.1//EN\"\n",
       " \"http://www.w3.org/Graphics/SVG/1.1/DTD/svg11.dtd\">\n",
       "<!-- Generated by graphviz version 2.38.0 (20140413.2041)\n",
       " -->\n",
       "<!-- Title: %3 Pages: 1 -->\n",
       "<svg width=\"368pt\" height=\"959pt\"\n",
       " viewBox=\"0.00 0.00 368.00 959.19\" xmlns=\"http://www.w3.org/2000/svg\" xmlns:xlink=\"http://www.w3.org/1999/xlink\">\n",
       "<g id=\"graph0\" class=\"graph\" transform=\"scale(1 1) rotate(0) translate(4 955.19)\">\n",
       "<title>%3</title>\n",
       "<polygon fill=\"white\" stroke=\"none\" points=\"-4,4 -4,-955.19 364,-955.19 364,4 -4,4\"/>\n",
       "<!-- 0start -->\n",
       "<g id=\"node1\" class=\"node\"><title>0start</title>\n",
       "<ellipse fill=\"none\" stroke=\"red\" cx=\"303\" cy=\"-920.643\" rx=\"30.5947\" ry=\"30.5947\"/>\n",
       "<text text-anchor=\"middle\" x=\"303\" y=\"-916.943\" font-family=\"Times New Roman,serif\" font-size=\"14.00\">0start</text>\n",
       "</g>\n",
       "<!-- 13 -->\n",
       "<g id=\"node14\" class=\"node\"><title>13</title>\n",
       "<ellipse fill=\"none\" stroke=\"black\" cx=\"303\" cy=\"-821.096\" rx=\"27\" ry=\"18\"/>\n",
       "<text text-anchor=\"middle\" x=\"303\" y=\"-817.396\" font-family=\"Times New Roman,serif\" font-size=\"14.00\">13</text>\n",
       "</g>\n",
       "<!-- 0start&#45;&gt;13 -->\n",
       "<g id=\"edge1\" class=\"edge\"><title>0start&#45;&gt;13</title>\n",
       "<path fill=\"none\" stroke=\"black\" d=\"M303,-889.846C303,-877.018 303,-862.117 303,-849.56\"/>\n",
       "<polygon fill=\"black\" stroke=\"black\" points=\"306.5,-849.241 303,-839.241 299.5,-849.241 306.5,-849.241\"/>\n",
       "<text text-anchor=\"middle\" x=\"315\" y=\"-860.896\" font-family=\"Times New Roman,serif\" font-size=\"14.00\">sgm</text>\n",
       "</g>\n",
       "<!-- 1 -->\n",
       "<g id=\"node2\" class=\"node\"><title>1</title>\n",
       "<ellipse fill=\"none\" stroke=\"black\" cx=\"18\" cy=\"-386.096\" rx=\"18\" ry=\"18\"/>\n",
       "<text text-anchor=\"middle\" x=\"18\" y=\"-382.396\" font-family=\"Times New Roman,serif\" font-size=\"14.00\">1</text>\n",
       "</g>\n",
       "<!-- 1&#45;&gt;1 -->\n",
       "<g id=\"edge2\" class=\"edge\"><title>1&#45;&gt;1</title>\n",
       "<path fill=\"none\" stroke=\"black\" d=\"M34.6641,-393.479C44.625,-395.119 54,-392.658 54,-386.096 54,-381.892 50.1525,-379.371 44.7682,-378.533\"/>\n",
       "<polygon fill=\"black\" stroke=\"black\" points=\"44.6002,-375.036 34.6641,-378.713 44.7247,-382.035 44.6002,-375.036\"/>\n",
       "<text text-anchor=\"middle\" x=\"57.5\" y=\"-382.396\" font-family=\"Times New Roman,serif\" font-size=\"14.00\">a</text>\n",
       "</g>\n",
       "<!-- 3 -->\n",
       "<g id=\"node4\" class=\"node\"><title>3</title>\n",
       "<ellipse fill=\"none\" stroke=\"black\" cx=\"97\" cy=\"-299.096\" rx=\"27\" ry=\"18\"/>\n",
       "<text text-anchor=\"middle\" x=\"97\" y=\"-295.396\" font-family=\"Times New Roman,serif\" font-size=\"14.00\">3</text>\n",
       "</g>\n",
       "<!-- 1&#45;&gt;3 -->\n",
       "<g id=\"edge3\" class=\"edge\"><title>1&#45;&gt;3</title>\n",
       "<path fill=\"none\" stroke=\"black\" d=\"M28.64,-371.077C36.6391,-360.803 48.057,-346.687 59,-335.096 63.5255,-330.302 68.5848,-325.376 73.4984,-320.789\"/>\n",
       "<polygon fill=\"black\" stroke=\"black\" points=\"75.9846,-323.258 81.0019,-313.926 71.2605,-318.092 75.9846,-323.258\"/>\n",
       "<text text-anchor=\"middle\" x=\"71\" y=\"-338.896\" font-family=\"Times New Roman,serif\" font-size=\"14.00\">sgm</text>\n",
       "</g>\n",
       "<!-- 2 -->\n",
       "<g id=\"node3\" class=\"node\"><title>2</title>\n",
       "<ellipse fill=\"none\" stroke=\"black\" cx=\"97\" cy=\"-473.096\" rx=\"27\" ry=\"18\"/>\n",
       "<text text-anchor=\"middle\" x=\"97\" y=\"-469.396\" font-family=\"Times New Roman,serif\" font-size=\"14.00\">2</text>\n",
       "</g>\n",
       "<!-- 2&#45;&gt;1 -->\n",
       "<g id=\"edge4\" class=\"edge\"><title>2&#45;&gt;1</title>\n",
       "<path fill=\"none\" stroke=\"black\" d=\"M81.0019,-458.265C74.0315,-452.013 65.8961,-444.4 59,-437.096 50.7072,-428.312 42.1418,-418.078 34.9981,-409.165\"/>\n",
       "<polygon fill=\"black\" stroke=\"black\" points=\"37.5848,-406.793 28.64,-401.115 32.0915,-411.132 37.5848,-406.793\"/>\n",
       "<text text-anchor=\"middle\" x=\"71\" y=\"-425.896\" font-family=\"Times New Roman,serif\" font-size=\"14.00\">sgm</text>\n",
       "</g>\n",
       "<!-- 2&#45;&gt;3 -->\n",
       "<g id=\"edge5\" class=\"edge\"><title>2&#45;&gt;3</title>\n",
       "<path fill=\"none\" stroke=\"black\" d=\"M97,-454.975C97,-425.097 97,-363.209 97,-327.369\"/>\n",
       "<polygon fill=\"black\" stroke=\"black\" points=\"100.5,-327.147 97,-317.147 93.5001,-327.147 100.5,-327.147\"/>\n",
       "<text text-anchor=\"middle\" x=\"109\" y=\"-382.396\" font-family=\"Times New Roman,serif\" font-size=\"14.00\">sgm</text>\n",
       "</g>\n",
       "<!-- 10 -->\n",
       "<g id=\"node11\" class=\"node\"><title>10</title>\n",
       "<ellipse fill=\"none\" stroke=\"black\" cx=\"256\" cy=\"-212.096\" rx=\"27\" ry=\"18\"/>\n",
       "<text text-anchor=\"middle\" x=\"256\" y=\"-208.396\" font-family=\"Times New Roman,serif\" font-size=\"14.00\">10</text>\n",
       "</g>\n",
       "<!-- 3&#45;&gt;10 -->\n",
       "<g id=\"edge6\" class=\"edge\"><title>3&#45;&gt;10</title>\n",
       "<path fill=\"none\" stroke=\"black\" d=\"M117.461,-287.157C145.248,-272.303 195.08,-245.663 226.794,-228.709\"/>\n",
       "<polygon fill=\"black\" stroke=\"black\" points=\"228.449,-231.793 235.618,-223.992 225.149,-225.62 228.449,-231.793\"/>\n",
       "<text text-anchor=\"middle\" x=\"198\" y=\"-251.896\" font-family=\"Times New Roman,serif\" font-size=\"14.00\">sgm</text>\n",
       "</g>\n",
       "<!-- 4 -->\n",
       "<g id=\"node5\" class=\"node\"><title>4</title>\n",
       "<ellipse fill=\"none\" stroke=\"black\" cx=\"157\" cy=\"-386.096\" rx=\"18\" ry=\"18\"/>\n",
       "<text text-anchor=\"middle\" x=\"157\" y=\"-382.396\" font-family=\"Times New Roman,serif\" font-size=\"14.00\">4</text>\n",
       "</g>\n",
       "<!-- 4&#45;&gt;4 -->\n",
       "<g id=\"edge7\" class=\"edge\"><title>4&#45;&gt;4</title>\n",
       "<path fill=\"none\" stroke=\"black\" d=\"M173.664,-393.479C183.625,-395.119 193,-392.658 193,-386.096 193,-381.892 189.152,-379.371 183.768,-378.533\"/>\n",
       "<polygon fill=\"black\" stroke=\"black\" points=\"183.6,-375.036 173.664,-378.713 183.725,-382.035 183.6,-375.036\"/>\n",
       "<text text-anchor=\"middle\" x=\"197\" y=\"-382.396\" font-family=\"Times New Roman,serif\" font-size=\"14.00\">b</text>\n",
       "</g>\n",
       "<!-- 6 -->\n",
       "<g id=\"node7\" class=\"node\"><title>6</title>\n",
       "<ellipse fill=\"none\" stroke=\"black\" cx=\"234\" cy=\"-299.096\" rx=\"27\" ry=\"18\"/>\n",
       "<text text-anchor=\"middle\" x=\"234\" y=\"-295.396\" font-family=\"Times New Roman,serif\" font-size=\"14.00\">6</text>\n",
       "</g>\n",
       "<!-- 4&#45;&gt;6 -->\n",
       "<g id=\"edge8\" class=\"edge\"><title>4&#45;&gt;6</title>\n",
       "<path fill=\"none\" stroke=\"black\" d=\"M168.096,-371.24C176.389,-361.048 188.121,-346.962 199,-335.096 203.092,-330.632 207.584,-325.974 211.944,-321.566\"/>\n",
       "<polygon fill=\"black\" stroke=\"black\" points=\"214.457,-324.004 219.066,-314.464 209.514,-319.047 214.457,-324.004\"/>\n",
       "<text text-anchor=\"middle\" x=\"211\" y=\"-338.896\" font-family=\"Times New Roman,serif\" font-size=\"14.00\">sgm</text>\n",
       "</g>\n",
       "<!-- 5 -->\n",
       "<g id=\"node6\" class=\"node\"><title>5</title>\n",
       "<ellipse fill=\"none\" stroke=\"black\" cx=\"234\" cy=\"-473.096\" rx=\"27\" ry=\"18\"/>\n",
       "<text text-anchor=\"middle\" x=\"234\" y=\"-469.396\" font-family=\"Times New Roman,serif\" font-size=\"14.00\">5</text>\n",
       "</g>\n",
       "<!-- 5&#45;&gt;4 -->\n",
       "<g id=\"edge9\" class=\"edge\"><title>5&#45;&gt;4</title>\n",
       "<path fill=\"none\" stroke=\"black\" d=\"M219.066,-457.727C212.748,-451.505 205.388,-444.063 199,-437.096 190.756,-428.104 182.021,-417.836 174.666,-408.955\"/>\n",
       "<polygon fill=\"black\" stroke=\"black\" points=\"177.146,-406.461 168.096,-400.951 171.735,-410.902 177.146,-406.461\"/>\n",
       "<text text-anchor=\"middle\" x=\"211\" y=\"-425.896\" font-family=\"Times New Roman,serif\" font-size=\"14.00\">sgm</text>\n",
       "</g>\n",
       "<!-- 5&#45;&gt;6 -->\n",
       "<g id=\"edge10\" class=\"edge\"><title>5&#45;&gt;6</title>\n",
       "<path fill=\"none\" stroke=\"black\" d=\"M234,-454.975C234,-425.097 234,-363.209 234,-327.369\"/>\n",
       "<polygon fill=\"black\" stroke=\"black\" points=\"237.5,-327.147 234,-317.147 230.5,-327.147 237.5,-327.147\"/>\n",
       "<text text-anchor=\"middle\" x=\"246\" y=\"-382.396\" font-family=\"Times New Roman,serif\" font-size=\"14.00\">sgm</text>\n",
       "</g>\n",
       "<!-- 6&#45;&gt;10 -->\n",
       "<g id=\"edge11\" class=\"edge\"><title>6&#45;&gt;10</title>\n",
       "<path fill=\"none\" stroke=\"black\" d=\"M238.346,-281.302C241.4,-269.505 245.549,-253.474 249.058,-239.918\"/>\n",
       "<polygon fill=\"black\" stroke=\"black\" points=\"252.47,-240.703 251.587,-230.145 245.693,-238.949 252.47,-240.703\"/>\n",
       "<text text-anchor=\"middle\" x=\"258\" y=\"-251.896\" font-family=\"Times New Roman,serif\" font-size=\"14.00\">sgm</text>\n",
       "</g>\n",
       "<!-- 7 -->\n",
       "<g id=\"node8\" class=\"node\"><title>7</title>\n",
       "<ellipse fill=\"none\" stroke=\"black\" cx=\"256\" cy=\"-647.096\" rx=\"27\" ry=\"18\"/>\n",
       "<text text-anchor=\"middle\" x=\"256\" y=\"-643.396\" font-family=\"Times New Roman,serif\" font-size=\"14.00\">7</text>\n",
       "</g>\n",
       "<!-- 8 -->\n",
       "<g id=\"node9\" class=\"node\"><title>8</title>\n",
       "<ellipse fill=\"none\" stroke=\"black\" cx=\"146\" cy=\"-560.096\" rx=\"27\" ry=\"18\"/>\n",
       "<text text-anchor=\"middle\" x=\"146\" y=\"-556.396\" font-family=\"Times New Roman,serif\" font-size=\"14.00\">8</text>\n",
       "</g>\n",
       "<!-- 7&#45;&gt;8 -->\n",
       "<g id=\"edge12\" class=\"edge\"><title>7&#45;&gt;8</title>\n",
       "<path fill=\"none\" stroke=\"black\" d=\"M238.813,-632.814C220.65,-618.78 191.824,-596.505 171.115,-580.503\"/>\n",
       "<polygon fill=\"black\" stroke=\"black\" points=\"173.12,-577.629 163.067,-574.284 168.84,-583.168 173.12,-577.629\"/>\n",
       "<text text-anchor=\"middle\" x=\"219\" y=\"-599.896\" font-family=\"Times New Roman,serif\" font-size=\"14.00\">sgm</text>\n",
       "</g>\n",
       "<!-- 9 -->\n",
       "<g id=\"node10\" class=\"node\"><title>9</title>\n",
       "<ellipse fill=\"none\" stroke=\"black\" cx=\"234\" cy=\"-560.096\" rx=\"27\" ry=\"18\"/>\n",
       "<text text-anchor=\"middle\" x=\"234\" y=\"-556.396\" font-family=\"Times New Roman,serif\" font-size=\"14.00\">9</text>\n",
       "</g>\n",
       "<!-- 7&#45;&gt;9 -->\n",
       "<g id=\"edge13\" class=\"edge\"><title>7&#45;&gt;9</title>\n",
       "<path fill=\"none\" stroke=\"black\" d=\"M251.654,-629.302C248.6,-617.505 244.451,-601.474 240.942,-587.918\"/>\n",
       "<polygon fill=\"black\" stroke=\"black\" points=\"244.307,-586.949 238.413,-578.145 237.53,-588.703 244.307,-586.949\"/>\n",
       "<text text-anchor=\"middle\" x=\"258\" y=\"-599.896\" font-family=\"Times New Roman,serif\" font-size=\"14.00\">sgm</text>\n",
       "</g>\n",
       "<!-- 8&#45;&gt;2 -->\n",
       "<g id=\"edge14\" class=\"edge\"><title>8&#45;&gt;2</title>\n",
       "<path fill=\"none\" stroke=\"black\" d=\"M136.783,-543.108C129.643,-530.721 119.618,-513.331 111.418,-499.107\"/>\n",
       "<polygon fill=\"black\" stroke=\"black\" points=\"114.368,-497.216 106.342,-490.301 108.304,-500.712 114.368,-497.216\"/>\n",
       "<text text-anchor=\"middle\" x=\"136\" y=\"-512.896\" font-family=\"Times New Roman,serif\" font-size=\"14.00\">sgm</text>\n",
       "</g>\n",
       "<!-- 9&#45;&gt;5 -->\n",
       "<g id=\"edge15\" class=\"edge\"><title>9&#45;&gt;5</title>\n",
       "<path fill=\"none\" stroke=\"black\" d=\"M234,-541.895C234,-530.258 234,-514.644 234,-501.333\"/>\n",
       "<polygon fill=\"black\" stroke=\"black\" points=\"237.5,-501.271 234,-491.271 230.5,-501.271 237.5,-501.271\"/>\n",
       "<text text-anchor=\"middle\" x=\"246\" y=\"-512.896\" font-family=\"Times New Roman,serif\" font-size=\"14.00\">sgm</text>\n",
       "</g>\n",
       "<!-- 10&#45;&gt;7 -->\n",
       "<g id=\"edge16\" class=\"edge\"><title>10&#45;&gt;7</title>\n",
       "<path fill=\"none\" stroke=\"black\" d=\"M266.261,-228.995C275.948,-245.561 289,-272.609 289,-298.096 289,-561.096 289,-561.096 289,-561.096 289,-582.401 279.879,-604.798 271.228,-621.25\"/>\n",
       "<polygon fill=\"black\" stroke=\"black\" points=\"268.055,-619.755 266.261,-630.196 274.175,-623.152 268.055,-619.755\"/>\n",
       "<text text-anchor=\"middle\" x=\"301\" y=\"-425.896\" font-family=\"Times New Roman,serif\" font-size=\"14.00\">sgm</text>\n",
       "</g>\n",
       "<!-- 12 -->\n",
       "<g id=\"node13\" class=\"node\"><title>12</title>\n",
       "<ellipse fill=\"none\" stroke=\"black\" cx=\"303\" cy=\"-125.096\" rx=\"27\" ry=\"18\"/>\n",
       "<text text-anchor=\"middle\" x=\"303\" y=\"-121.396\" font-family=\"Times New Roman,serif\" font-size=\"14.00\">12</text>\n",
       "</g>\n",
       "<!-- 10&#45;&gt;12 -->\n",
       "<g id=\"edge17\" class=\"edge\"><title>10&#45;&gt;12</title>\n",
       "<path fill=\"none\" stroke=\"black\" d=\"M265.062,-194.707C271.868,-182.399 281.311,-165.321 289.073,-151.283\"/>\n",
       "<polygon fill=\"black\" stroke=\"black\" points=\"292.349,-152.591 294.125,-142.146 286.223,-149.204 292.349,-152.591\"/>\n",
       "<text text-anchor=\"middle\" x=\"294\" y=\"-164.896\" font-family=\"Times New Roman,serif\" font-size=\"14.00\">sgm</text>\n",
       "</g>\n",
       "<!-- 11 -->\n",
       "<g id=\"node12\" class=\"node\"><title>11</title>\n",
       "<ellipse fill=\"none\" stroke=\"black\" cx=\"303\" cy=\"-734.096\" rx=\"27\" ry=\"18\"/>\n",
       "<text text-anchor=\"middle\" x=\"303\" y=\"-730.396\" font-family=\"Times New Roman,serif\" font-size=\"14.00\">11</text>\n",
       "</g>\n",
       "<!-- 11&#45;&gt;7 -->\n",
       "<g id=\"edge18\" class=\"edge\"><title>11&#45;&gt;7</title>\n",
       "<path fill=\"none\" stroke=\"black\" d=\"M293.938,-716.707C287.132,-704.399 277.689,-687.321 269.927,-673.283\"/>\n",
       "<polygon fill=\"black\" stroke=\"black\" points=\"272.777,-671.204 264.875,-664.146 266.651,-674.591 272.777,-671.204\"/>\n",
       "<text text-anchor=\"middle\" x=\"294\" y=\"-686.896\" font-family=\"Times New Roman,serif\" font-size=\"14.00\">sgm</text>\n",
       "</g>\n",
       "<!-- 11&#45;&gt;12 -->\n",
       "<g id=\"edge19\" class=\"edge\"><title>11&#45;&gt;12</title>\n",
       "<path fill=\"none\" stroke=\"black\" d=\"M313.261,-717.196C322.948,-700.631 336,-673.582 336,-648.096 336,-648.096 336,-648.096 336,-211.096 336,-189.791 326.879,-167.394 318.228,-150.942\"/>\n",
       "<polygon fill=\"black\" stroke=\"black\" points=\"321.175,-149.039 313.261,-141.995 315.055,-152.437 321.175,-149.039\"/>\n",
       "<text text-anchor=\"middle\" x=\"348\" y=\"-425.896\" font-family=\"Times New Roman,serif\" font-size=\"14.00\">sgm</text>\n",
       "</g>\n",
       "<!-- end -->\n",
       "<g id=\"node15\" class=\"node\"><title>end</title>\n",
       "<ellipse fill=\"none\" stroke=\"black\" cx=\"303\" cy=\"-28.0479\" rx=\"24.089\" ry=\"24.089\"/>\n",
       "<ellipse fill=\"none\" stroke=\"black\" cx=\"303\" cy=\"-28.0479\" rx=\"28.0958\" ry=\"28.0958\"/>\n",
       "<text text-anchor=\"middle\" x=\"303\" y=\"-24.3479\" font-family=\"Times New Roman,serif\" font-size=\"14.00\">end</text>\n",
       "</g>\n",
       "<!-- 12&#45;&gt;end -->\n",
       "<g id=\"edge20\" class=\"edge\"><title>12&#45;&gt;end</title>\n",
       "<path fill=\"none\" stroke=\"black\" d=\"M303,-106.662C303,-95.4733 303,-80.5036 303,-66.6972\"/>\n",
       "<polygon fill=\"black\" stroke=\"black\" points=\"306.5,-66.4479 303,-56.448 299.5,-66.448 306.5,-66.4479\"/>\n",
       "<text text-anchor=\"middle\" x=\"315\" y=\"-77.8957\" font-family=\"Times New Roman,serif\" font-size=\"14.00\">sgm</text>\n",
       "</g>\n",
       "<!-- 13&#45;&gt;11 -->\n",
       "<g id=\"edge21\" class=\"edge\"><title>13&#45;&gt;11</title>\n",
       "<path fill=\"none\" stroke=\"black\" d=\"M303,-802.895C303,-791.258 303,-775.644 303,-762.333\"/>\n",
       "<polygon fill=\"black\" stroke=\"black\" points=\"306.5,-762.271 303,-752.271 299.5,-762.271 306.5,-762.271\"/>\n",
       "<text text-anchor=\"middle\" x=\"315\" y=\"-773.896\" font-family=\"Times New Roman,serif\" font-size=\"14.00\">sgm</text>\n",
       "</g>\n",
       "</g>\n",
       "</svg>\n"
      ],
      "text/plain": [
       "<graphviz.sources.Source at 0x1d963f33a60>"
      ]
     },
     "execution_count": 127,
     "metadata": {},
     "output_type": "execute_result"
    }
   ],
   "source": [
    "plot(dot)\n",
    "dot.remove_node('end')"
   ]
  },
  {
   "cell_type": "code",
   "execution_count": 128,
   "id": "67c5fb7f-69e1-4e93-916a-d0a564b583a4",
   "metadata": {
    "execution": {
     "iopub.execute_input": "2022-04-12T07:04:40.461463Z",
     "iopub.status.busy": "2022-04-12T07:04:40.460465Z",
     "iopub.status.idle": "2022-04-12T07:04:40.537264Z",
     "shell.execute_reply": "2022-04-12T07:04:40.536261Z",
     "shell.execute_reply.started": "2022-04-12T07:04:40.460465Z"
    },
    "tags": []
   },
   "outputs": [
    {
     "data": {
      "text/plain": [
       "12937"
      ]
     },
     "execution_count": 128,
     "metadata": {},
     "output_type": "execute_result"
    }
   ],
   "source": [
    "import gc\n",
    "gc.collect()"
   ]
  },
  {
   "cell_type": "markdown",
   "id": "030f0106-fd3b-43c8-88ab-9a6d92a04b42",
   "metadata": {
    "tags": []
   },
   "source": [
    "# 第二步 NFA->DFA"
   ]
  },
  {
   "cell_type": "code",
   "execution_count": 129,
   "id": "0cdafbb2-8716-47d5-82eb-60676f2a84b2",
   "metadata": {
    "execution": {
     "iopub.execute_input": "2022-04-12T07:04:40.538258Z",
     "iopub.status.busy": "2022-04-12T07:04:40.538258Z",
     "iopub.status.idle": "2022-04-12T07:04:40.546236Z",
     "shell.execute_reply": "2022-04-12T07:04:40.545238Z",
     "shell.execute_reply.started": "2022-04-12T07:04:40.538258Z"
    },
    "tags": []
   },
   "outputs": [],
   "source": [
    "def get_closure(nn,la,res,dot,gy):\n",
    "    f=False\n",
    "    r=dict(dot[nn].items())\n",
    "    for m,n in zip(r.keys(),r.values()):\n",
    "        if n['name']==la and m!=nn and m not in gy:\n",
    "            f=True\n",
    "            if m not in gy:\n",
    "                gy.append(m)\n",
    "            res=get_closure(nn=m,la=la,res=res,dot=dot,gy=gy)\n",
    "    \n",
    "    res.append(nn)\n",
    "    return res"
   ]
  },
  {
   "cell_type": "code",
   "execution_count": 130,
   "id": "0ce0c78a-a43c-4763-8580-fe2db58e11d4",
   "metadata": {
    "execution": {
     "iopub.execute_input": "2022-04-12T07:04:40.548230Z",
     "iopub.status.busy": "2022-04-12T07:04:40.548230Z",
     "iopub.status.idle": "2022-04-12T07:04:40.556245Z",
     "shell.execute_reply": "2022-04-12T07:04:40.556245Z",
     "shell.execute_reply.started": "2022-04-12T07:04:40.548230Z"
    },
    "tags": []
   },
   "outputs": [],
   "source": [
    "def get_I(nn,la,res,dot):\n",
    "    f=False\n",
    "    r=dict(dot[nn].items())\n",
    "    for m,n in zip(r.keys(),r.values()):\n",
    "        if n['name']==la :\n",
    "            f=True\n",
    "            res.append(m)\n",
    "    return res\n",
    "    "
   ]
  },
  {
   "cell_type": "code",
   "execution_count": 131,
   "id": "07042c96-8502-412a-ab13-6260632b93ea",
   "metadata": {
    "execution": {
     "iopub.execute_input": "2022-04-12T07:04:40.557204Z",
     "iopub.status.busy": "2022-04-12T07:04:40.557204Z",
     "iopub.status.idle": "2022-04-12T07:04:40.565183Z",
     "shell.execute_reply": "2022-04-12T07:04:40.564222Z",
     "shell.execute_reply.started": "2022-04-12T07:04:40.557204Z"
    },
    "tags": []
   },
   "outputs": [],
   "source": [
    "dr={}\n",
    "for n in dot.nodes:\n",
    "    k=get_closure(n,res=[],la='sgm',dot=dot,gy=[])\n",
    "    dr[n]=list(set(k))\n",
    "start=list(dict(dot['0start'].items()).keys())[0]"
   ]
  },
  {
   "cell_type": "code",
   "execution_count": 132,
   "id": "12d3e014-45d0-4908-a29d-db0ad1b0afb6",
   "metadata": {
    "execution": {
     "iopub.execute_input": "2022-04-12T07:04:40.566181Z",
     "iopub.status.busy": "2022-04-12T07:04:40.566181Z",
     "iopub.status.idle": "2022-04-12T07:04:40.574160Z",
     "shell.execute_reply": "2022-04-12T07:04:40.574160Z",
     "shell.execute_reply.started": "2022-04-12T07:04:40.566181Z"
    },
    "tags": []
   },
   "outputs": [],
   "source": [
    "import pandas as pd\n",
    "import numpy as np\n",
    "zm=list(set(zm))\n",
    "df=pd.DataFrame()\n",
    "df=pd.DataFrame(np.zeros(len(zm)+1))\n",
    "df=df.T\n",
    "df.columns=['sgmlist']+zm\n",
    "df.iloc[0,0]='['+','.join(dr[start])+']'"
   ]
  },
  {
   "cell_type": "code",
   "execution_count": 133,
   "id": "efa074aa-7612-440b-b163-1225b8879676",
   "metadata": {
    "execution": {
     "iopub.execute_input": "2022-04-12T07:04:40.576153Z",
     "iopub.status.busy": "2022-04-12T07:04:40.576153Z",
     "iopub.status.idle": "2022-04-12T07:04:40.593108Z",
     "shell.execute_reply": "2022-04-12T07:04:40.592110Z",
     "shell.execute_reply.started": "2022-04-12T07:04:40.576153Z"
    },
    "tags": []
   },
   "outputs": [],
   "source": [
    "n_index=0\n",
    "new_=1\n",
    "while True:\n",
    "    change=False\n",
    "    for z in zm:\n",
    "        move=[]\n",
    "        for m in eval(df.iloc[n_index,0]):\n",
    "            t=list(set(get_I(str(m),res=[],la=z,dot=dot)))\n",
    "            move+=t\n",
    "        move=list(set(move))\n",
    "        \n",
    "        res=[]\n",
    "        for m in move:\n",
    "            res+=dr[m]\n",
    "        df.loc[n_index,z]='['+','.join(res)+']'\n",
    "       \n",
    "        \n",
    "        if df.loc[n_index,z] not in df.iloc[:,0].unique():\n",
    "            change=True\n",
    "            df.loc[new_,'sgmlist']='['+','.join(res)+']'\n",
    "            new_+=1\n",
    "    if not change and len(df[df[zm[0]].isna()])==0 :\n",
    "        break\n",
    "    n_index+=1\n",
    "        "
   ]
  },
  {
   "cell_type": "code",
   "execution_count": 134,
   "id": "44e67a2f-16f8-48e7-a9fe-628a1fbc59a5",
   "metadata": {
    "execution": {
     "iopub.execute_input": "2022-04-12T07:04:40.594105Z",
     "iopub.status.busy": "2022-04-12T07:04:40.593108Z",
     "iopub.status.idle": "2022-04-12T07:04:40.600089Z",
     "shell.execute_reply": "2022-04-12T07:04:40.600089Z",
     "shell.execute_reply.started": "2022-04-12T07:04:40.594105Z"
    },
    "tags": []
   },
   "outputs": [],
   "source": [
    "zt_p=df.loc[:,'sgmlist'].apply(lambda x : zt_n in x)\n",
    "ct_p=df.loc[:,'sgmlist'].apply(lambda x : start in x)"
   ]
  },
  {
   "cell_type": "code",
   "execution_count": 135,
   "id": "692e7f1f-26d4-4718-9f7b-83bfd4a73b7a",
   "metadata": {
    "execution": {
     "iopub.execute_input": "2022-04-12T07:04:40.602084Z",
     "iopub.status.busy": "2022-04-12T07:04:40.601087Z",
     "iopub.status.idle": "2022-04-12T07:04:40.607071Z",
     "shell.execute_reply": "2022-04-12T07:04:40.606075Z",
     "shell.execute_reply.started": "2022-04-12T07:04:40.602084Z"
    },
    "tags": []
   },
   "outputs": [],
   "source": [
    "pre_sgm=df['sgmlist']"
   ]
  },
  {
   "cell_type": "code",
   "execution_count": 136,
   "id": "d8f217bb-8793-41bb-aa49-90e47faf8118",
   "metadata": {
    "execution": {
     "iopub.execute_input": "2022-04-12T07:04:40.609067Z",
     "iopub.status.busy": "2022-04-12T07:04:40.608068Z",
     "iopub.status.idle": "2022-04-12T07:04:40.622032Z",
     "shell.execute_reply": "2022-04-12T07:04:40.621035Z",
     "shell.execute_reply.started": "2022-04-12T07:04:40.608068Z"
    },
    "tags": []
   },
   "outputs": [
    {
     "data": {
      "text/html": [
       "<div>\n",
       "<style scoped>\n",
       "    .dataframe tbody tr th:only-of-type {\n",
       "        vertical-align: middle;\n",
       "    }\n",
       "\n",
       "    .dataframe tbody tr th {\n",
       "        vertical-align: top;\n",
       "    }\n",
       "\n",
       "    .dataframe thead th {\n",
       "        text-align: right;\n",
       "    }\n",
       "</style>\n",
       "<table border=\"1\" class=\"dataframe\">\n",
       "  <thead>\n",
       "    <tr style=\"text-align: right;\">\n",
       "      <th></th>\n",
       "      <th>sgmlist</th>\n",
       "      <th>a</th>\n",
       "      <th>b</th>\n",
       "    </tr>\n",
       "  </thead>\n",
       "  <tbody>\n",
       "    <tr>\n",
       "      <th>0</th>\n",
       "      <td>[11,3,5,13,9,6,8,7,10,4,12,2,1]</td>\n",
       "      <td>[3,5,9,6,8,7,10,4,12,2,1]</td>\n",
       "      <td>[3,5,9,6,8,7,10,4,12,2,1]</td>\n",
       "    </tr>\n",
       "    <tr>\n",
       "      <th>1</th>\n",
       "      <td>[3,5,9,6,8,7,10,4,12,2,1]</td>\n",
       "      <td>[3,5,9,6,8,7,10,4,12,2,1]</td>\n",
       "      <td>[3,5,9,6,8,7,10,4,12,2,1]</td>\n",
       "    </tr>\n",
       "  </tbody>\n",
       "</table>\n",
       "</div>"
      ],
      "text/plain": [
       "                           sgmlist                          a  \\\n",
       "0  [11,3,5,13,9,6,8,7,10,4,12,2,1]  [3,5,9,6,8,7,10,4,12,2,1]   \n",
       "1        [3,5,9,6,8,7,10,4,12,2,1]  [3,5,9,6,8,7,10,4,12,2,1]   \n",
       "\n",
       "                           b  \n",
       "0  [3,5,9,6,8,7,10,4,12,2,1]  \n",
       "1  [3,5,9,6,8,7,10,4,12,2,1]  "
      ]
     },
     "execution_count": 136,
     "metadata": {},
     "output_type": "execute_result"
    }
   ],
   "source": [
    "df"
   ]
  },
  {
   "cell_type": "code",
   "execution_count": 137,
   "id": "7f3aed75-7d9d-4fcc-bb0a-29844591b9d6",
   "metadata": {
    "execution": {
     "iopub.execute_input": "2022-04-12T07:04:40.623029Z",
     "iopub.status.busy": "2022-04-12T07:04:40.623029Z",
     "iopub.status.idle": "2022-04-12T07:04:40.633004Z",
     "shell.execute_reply": "2022-04-12T07:04:40.632004Z",
     "shell.execute_reply.started": "2022-04-12T07:04:40.623029Z"
    },
    "tags": []
   },
   "outputs": [],
   "source": [
    "from sklearn.preprocessing import LabelEncoder\n",
    "La=LabelEncoder()\n",
    "\n",
    "for i in range(len(df.columns)):\n",
    "    df.iloc[:,i]=df.iloc[:,i].astype(str)\n",
    "    if i==0:\n",
    "        df.iloc[:,i]=La.fit_transform(df.iloc[:,i])\n",
    "    else:\n",
    "        df.iloc[:,i]=La.transform(df.iloc[:,i])\n",
    "        "
   ]
  },
  {
   "cell_type": "code",
   "execution_count": 138,
   "id": "07a48d11-fca0-440a-b8ab-2d061adecd66",
   "metadata": {
    "execution": {
     "iopub.execute_input": "2022-04-12T07:04:40.634000Z",
     "iopub.status.busy": "2022-04-12T07:04:40.634000Z",
     "iopub.status.idle": "2022-04-12T07:04:40.647961Z",
     "shell.execute_reply": "2022-04-12T07:04:40.646965Z",
     "shell.execute_reply.started": "2022-04-12T07:04:40.634000Z"
    },
    "tags": []
   },
   "outputs": [],
   "source": [
    "if '[]' in list(pre_sgm):\n",
    "    kong=La.transform(['[]'])[0]\n",
    "else:\n",
    "    kong=''"
   ]
  },
  {
   "cell_type": "code",
   "execution_count": 139,
   "id": "b1f68193-9da1-4f40-8f4a-01c7d260d498",
   "metadata": {
    "execution": {
     "iopub.execute_input": "2022-04-12T07:04:40.648960Z",
     "iopub.status.busy": "2022-04-12T07:04:40.647961Z",
     "iopub.status.idle": "2022-04-12T07:04:40.654943Z",
     "shell.execute_reply": "2022-04-12T07:04:40.653945Z",
     "shell.execute_reply.started": "2022-04-12T07:04:40.648960Z"
    },
    "tags": []
   },
   "outputs": [],
   "source": [
    "# 连接点是否不全为空点\n",
    "def add(i,kong):\n",
    "    for j in range(1,len(i)):\n",
    "        if j!=kong:\n",
    "            return True\n",
    "    return False"
   ]
  },
  {
   "cell_type": "code",
   "execution_count": 140,
   "id": "6eca0a7b-43f1-415d-87f3-8b6c91b4ae48",
   "metadata": {
    "execution": {
     "iopub.execute_input": "2022-04-12T07:04:40.655940Z",
     "iopub.status.busy": "2022-04-12T07:04:40.655940Z",
     "iopub.status.idle": "2022-04-12T07:04:40.668905Z",
     "shell.execute_reply": "2022-04-12T07:04:40.667938Z",
     "shell.execute_reply.started": "2022-04-12T07:04:40.655940Z"
    },
    "tags": []
   },
   "outputs": [],
   "source": [
    "dot2 = nx.DiGraph(splines=True)\n",
    "cnt=0\n",
    "# 确定终态和初态\n",
    "zt_nodes=[]\n",
    "ct_nodes=[]\n",
    "zm_new=[]\n",
    "for i in df.values:\n",
    "    if i[0]!=kong:\n",
    "        if zt_p[cnt]:\n",
    "            if add(i,kong):\n",
    "                dot2.add_node(str(i[0]),shape='doublecircle')\n",
    "                zt_nodes.append(str(i[0]))\n",
    "        elif ct_p[cnt]:\n",
    "            if add(i,kong):\n",
    "                dot2.add_node(str(i[0]),color='red')\n",
    "                ct_nodes.append(str(i[0]))\n",
    "        \n",
    "        cnt+=1\n",
    "        for j in range(1,len(i)):\n",
    "            if i[j]!=kong and i[0]!=kong:\n",
    "                if dot2.has_edge(str(i[0]), str(i[j])):\n",
    "                    zm[j-1]+=' or '+dot2[str(i[0])][str(i[j])]['name']\n",
    "                if zm[j-1] not in zm_new:\n",
    "                    zm_new.append(zm[j-1])\n",
    "                dot2.add_edge(str(i[0]),str(i[j]),name=zm[j-1])"
   ]
  },
  {
   "cell_type": "code",
   "execution_count": 141,
   "id": "e5f2c248-e6dc-4902-b47d-b0f958e3c99f",
   "metadata": {
    "execution": {
     "iopub.execute_input": "2022-04-12T07:04:40.669903Z",
     "iopub.status.busy": "2022-04-12T07:04:40.669903Z",
     "iopub.status.idle": "2022-04-12T07:04:40.677882Z",
     "shell.execute_reply": "2022-04-12T07:04:40.676916Z",
     "shell.execute_reply.started": "2022-04-12T07:04:40.669903Z"
    },
    "tags": []
   },
   "outputs": [
    {
     "data": {
      "text/plain": [
       "''"
      ]
     },
     "execution_count": 141,
     "metadata": {},
     "output_type": "execute_result"
    }
   ],
   "source": [
    "kong"
   ]
  },
  {
   "cell_type": "code",
   "execution_count": 142,
   "id": "046ca0bb-8f23-4d75-880d-e70ad89928dd",
   "metadata": {
    "execution": {
     "iopub.execute_input": "2022-04-12T07:04:40.679912Z",
     "iopub.status.busy": "2022-04-12T07:04:40.678880Z",
     "iopub.status.idle": "2022-04-12T07:04:40.688852Z",
     "shell.execute_reply": "2022-04-12T07:04:40.687856Z",
     "shell.execute_reply.started": "2022-04-12T07:04:40.679912Z"
    },
    "tags": []
   },
   "outputs": [
    {
     "data": {
      "text/html": [
       "<div>\n",
       "<style scoped>\n",
       "    .dataframe tbody tr th:only-of-type {\n",
       "        vertical-align: middle;\n",
       "    }\n",
       "\n",
       "    .dataframe tbody tr th {\n",
       "        vertical-align: top;\n",
       "    }\n",
       "\n",
       "    .dataframe thead th {\n",
       "        text-align: right;\n",
       "    }\n",
       "</style>\n",
       "<table border=\"1\" class=\"dataframe\">\n",
       "  <thead>\n",
       "    <tr style=\"text-align: right;\">\n",
       "      <th></th>\n",
       "      <th>sgmlist</th>\n",
       "      <th>a</th>\n",
       "      <th>b</th>\n",
       "    </tr>\n",
       "  </thead>\n",
       "  <tbody>\n",
       "    <tr>\n",
       "      <th>0</th>\n",
       "      <td>0</td>\n",
       "      <td>1</td>\n",
       "      <td>1</td>\n",
       "    </tr>\n",
       "    <tr>\n",
       "      <th>1</th>\n",
       "      <td>1</td>\n",
       "      <td>1</td>\n",
       "      <td>1</td>\n",
       "    </tr>\n",
       "  </tbody>\n",
       "</table>\n",
       "</div>"
      ],
      "text/plain": [
       "   sgmlist  a  b\n",
       "0        0  1  1\n",
       "1        1  1  1"
      ]
     },
     "execution_count": 142,
     "metadata": {},
     "output_type": "execute_result"
    }
   ],
   "source": [
    "df"
   ]
  },
  {
   "cell_type": "code",
   "execution_count": 143,
   "id": "abb6432e-7d8a-4d94-affd-7a0e1c535a8b",
   "metadata": {
    "execution": {
     "iopub.execute_input": "2022-04-12T07:04:40.689877Z",
     "iopub.status.busy": "2022-04-12T07:04:40.689877Z",
     "iopub.status.idle": "2022-04-12T07:04:40.776618Z",
     "shell.execute_reply": "2022-04-12T07:04:40.776618Z",
     "shell.execute_reply.started": "2022-04-12T07:04:40.689877Z"
    },
    "tags": []
   },
   "outputs": [
    {
     "data": {
      "image/svg+xml": [
       "<?xml version=\"1.0\" encoding=\"UTF-8\" standalone=\"no\"?>\n",
       "<!DOCTYPE svg PUBLIC \"-//W3C//DTD SVG 1.1//EN\"\n",
       " \"http://www.w3.org/Graphics/SVG/1.1/DTD/svg11.dtd\">\n",
       "<!-- Generated by graphviz version 2.38.0 (20140413.2041)\n",
       " -->\n",
       "<!-- Title: %3 Pages: 1 -->\n",
       "<svg width=\"129pt\" height=\"147pt\"\n",
       " viewBox=\"0.00 0.00 129.00 147.00\" xmlns=\"http://www.w3.org/2000/svg\" xmlns:xlink=\"http://www.w3.org/1999/xlink\">\n",
       "<g id=\"graph0\" class=\"graph\" transform=\"scale(1 1) rotate(0) translate(4 143)\">\n",
       "<title>%3</title>\n",
       "<polygon fill=\"white\" stroke=\"none\" points=\"-4,4 -4,-143 125,-143 125,4 -4,4\"/>\n",
       "<!-- 0 -->\n",
       "<g id=\"node1\" class=\"node\"><title>0</title>\n",
       "<ellipse fill=\"none\" stroke=\"black\" cx=\"22\" cy=\"-117\" rx=\"18\" ry=\"18\"/>\n",
       "<ellipse fill=\"none\" stroke=\"black\" cx=\"22\" cy=\"-117\" rx=\"22\" ry=\"22\"/>\n",
       "<text text-anchor=\"middle\" x=\"22\" y=\"-113.3\" font-family=\"Times New Roman,serif\" font-size=\"14.00\">0</text>\n",
       "</g>\n",
       "<!-- 1 -->\n",
       "<g id=\"node2\" class=\"node\"><title>1</title>\n",
       "<ellipse fill=\"none\" stroke=\"black\" cx=\"22\" cy=\"-22\" rx=\"18\" ry=\"18\"/>\n",
       "<ellipse fill=\"none\" stroke=\"black\" cx=\"22\" cy=\"-22\" rx=\"22\" ry=\"22\"/>\n",
       "<text text-anchor=\"middle\" x=\"22\" y=\"-18.3\" font-family=\"Times New Roman,serif\" font-size=\"14.00\">1</text>\n",
       "</g>\n",
       "<!-- 0&#45;&gt;1 -->\n",
       "<g id=\"edge1\" class=\"edge\"><title>0&#45;&gt;1</title>\n",
       "<path fill=\"none\" stroke=\"black\" d=\"M22,-94.8969C22,-82.8873 22,-67.6175 22,-54.242\"/>\n",
       "<polygon fill=\"black\" stroke=\"black\" points=\"25.5001,-54.0196 22,-44.0196 18.5001,-54.0197 25.5001,-54.0196\"/>\n",
       "<text text-anchor=\"middle\" x=\"39\" y=\"-65.8\" font-family=\"Times New Roman,serif\" font-size=\"14.00\">b or a</text>\n",
       "</g>\n",
       "<!-- 1&#45;&gt;1 -->\n",
       "<g id=\"edge2\" class=\"edge\"><title>1&#45;&gt;1</title>\n",
       "<path fill=\"none\" stroke=\"black\" d=\"M42.5808,-30.3702C52.8447,-31.5284 62,-28.7383 62,-22 62,-17.6833 58.2427,-14.9869 52.8436,-13.9109\"/>\n",
       "<polygon fill=\"black\" stroke=\"black\" points=\"52.6729,-10.405 42.5808,-13.6298 52.4812,-17.4024 52.6729,-10.405\"/>\n",
       "<text text-anchor=\"middle\" x=\"91.5\" y=\"-18.3\" font-family=\"Times New Roman,serif\" font-size=\"14.00\">b or a or a</text>\n",
       "</g>\n",
       "</g>\n",
       "</svg>\n"
      ],
      "text/plain": [
       "<graphviz.sources.Source at 0x1d963e90820>"
      ]
     },
     "execution_count": 143,
     "metadata": {},
     "output_type": "execute_result"
    }
   ],
   "source": [
    "plot(dot2)"
   ]
  },
  {
   "cell_type": "markdown",
   "id": "5e2ac308-f038-4945-89ab-02c540d071c1",
   "metadata": {},
   "source": [
    "# DFA的最小化"
   ]
  },
  {
   "cell_type": "markdown",
   "id": "9ae159af-9130-487b-b5ce-d92cf6ba3aaf",
   "metadata": {},
   "source": [
    "## 终态的定义：自连接的状态，由其他终态指向的状态、出度为0的状态"
   ]
  },
  {
   "cell_type": "code",
   "execution_count": 144,
   "id": "c33a165f-643f-476f-8fe8-91727cee0809",
   "metadata": {
    "execution": {
     "iopub.execute_input": "2022-04-12T07:04:40.781607Z",
     "iopub.status.busy": "2022-04-12T07:04:40.781607Z",
     "iopub.status.idle": "2022-04-12T07:04:40.786591Z",
     "shell.execute_reply": "2022-04-12T07:04:40.785594Z",
     "shell.execute_reply.started": "2022-04-12T07:04:40.781607Z"
    },
    "tags": []
   },
   "outputs": [],
   "source": [
    "# dot2=nx.DiGraph()\n",
    "# # 书上的测试数据\n",
    "# dot2.add_edge('S','A',name='a')\n",
    "# dot2.add_edge('S','B',name='b')\n",
    "# dot2.add_edge('A','B',name='b')\n",
    "# dot2.add_edge('B','A',name='a')\n",
    "# dot2.add_edge('A','C',name='a')\n",
    "# dot2.add_edge('B','D',name='b')\n",
    "# dot2.add_edge('C','C',name='a')\n",
    "# dot2.add_edge('C','E',name='b')\n",
    "# dot2.add_edge('D','D',name='b')\n",
    "# dot2.add_edge('D','F',name='a')\n",
    "# dot2.add_edge('E','D',name='b')\n",
    "# dot2.add_edge('E','F',name='a')\n",
    "# dot2.add_edge('F','C',name='a')\n",
    "# dot2.add_edge('F','E',name='b')\n",
    "# plot(dot2)"
   ]
  },
  {
   "cell_type": "code",
   "execution_count": 145,
   "id": "8e9c179f-63cd-4509-89e2-736872c8f65e",
   "metadata": {
    "execution": {
     "iopub.execute_input": "2022-04-12T07:04:40.787588Z",
     "iopub.status.busy": "2022-04-12T07:04:40.787588Z",
     "iopub.status.idle": "2022-04-12T07:04:40.794570Z",
     "shell.execute_reply": "2022-04-12T07:04:40.793573Z",
     "shell.execute_reply.started": "2022-04-12T07:04:40.787588Z"
    },
    "tags": []
   },
   "outputs": [],
   "source": [
    "def reverse_dict(dic):\n",
    "    \n",
    "    v=dic.values()\n",
    "    nd={}\n",
    "    for (a,s) in dic.items():\n",
    "        if s in nd.keys():\n",
    "            nd[s].append(a)\n",
    "        else:\n",
    "            nd[s]=[a]\n",
    "    return nd\n",
    "    "
   ]
  },
  {
   "cell_type": "code",
   "execution_count": 146,
   "id": "90933ab9-8ab3-4777-a4e1-608c73045c9c",
   "metadata": {
    "execution": {
     "iopub.execute_input": "2022-04-12T07:04:40.796565Z",
     "iopub.status.busy": "2022-04-12T07:04:40.796565Z",
     "iopub.status.idle": "2022-04-12T07:04:40.803546Z",
     "shell.execute_reply": "2022-04-12T07:04:40.803546Z",
     "shell.execute_reply.started": "2022-04-12T07:04:40.796565Z"
    },
    "tags": []
   },
   "outputs": [],
   "source": [
    "fzt_node=[]\n",
    "zm=zm_new\n",
    "for n in dot2.nodes:\n",
    "    if n not in zt_nodes:\n",
    "        fzt_node.append(n)"
   ]
  },
  {
   "cell_type": "code",
   "execution_count": 147,
   "id": "9681e814-34e0-4293-8f87-7ee81a7b813c",
   "metadata": {
    "execution": {
     "iopub.execute_input": "2022-04-12T07:04:40.805542Z",
     "iopub.status.busy": "2022-04-12T07:04:40.804545Z",
     "iopub.status.idle": "2022-04-12T07:04:40.811525Z",
     "shell.execute_reply": "2022-04-12T07:04:40.810529Z",
     "shell.execute_reply.started": "2022-04-12T07:04:40.805542Z"
    }
   },
   "outputs": [
    {
     "data": {
      "text/plain": [
       "['a', 'b or a', 'b or a or a']"
      ]
     },
     "execution_count": 147,
     "metadata": {},
     "output_type": "execute_result"
    }
   ],
   "source": [
    "zm"
   ]
  },
  {
   "cell_type": "code",
   "execution_count": null,
   "id": "024b9e01-83b2-4af2-bffb-12f58ef9e163",
   "metadata": {},
   "outputs": [],
   "source": []
  },
  {
   "cell_type": "code",
   "execution_count": 148,
   "id": "1042206a-b29a-4ab3-8b15-a42ddea044b5",
   "metadata": {
    "execution": {
     "iopub.execute_input": "2022-04-12T07:04:40.813520Z",
     "iopub.status.busy": "2022-04-12T07:04:40.812526Z",
     "iopub.status.idle": "2022-04-12T07:04:40.819504Z",
     "shell.execute_reply": "2022-04-12T07:04:40.818506Z",
     "shell.execute_reply.started": "2022-04-12T07:04:40.813520Z"
    },
    "tags": []
   },
   "outputs": [
    {
     "name": "stdout",
     "output_type": "stream",
     "text": [
      "[['0', '1']]\n"
     ]
    }
   ],
   "source": [
    "if len(fzt_node)>=1:\n",
    "    zj=[fzt_node,zt_nodes]\n",
    "else:\n",
    "    zj=[zt_nodes]\n",
    "print(zj)"
   ]
  },
  {
   "cell_type": "code",
   "execution_count": 149,
   "id": "74c92e43-7620-4178-8248-f4f32c5494a8",
   "metadata": {
    "execution": {
     "iopub.execute_input": "2022-04-12T07:04:40.820500Z",
     "iopub.status.busy": "2022-04-12T07:04:40.820500Z",
     "iopub.status.idle": "2022-04-12T07:04:40.827483Z",
     "shell.execute_reply": "2022-04-12T07:04:40.826485Z",
     "shell.execute_reply.started": "2022-04-12T07:04:40.820500Z"
    }
   },
   "outputs": [
    {
     "data": {
      "text/plain": [
       "['a', 'b or a', 'b or a or a']"
      ]
     },
     "execution_count": 149,
     "metadata": {},
     "output_type": "execute_result"
    }
   ],
   "source": [
    "zm"
   ]
  },
  {
   "cell_type": "code",
   "execution_count": 150,
   "id": "d883124b-ec8d-4cd6-8865-19de624d6568",
   "metadata": {
    "execution": {
     "iopub.execute_input": "2022-04-12T07:04:40.829484Z",
     "iopub.status.busy": "2022-04-12T07:04:40.829484Z",
     "iopub.status.idle": "2022-04-12T07:04:40.839450Z",
     "shell.execute_reply": "2022-04-12T07:04:40.839450Z",
     "shell.execute_reply.started": "2022-04-12T07:04:40.829484Z"
    },
    "tags": []
   },
   "outputs": [],
   "source": [
    "def get_fizj(zj,dot2):\n",
    "    while True:\n",
    "        change_c=False\n",
    "        for z in zm:\n",
    "            cnt=0\n",
    "            zj2=[]\n",
    "            for m in zj.copy():\n",
    "                change_c2=False\n",
    "                if len(m)==1:\n",
    "                    zj2.extend([m])\n",
    "                    continue\n",
    "                change={}\n",
    "                m_new=[]\n",
    "                dt={}\n",
    "                for k in m:\n",
    "                    e=get_I(str(k),la=z,res=[],dot=dot2)\n",
    "                    print('k e',k,e)\n",
    "                    if e!=[]:\n",
    "                        dt[f'{k}']=e[0]\n",
    "                        if e[0] not in m:\n",
    "                            \n",
    "                            change[str(k)]=e[0]\n",
    "                            print(m,e)\n",
    "                            change_c=True\n",
    "                            change_c2=True\n",
    "                        else:\n",
    "                            m_new.append(str(k))\n",
    "                    else:\n",
    "                        dt[f'{k}']='kong'\n",
    "                dt_verse=reverse_dict(change)\n",
    "                if change_c2:\n",
    "                    change_list=list(dt_verse.values())\n",
    "                    if len(m_new)>=1:\n",
    "                        \n",
    "                        new_z=[m_new]+change_list\n",
    "                        zj2.extend(new_z)\n",
    "                        \n",
    "                    else:\n",
    "                        \n",
    "                        chl2=[]\n",
    "                        for c in change_list:\n",
    "                            if len(c)>1:\n",
    "                                for p in c:\n",
    "                                    chl2.append([p])\n",
    "                            else:\n",
    "                                chl2.append(c)\n",
    "                        new_z=chl2\n",
    "                        zj2.extend(new_z)\n",
    "                        \n",
    "                    \n",
    "                else:\n",
    "                    zj2.extend([m])\n",
    "                    cnt+=1\n",
    "            print('zj2',zj2,z)\n",
    "            zj=zj2\n",
    "\n",
    "        if not change_c:\n",
    "            return zj2"
   ]
  },
  {
   "cell_type": "code",
   "execution_count": 151,
   "id": "84d839a8-fe70-4e91-94ce-6598b1977496",
   "metadata": {
    "execution": {
     "iopub.execute_input": "2022-04-12T07:04:40.841445Z",
     "iopub.status.busy": "2022-04-12T07:04:40.841445Z",
     "iopub.status.idle": "2022-04-12T07:04:40.848426Z",
     "shell.execute_reply": "2022-04-12T07:04:40.848426Z",
     "shell.execute_reply.started": "2022-04-12T07:04:40.841445Z"
    }
   },
   "outputs": [
    {
     "data": {
      "text/plain": [
       "[['0', '1']]"
      ]
     },
     "execution_count": 151,
     "metadata": {},
     "output_type": "execute_result"
    }
   ],
   "source": [
    "zj"
   ]
  },
  {
   "cell_type": "code",
   "execution_count": 152,
   "id": "f64ebdf6-e139-46d2-8c07-40e60e5fdb7f",
   "metadata": {
    "execution": {
     "iopub.execute_input": "2022-04-12T07:04:40.850421Z",
     "iopub.status.busy": "2022-04-12T07:04:40.850421Z",
     "iopub.status.idle": "2022-04-12T07:04:40.859397Z",
     "shell.execute_reply": "2022-04-12T07:04:40.858399Z",
     "shell.execute_reply.started": "2022-04-12T07:04:40.850421Z"
    },
    "tags": []
   },
   "outputs": [
    {
     "name": "stdout",
     "output_type": "stream",
     "text": [
      "k e 0 []\n",
      "k e 1 []\n",
      "zj2 [['0', '1']] a\n",
      "k e 0 ['1']\n",
      "k e 1 []\n",
      "zj2 [['0', '1']] b or a\n",
      "k e 0 []\n",
      "k e 1 ['1']\n",
      "zj2 [['0', '1']] b or a or a\n"
     ]
    },
    {
     "data": {
      "text/plain": [
       "[['0', '1']]"
      ]
     },
     "execution_count": 152,
     "metadata": {},
     "output_type": "execute_result"
    }
   ],
   "source": [
    "# 最终子集 \n",
    "zj=get_fizj(zj,dot2)\n",
    "zj"
   ]
  },
  {
   "cell_type": "code",
   "execution_count": 153,
   "id": "019d4b9d-357a-4a30-b45e-daaa811c0ab1",
   "metadata": {
    "execution": {
     "iopub.execute_input": "2022-04-12T07:04:40.862392Z",
     "iopub.status.busy": "2022-04-12T07:04:40.861392Z",
     "iopub.status.idle": "2022-04-12T07:04:40.867375Z",
     "shell.execute_reply": "2022-04-12T07:04:40.866379Z",
     "shell.execute_reply.started": "2022-04-12T07:04:40.862392Z"
    },
    "tags": []
   },
   "outputs": [],
   "source": [
    "t_dic={}\n",
    "for j in zj:\n",
    "    if len(j)>1:\n",
    "        for l in j:\n",
    "            t_dic[l]=j[0]\n",
    "    elif len(j)==1:\n",
    "        t_dic[j[0]]=j[0]"
   ]
  },
  {
   "cell_type": "code",
   "execution_count": 154,
   "id": "129a397f-06eb-4a3d-88fb-71dea52044f0",
   "metadata": {
    "execution": {
     "iopub.execute_input": "2022-04-12T07:04:40.868372Z",
     "iopub.status.busy": "2022-04-12T07:04:40.868372Z",
     "iopub.status.idle": "2022-04-12T07:04:40.872399Z",
     "shell.execute_reply": "2022-04-12T07:04:40.872399Z",
     "shell.execute_reply.started": "2022-04-12T07:04:40.868372Z"
    },
    "tags": []
   },
   "outputs": [],
   "source": [
    "dot_f=nx.DiGraph()"
   ]
  },
  {
   "cell_type": "code",
   "execution_count": 155,
   "id": "991343ad-fae9-4c6c-92ff-7ba9c3d70f94",
   "metadata": {
    "execution": {
     "iopub.execute_input": "2022-04-12T07:04:40.874357Z",
     "iopub.status.busy": "2022-04-12T07:04:40.874357Z",
     "iopub.status.idle": "2022-04-12T07:04:40.882369Z",
     "shell.execute_reply": "2022-04-12T07:04:40.882369Z",
     "shell.execute_reply.started": "2022-04-12T07:04:40.874357Z"
    }
   },
   "outputs": [
    {
     "data": {
      "text/plain": [
       "{'0': '0', '1': '0'}"
      ]
     },
     "execution_count": 155,
     "metadata": {},
     "output_type": "execute_result"
    }
   ],
   "source": [
    "t_dic"
   ]
  },
  {
   "cell_type": "code",
   "execution_count": 156,
   "id": "8a9ccd25-ae7a-465d-af7d-868dcc37a13a",
   "metadata": {
    "execution": {
     "iopub.execute_input": "2022-04-12T07:04:40.884330Z",
     "iopub.status.busy": "2022-04-12T07:04:40.883332Z",
     "iopub.status.idle": "2022-04-12T07:04:40.890313Z",
     "shell.execute_reply": "2022-04-12T07:04:40.890313Z",
     "shell.execute_reply.started": "2022-04-12T07:04:40.884330Z"
    },
    "tags": []
   },
   "outputs": [],
   "source": [
    "kk=[]\n",
    "\n",
    "dr={}\n",
    "dy={}\n",
    "for z in zm:\n",
    "    for n in dot2.nodes:\n",
    "        k=get_I(n,res=[],la=z,dot=dot2)\n",
    "        if len(k)>0:\n",
    "#             if n in t_dic.keys():\n",
    "            k=list(set(k))[0]\n",
    "            kk.append(f'{t_dic[n]}_{t_dic[k]}_{z}')"
   ]
  },
  {
   "cell_type": "code",
   "execution_count": 157,
   "id": "c12b6a24-c17c-4eec-b5a7-0ce1a1642497",
   "metadata": {
    "execution": {
     "iopub.execute_input": "2022-04-12T07:04:40.892308Z",
     "iopub.status.busy": "2022-04-12T07:04:40.892308Z",
     "iopub.status.idle": "2022-04-12T07:04:40.896301Z",
     "shell.execute_reply": "2022-04-12T07:04:40.895305Z",
     "shell.execute_reply.started": "2022-04-12T07:04:40.892308Z"
    },
    "tags": []
   },
   "outputs": [],
   "source": [
    "kk=list(set(kk))"
   ]
  },
  {
   "cell_type": "code",
   "execution_count": 158,
   "id": "b0cfb947-c085-4983-83f8-af24096a904c",
   "metadata": {
    "execution": {
     "iopub.execute_input": "2022-04-12T07:04:40.897299Z",
     "iopub.status.busy": "2022-04-12T07:04:40.897299Z",
     "iopub.status.idle": "2022-04-12T07:04:40.905275Z",
     "shell.execute_reply": "2022-04-12T07:04:40.905275Z",
     "shell.execute_reply.started": "2022-04-12T07:04:40.897299Z"
    }
   },
   "outputs": [
    {
     "data": {
      "text/plain": [
       "['0_0_b or a or a', '0_0_b or a']"
      ]
     },
     "execution_count": 158,
     "metadata": {},
     "output_type": "execute_result"
    }
   ],
   "source": [
    "kk"
   ]
  },
  {
   "cell_type": "code",
   "execution_count": 159,
   "id": "422fd43d-4420-4aec-8444-27b147bd86c3",
   "metadata": {
    "execution": {
     "iopub.execute_input": "2022-04-12T07:04:40.907269Z",
     "iopub.status.busy": "2022-04-12T07:04:40.907269Z",
     "iopub.status.idle": "2022-04-12T07:04:40.913254Z",
     "shell.execute_reply": "2022-04-12T07:04:40.912259Z",
     "shell.execute_reply.started": "2022-04-12T07:04:40.907269Z"
    },
    "tags": []
   },
   "outputs": [],
   "source": [
    "for n in ct_nodes:\n",
    "    if n in list(t_dic.values()):\n",
    "        dot_f.add_node(n,color='red')\n",
    "for n in zt_nodes:\n",
    "    if n in list(t_dic.values()):\n",
    "        dot_f.add_node(n,shape='doublecircle')"
   ]
  },
  {
   "cell_type": "code",
   "execution_count": 160,
   "id": "305b33de-afd3-45e4-b6d7-3da9b28c7dd0",
   "metadata": {
    "execution": {
     "iopub.execute_input": "2022-04-12T07:04:40.914251Z",
     "iopub.status.busy": "2022-04-12T07:04:40.914251Z",
     "iopub.status.idle": "2022-04-12T07:04:40.922229Z",
     "shell.execute_reply": "2022-04-12T07:04:40.921269Z",
     "shell.execute_reply.started": "2022-04-12T07:04:40.914251Z"
    },
    "tags": []
   },
   "outputs": [],
   "source": [
    "for k in kk:\n",
    "    k=k.split('_')\n",
    "    if k[0]==k[1]:\n",
    "        if dot_f.has_edge(k[0], k[1]):\n",
    "            k[2]+=' or '+dot_f[k[0]][k[1]]['name']\n",
    "        dot_f.add_edge(k[0],k[1],name=k[2])\n",
    "    "
   ]
  },
  {
   "cell_type": "code",
   "execution_count": 161,
   "id": "493d6802-7442-4f01-8554-6e7e2eaf7e0a",
   "metadata": {
    "execution": {
     "iopub.execute_input": "2022-04-12T07:04:40.923226Z",
     "iopub.status.busy": "2022-04-12T07:04:40.923226Z",
     "iopub.status.idle": "2022-04-12T07:04:40.928214Z",
     "shell.execute_reply": "2022-04-12T07:04:40.927215Z",
     "shell.execute_reply.started": "2022-04-12T07:04:40.923226Z"
    },
    "tags": []
   },
   "outputs": [],
   "source": [
    "# z_node=[]\n",
    "# for n in dot_f.nodes:\n",
    "#     if dot.in_degree(n)==0 :\n",
    "#         dot_f.add_edge('start',n,)\n",
    "        \n",
    "        \n",
    "        "
   ]
  },
  {
   "cell_type": "code",
   "execution_count": 162,
   "id": "40bcaa80-7f13-4945-bf4b-f5b78f529dfd",
   "metadata": {
    "execution": {
     "iopub.execute_input": "2022-04-12T07:04:40.930208Z",
     "iopub.status.busy": "2022-04-12T07:04:40.930208Z",
     "iopub.status.idle": "2022-04-12T07:04:41.013983Z",
     "shell.execute_reply": "2022-04-12T07:04:41.013983Z",
     "shell.execute_reply.started": "2022-04-12T07:04:40.930208Z"
    },
    "tags": []
   },
   "outputs": [
    {
     "data": {
      "image/svg+xml": [
       "<?xml version=\"1.0\" encoding=\"UTF-8\" standalone=\"no\"?>\n",
       "<!DOCTYPE svg PUBLIC \"-//W3C//DTD SVG 1.1//EN\"\n",
       " \"http://www.w3.org/Graphics/SVG/1.1/DTD/svg11.dtd\">\n",
       "<!-- Generated by graphviz version 2.38.0 (20140413.2041)\n",
       " -->\n",
       "<!-- Title: %3 Pages: 1 -->\n",
       "<svg width=\"182pt\" height=\"52pt\"\n",
       " viewBox=\"0.00 0.00 182.00 52.00\" xmlns=\"http://www.w3.org/2000/svg\" xmlns:xlink=\"http://www.w3.org/1999/xlink\">\n",
       "<g id=\"graph0\" class=\"graph\" transform=\"scale(1 1) rotate(0) translate(4 48)\">\n",
       "<title>%3</title>\n",
       "<polygon fill=\"white\" stroke=\"none\" points=\"-4,4 -4,-48 178,-48 178,4 -4,4\"/>\n",
       "<!-- 0 -->\n",
       "<g id=\"node1\" class=\"node\"><title>0</title>\n",
       "<ellipse fill=\"none\" stroke=\"black\" cx=\"22\" cy=\"-22\" rx=\"18\" ry=\"18\"/>\n",
       "<ellipse fill=\"none\" stroke=\"black\" cx=\"22\" cy=\"-22\" rx=\"22\" ry=\"22\"/>\n",
       "<text text-anchor=\"middle\" x=\"22\" y=\"-18.3\" font-family=\"Times New Roman,serif\" font-size=\"14.00\">0</text>\n",
       "</g>\n",
       "<!-- 0&#45;&gt;0 -->\n",
       "<g id=\"edge1\" class=\"edge\"><title>0&#45;&gt;0</title>\n",
       "<path fill=\"none\" stroke=\"black\" d=\"M42.5808,-30.0063C52.8447,-31.1141 62,-28.4453 62,-22 62,-17.871 58.2427,-15.2918 52.8436,-14.2626\"/>\n",
       "<polygon fill=\"black\" stroke=\"black\" points=\"52.6691,-10.7569 42.5808,-13.9937 52.4857,-17.7545 52.6691,-10.7569\"/>\n",
       "<text text-anchor=\"middle\" x=\"118\" y=\"-18.3\" font-family=\"Times New Roman,serif\" font-size=\"14.00\">b or a or b or a or a</text>\n",
       "</g>\n",
       "</g>\n",
       "</svg>\n"
      ],
      "text/plain": [
       "<graphviz.sources.Source at 0x1d963a00ca0>"
      ]
     },
     "execution_count": 162,
     "metadata": {},
     "output_type": "execute_result"
    }
   ],
   "source": [
    "plot(dot_f)"
   ]
  },
  {
   "cell_type": "code",
   "execution_count": null,
   "id": "efe43b27-1af0-4df9-ab51-3a8e6fcc78fa",
   "metadata": {},
   "outputs": [],
   "source": []
  }
 ],
 "metadata": {
  "kernelspec": {
   "display_name": "Python 3",
   "language": "python",
   "name": "python3"
  },
  "language_info": {
   "codemirror_mode": {
    "name": "ipython",
    "version": 3
   },
   "file_extension": ".py",
   "mimetype": "text/x-python",
   "name": "python",
   "nbconvert_exporter": "python",
   "pygments_lexer": "ipython3",
   "version": "3.8.8"
  }
 },
 "nbformat": 4,
 "nbformat_minor": 5
}