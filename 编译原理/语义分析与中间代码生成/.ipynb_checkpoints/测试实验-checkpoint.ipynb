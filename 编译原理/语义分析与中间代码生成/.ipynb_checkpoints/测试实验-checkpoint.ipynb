{
 "cells": [
  {
   "cell_type": "code",
   "execution_count": 1,
   "id": "5128ebf1-9c07-4aee-ac05-91f37b631703",
   "metadata": {
    "execution": {
     "iopub.execute_input": "2022-05-22T07:40:07.107483Z",
     "iopub.status.busy": "2022-05-22T07:40:07.106484Z",
     "iopub.status.idle": "2022-05-22T07:40:07.111244Z",
     "shell.execute_reply": "2022-05-22T07:40:07.110247Z",
     "shell.execute_reply.started": "2022-05-22T07:40:07.107483Z"
    },
    "tags": []
   },
   "outputs": [],
   "source": [
    "import sys                                                            \n",
    "sys.path.append('D:\\\\代码\\\\编译原理')                                                  \n",
    "sys.path.append('D:\\\\代码')"
   ]
  },
  {
   "cell_type": "code",
   "execution_count": 2,
   "id": "9808fd80-4913-4579-a1de-a8b7bce479d9",
   "metadata": {
    "execution": {
     "iopub.execute_input": "2022-05-22T07:40:07.305466Z",
     "iopub.status.busy": "2022-05-22T07:40:07.305466Z",
     "iopub.status.idle": "2022-05-22T07:40:07.785945Z",
     "shell.execute_reply": "2022-05-22T07:40:07.784947Z",
     "shell.execute_reply.started": "2022-05-22T07:40:07.305466Z"
    },
    "tags": []
   },
   "outputs": [],
   "source": [
    "import pandas as pd\n",
    "import networkx as nx\n",
    "from networkx.drawing.nx_pydot import read_dot"
   ]
  },
  {
   "cell_type": "code",
   "execution_count": 3,
   "id": "02b9d5b2-8129-4888-9453-0c897c33745e",
   "metadata": {
    "execution": {
     "iopub.execute_input": "2022-05-22T07:40:07.786943Z",
     "iopub.status.busy": "2022-05-22T07:40:07.786943Z",
     "iopub.status.idle": "2022-05-22T07:40:09.867837Z",
     "shell.execute_reply": "2022-05-22T07:40:09.867103Z",
     "shell.execute_reply.started": "2022-05-22T07:40:07.786943Z"
    },
    "tags": []
   },
   "outputs": [],
   "source": [
    "d = read_dot('D:/代码/编译原理/语义分析与中间代码生成/static/source.dot')"
   ]
  },
  {
   "cell_type": "code",
   "execution_count": 4,
   "id": "a4834013-6263-4799-bf78-53488dc15fbb",
   "metadata": {
    "execution": {
     "iopub.execute_input": "2022-05-22T07:40:09.868795Z",
     "iopub.status.busy": "2022-05-22T07:40:09.868795Z",
     "iopub.status.idle": "2022-05-22T07:40:09.871497Z",
     "shell.execute_reply": "2022-05-22T07:40:09.871245Z",
     "shell.execute_reply.started": "2022-05-22T07:40:09.868795Z"
    },
    "tags": []
   },
   "outputs": [],
   "source": [
    "table=[]"
   ]
  },
  {
   "cell_type": "code",
   "execution_count": 5,
   "id": "d7885fae-3123-4952-94f4-0d4fe1dd21e4",
   "metadata": {
    "execution": {
     "iopub.execute_input": "2022-05-22T07:40:09.873496Z",
     "iopub.status.busy": "2022-05-22T07:40:09.873496Z",
     "iopub.status.idle": "2022-05-22T07:40:09.887041Z",
     "shell.execute_reply": "2022-05-22T07:40:09.886045Z",
     "shell.execute_reply.started": "2022-05-22T07:40:09.873496Z"
    },
    "tags": []
   },
   "outputs": [],
   "source": [
    "fz=['S', 'funcs', 'func', 'type', 'args', 'arg', 'func_body', 'block', 'define_stmts', 'define_stmt', 'init', 'vars', 'stmts', 'stmt', 'assign_stmt', 'jump_stmt', 'iteration_stmt', 'branch_stmt', 'result', 'logical_expression', 'bool_expression', 'lop', 'case_stmts', 'case_stmt', 'default_stmt', 'block_stmt', 'isnull_expr1', 'isnull_expr2', 'IDN_NUM', 'isnull_expr', 'expression', 'operation', 'compare_op', 'equal_op', 'value', 'value_', 'item', 'item_', 'factor', 'call_func', 'es', 'isnull_es', 'const', 'num_const']"
   ]
  },
  {
   "cell_type": "markdown",
   "id": "8dbba09d-da83-45ff-b415-fe56f6306ed6",
   "metadata": {},
   "source": [
    "## 函数的作用域\n",
    "每遇到一个{代表着要进行作用域指定\n"
   ]
  },
  {
   "cell_type": "code",
   "execution_count": 6,
   "id": "28a954fc-87bb-47f8-9d5d-3d0515307cb8",
   "metadata": {
    "execution": {
     "iopub.execute_input": "2022-05-22T07:40:09.888039Z",
     "iopub.status.busy": "2022-05-22T07:40:09.888039Z",
     "iopub.status.idle": "2022-05-22T07:40:09.896964Z",
     "shell.execute_reply": "2022-05-22T07:40:09.895971Z",
     "shell.execute_reply.started": "2022-05-22T07:40:09.888039Z"
    },
    "tags": []
   },
   "outputs": [],
   "source": [
    "def get_zj(d,start,value):\n",
    "    key=list(dict(d[start]).keys())\n",
    "    if len(key)==0:\n",
    "        value.append(start.split(' ')[0])\n",
    "        return value\n",
    "    else:\n",
    "        for k in key:\n",
    "            if k[0]!='$':\n",
    "                value=get_zj(d,k,value)\n",
    "    \n",
    "    return value\n",
    "            \n",
    "        "
   ]
  },
  {
   "cell_type": "code",
   "execution_count": 7,
   "id": "2d2f1fa5-0311-4976-9d9b-268e5c633f29",
   "metadata": {
    "execution": {
     "iopub.execute_input": "2022-05-22T07:40:09.897960Z",
     "iopub.status.busy": "2022-05-22T07:40:09.897960Z",
     "iopub.status.idle": "2022-05-22T07:40:09.904942Z",
     "shell.execute_reply": "2022-05-22T07:40:09.903945Z",
     "shell.execute_reply.started": "2022-05-22T07:40:09.897960Z"
    },
    "tags": []
   },
   "outputs": [],
   "source": [
    "def link_jia(sy,ck,qd,zd):\n",
    "    for q in qd:\n",
    "        \n",
    "        for m,n in  enumerate(sy[q]) :\n",
    "            print(m,n)\n",
    "        if n[-1]=='sentence_unknow':\n",
    "            sy[q][m][-1]=zd\n",
    "        else:\n",
    "            print('有问题',qd,zd,print(sy[q]))\n",
    "    print(sy)\n",
    "    return sy\n",
    "        "
   ]
  },
  {
   "cell_type": "markdown",
   "id": "3c6f2d4a-b0f5-4a40-adcf-e6f947791d8c",
   "metadata": {
    "execution": {
     "iopub.execute_input": "2022-05-20T12:31:50.972771Z",
     "iopub.status.busy": "2022-05-20T12:31:50.971773Z",
     "iopub.status.idle": "2022-05-20T12:31:50.981743Z",
     "shell.execute_reply": "2022-05-20T12:31:50.979751Z",
     "shell.execute_reply.started": "2022-05-20T12:31:50.972771Z"
    }
   },
   "source": [
    "写一个复制中间代码的\n",
    "    在遇到一般的以sentence xx代替\n",
    "    遇到stmt进行中间代码的合并\n",
    "    遇到for、if、while、将内含的sentencexx复制到零一份中间代码，与此同时根据情况插入假出口！！再使用"
   ]
  },
  {
   "cell_type": "markdown",
   "id": "a4ecd594-ca49-49f5-829f-7459c6f90d9e",
   "metadata": {},
   "source": [
    "如果没有else\n",
    "    在if 里面真出口跳转到指定语句组第一个语句\n",
    "    语句组最后一个语句无条件\n",
    "如果有else"
   ]
  },
  {
   "cell_type": "code",
   "execution_count": 8,
   "id": "468a16ac-1621-4084-b346-c38e419a79c8",
   "metadata": {
    "execution": {
     "iopub.execute_input": "2022-05-22T07:40:09.906936Z",
     "iopub.status.busy": "2022-05-22T07:40:09.905940Z",
     "iopub.status.idle": "2022-05-22T07:40:09.913465Z",
     "shell.execute_reply": "2022-05-22T07:40:09.912469Z",
     "shell.execute_reply.started": "2022-05-22T07:40:09.906936Z"
    },
    "tags": []
   },
   "outputs": [],
   "source": [
    "def copy_mid(sy,snum,target_sum):\n",
    "    jck=[]\n",
    "    for s in sy[target_sum]:\n",
    "        if s[-1]==target_sum:\n",
    "            jck.append(snum)\n",
    "        sy[f'sentence{snum}']=s\n",
    "        snum+=1\n",
    "    \n",
    "    return sy,snum,jck"
   ]
  },
  {
   "cell_type": "code",
   "execution_count": 9,
   "id": "0c6bc152-723f-45f4-9902-4284938ff6d0",
   "metadata": {
    "execution": {
     "iopub.execute_input": "2022-05-22T07:40:09.915457Z",
     "iopub.status.busy": "2022-05-22T07:40:09.915457Z",
     "iopub.status.idle": "2022-05-22T07:40:09.920135Z",
     "shell.execute_reply": "2022-05-22T07:40:09.920135Z",
     "shell.execute_reply.started": "2022-05-22T07:40:09.915457Z"
    },
    "tags": []
   },
   "outputs": [],
   "source": [
    "def get_allsy(sy,first,final):\n",
    "    temp=[]\n",
    "    for i in range(first,final):\n",
    "        temp.append(sy[f'sentence{i}'])\n",
    "    return temp"
   ]
  },
  {
   "cell_type": "code",
   "execution_count": 10,
   "id": "7570ae90-2c7b-4fd5-83e0-45b35aea0629",
   "metadata": {
    "execution": {
     "iopub.execute_input": "2022-05-22T07:40:09.922128Z",
     "iopub.status.busy": "2022-05-22T07:40:09.922128Z",
     "iopub.status.idle": "2022-05-22T07:40:09.942703Z",
     "shell.execute_reply": "2022-05-22T07:40:09.941706Z",
     "shell.execute_reply.started": "2022-05-22T07:40:09.922128Z"
    },
    "tags": []
   },
   "outputs": [],
   "source": [
    "def deal_bool_expression(code,num,snum,sy,ck):\n",
    "    ja=[]\n",
    "    first=snum\n",
    "    jck=[]\n",
    "    symbol =['>','<','==','!=','>=','<=']\n",
    "    idn_stack=[]\n",
    "    com_stack=[]\n",
    "    last_z=''\n",
    "    last_j=''\n",
    "    if_index=code.index('if')\n",
    "    hual_index=code.index('{')\n",
    "    huar_index=code.index('}')\n",
    "    bool_expression=code[if_index+2:hual_index-1]\n",
    "    real_z=code[hual_index+1:huar_index]\n",
    "    if 'else' in code:\n",
    "        else_index=code.index('else')\n",
    "        else_rindex= else_index\n",
    "        while code[else_rindex]!='}':\n",
    "            else_rindex+=1\n",
    "        \n",
    "        real_j=code[else_index+2:else_rindex]\n",
    "        \n",
    "    elif huar_index<len(code)-1 :\n",
    "        real_j=code[huar_index+1]\n",
    "    else:\n",
    "        real_j='sentence_unknow'\n",
    "        \n",
    "    for s in bool_expression :\n",
    "        if s.isalpha() or s.isdigit() or s.isidentifier():\n",
    "            idn_stack.append(s)\n",
    "        elif s in symbol:\n",
    "            com_stack.append(s)\n",
    "\n",
    "    \n",
    "    compare=com_stack.pop()\n",
    "    b=idn_stack.pop()\n",
    "    a=idn_stack.pop()\n",
    "    \n",
    "    \n",
    "    \n",
    "    if 'else' not in code:\n",
    "        sy[f'sentence{snum}']=[f'j{compare}',a,b,f'sentence{snum+2}']\n",
    "        snum+=1\n",
    "        sy[f'sentence{snum}']=['j',' ',' ','sentence_unknow']\n",
    "        jck=[f'sentence{snum}']\n",
    "        snum+=1\n",
    "        for r in real_z:\n",
    "            if 'sentence' in r:\n",
    "                print(r,snum)\n",
    "                sy,snum,ja=copy_mid(sy,snum,r)\n",
    "        if len(ja)!=0:\n",
    "            for j in ja:\n",
    "                sy[f'sentence{j}']=['j',' ',' ','sentence_unknow']\n",
    "                jck.append(f'sentence{j}')\n",
    "        else:\n",
    "            sy[f'sentence{snum}']=['j',' ',' ','sentence_unknow']\n",
    "            jck.append(f'sentence{snum}')\n",
    "            snum+=1\n",
    "        \n",
    "        \n",
    "        \n",
    "    else:\n",
    "        sy[f'sentence{snum}']=[f'j{compare}',a,b,f'sentence{snum+2}']\n",
    "        \n",
    "#         求长度\n",
    "        L=0\n",
    "        for r in real_z:\n",
    "            if 'sentence' in r:\n",
    "                L+=len(sy[r])\n",
    "        else_in=snum+L\n",
    "        \n",
    "        snum+=1\n",
    "        sy[f'sentence{snum}']=['j',' ',' ',f'sentence{else_in+1}']\n",
    "        snum+=1\n",
    "        for r in real_z:\n",
    "            if 'sentence' in r:\n",
    "                print(r,snum)\n",
    "                sy,snum,ja=copy_mid(sy,snum,r)\n",
    "                \n",
    "                \n",
    "        if len(ja)!=0:\n",
    "            for j in ja:\n",
    "                sy[f'sentence{j}']=['j',' ',' ','sentence_unknow']\n",
    "                jck.append(f'sentence{j}')\n",
    "        else:\n",
    "            sy[f'sentence{snum}']=['j',' ',' ','sentence_unknow']\n",
    "            jck.append(f'sentence{snum}')\n",
    "            snum+=1\n",
    "        \n",
    "        \n",
    "        print('现在snum',snum)\n",
    "        snum=else_in+3\n",
    "        print('else snum',snum)\n",
    "        for r in real_j:\n",
    "            if 'sentence' in r:\n",
    "                print(r,snum)\n",
    "                sy,snum,ja=copy_mid(sy,snum,r)\n",
    "                \n",
    "        if len(ja)!=0:\n",
    "            for j in ja:\n",
    "                sy[f'sentence{j}']=['j',' ',' ','sentence_unknow']\n",
    "                jck.append(f'sentence{j}')\n",
    "        else:\n",
    "            sy[f'sentence{snum}']=['j',' ',' ','sentence_unknow']\n",
    "            jck.append(f'sentence{snum}')\n",
    "            snum+=1\n",
    "        \n",
    "        \n",
    "    sy[f'sentence{snum}']=get_allsy(sy,first,snum)\n",
    "    snum+=1\n",
    "    for c in jck:\n",
    "        sy[c].pop()\n",
    "        sy[c].append(f'sentence{snum}')\n",
    "    \n",
    "    return num,snum,sy,ck"
   ]
  },
  {
   "cell_type": "code",
   "execution_count": 11,
   "id": "ef769951-304b-4f32-a79c-c769c814d968",
   "metadata": {
    "execution": {
     "iopub.execute_input": "2022-05-22T07:40:09.945694Z",
     "iopub.status.busy": "2022-05-22T07:40:09.944700Z",
     "iopub.status.idle": "2022-05-22T07:40:09.966948Z",
     "shell.execute_reply": "2022-05-22T07:40:09.965950Z",
     "shell.execute_reply.started": "2022-05-22T07:40:09.945694Z"
    },
    "tags": []
   },
   "outputs": [
    {
     "name": "stdout",
     "output_type": "stream",
     "text": [
      "sentence22 2\n"
     ]
    },
    {
     "data": {
      "text/plain": [
       "{'sentence44': [['j', ' ', ' ', 'sentence_unknow']],\n",
       " 'sentence22': [['+', 'a', 'b', 't0']],\n",
       " 'sentence33': [['+', 'a', 'b', 't0']],\n",
       " 'sentence0': ['j>', 'a', 'c', 'sentence2'],\n",
       " 'sentence1': ['j', ' ', ' ', 'sentence5'],\n",
       " 'sentence2': ['+', 'a', 'b', 't0'],\n",
       " 'sentence3': ['j', ' ', ' ', 'sentence5'],\n",
       " 'sentence4': [['j>', 'a', 'c', 'sentence2'],\n",
       "  ['j', ' ', ' ', 'sentence5'],\n",
       "  ['+', 'a', 'b', 't0'],\n",
       "  ['j', ' ', ' ', 'sentence5']]}"
      ]
     },
     "execution_count": 11,
     "metadata": {},
     "output_type": "execute_result"
    }
   ],
   "source": [
    "ck={\n",
    "    'sentence22':['sentence44'],\n",
    "}\n",
    "sy={\n",
    "    'sentence44':[['j',' ',' ','sentence_unknow']],\n",
    "    'sentence22':[['+','a','b','t0']],\n",
    "    'sentence33':[['+','a','b','t0']],\n",
    "}\n",
    "num,snum,sy,ck=deal_bool_expression(['if','(','a','>','c',')','{','sentence22','}'],0,0,sy,ck)\n",
    "sy"
   ]
  },
  {
   "cell_type": "code",
   "execution_count": 12,
   "id": "3e46c228-f894-4e8e-9bd2-882b577a43d2",
   "metadata": {
    "execution": {
     "iopub.execute_input": "2022-05-22T07:40:09.967945Z",
     "iopub.status.busy": "2022-05-22T07:40:09.967945Z",
     "iopub.status.idle": "2022-05-22T07:40:09.981354Z",
     "shell.execute_reply": "2022-05-22T07:40:09.981354Z",
     "shell.execute_reply.started": "2022-05-22T07:40:09.967945Z"
    },
    "tags": []
   },
   "outputs": [],
   "source": [
    "def cal(right,num,snum,sy,ck):\n",
    "    if len(right)<=1:\n",
    "        return num,snum,sy,ck\n",
    "    level={'+':1,'-':1,'*':2,'/':2,'%':2,')':3,'(':0,'<':0.5,'>':0.5,'<=':0.5,'>=':0.5,'==':0.5,'!=':0.5}\n",
    "    \n",
    "    cal_op=[]\n",
    "    num_op=[]\n",
    "    for r in right:\n",
    "        if r.isalpha()or r.isdigit():\n",
    "            num_op.append(r)\n",
    "        else:\n",
    "            if r==')':\n",
    "                while True:\n",
    "                    top=cal_op.pop()\n",
    "                    if top=='(':\n",
    "                        break\n",
    "                    b=num_op.pop()\n",
    "                    a=num_op.pop()\n",
    "                    sy[f'sentence{snum}']=[top,a,b,f't{num}']\n",
    "                    num_op.append(f't{num}')\n",
    "                    snum+=1\n",
    "                    num+=1\n",
    "                    \n",
    "            elif  r=='(':\n",
    "                cal_op.append(r)\n",
    "            elif len(cal_op)==0 or  level[r]>= level[cal_op[-1]]  :\n",
    "                cal_op.append(r)\n",
    "\n",
    "            elif level[r]< level[cal_op[-1]]:\n",
    "\n",
    "                top=cal_op.pop()\n",
    "                b=num_op.pop()\n",
    "                a=num_op.pop()\n",
    "                sy[f'sentence{snum}']=[top,a,b,f't{num}']\n",
    "                num_op.append(f't{num}')\n",
    "                snum+=1\n",
    "                num+=1\n",
    "                cal_op.append(r)\n",
    "\n",
    "\n",
    "    while len(cal_op)!=0:\n",
    "        top=cal_op.pop()\n",
    "        b=num_op.pop()\n",
    "        a=num_op.pop()\n",
    "        sy[f'sentence{snum}']=[top,a,b,f't{num}']\n",
    "        num_op.append(f't{num}')\n",
    "        num+=1\n",
    "        snum+=1\n",
    "    return num,snum,sy,ck"
   ]
  },
  {
   "cell_type": "code",
   "execution_count": 13,
   "id": "d4cb07d8-533b-4a87-a74c-f05269121eba",
   "metadata": {
    "execution": {
     "iopub.execute_input": "2022-05-22T07:40:10.248616Z",
     "iopub.status.busy": "2022-05-22T07:40:10.247647Z",
     "iopub.status.idle": "2022-05-22T07:40:10.257838Z",
     "shell.execute_reply": "2022-05-22T07:40:10.257838Z",
     "shell.execute_reply.started": "2022-05-22T07:40:10.248616Z"
    },
    "tags": []
   },
   "outputs": [],
   "source": [
    "def deal_expression(code,num,snum,sy,ck):\n",
    "    '''\n",
    "    算术表达式应该是没有假出口的\n",
    "    '''\n",
    "    first=snum\n",
    "    level={'+':1,'-':1,'*':2,'/':2,'%':2,')':3,'(':0,'<':0.5,'>':0.5,'<=':0.5,'>=':0.5,'==':0.5,'!=':0.5}\n",
    "    \n",
    "    if '=' in code:\n",
    "        \n",
    "        ind=code.index('=')\n",
    "        name=code[ind]\n",
    "        right=code[ind+1:]\n",
    "        left=code[:ind]\n",
    "        \n",
    "        if len(right) ==1:\n",
    "                \n",
    "            sy[f'sentence{snum}'] = ['=',right[0],' ',left[0]]\n",
    "            snum+=1\n",
    "            \n",
    "        else:\n",
    "            num,snum,sy,ck=cal(right,num,snum,sy,ck)\n",
    "            sy[f'sentence{snum}']=['=',f't{num-1}',' ',left[0]]    \n",
    "            num+=1\n",
    "            snum+=1\n",
    "    else:\n",
    "        sy=[]\n",
    "    \n",
    "    \n",
    "    sy[f'sentence{snum}']=get_allsy(sy,first,snum)\n",
    "    snum+=1\n",
    "    \n",
    "    return num,snum,sy,ck"
   ]
  },
  {
   "cell_type": "code",
   "execution_count": 14,
   "id": "bb21665f-00ee-4fd5-ada4-d30f03eb4124",
   "metadata": {
    "execution": {
     "iopub.execute_input": "2022-05-22T07:40:10.505879Z",
     "iopub.status.busy": "2022-05-22T07:40:10.504881Z",
     "iopub.status.idle": "2022-05-22T07:40:10.510401Z",
     "shell.execute_reply": "2022-05-22T07:40:10.510401Z",
     "shell.execute_reply.started": "2022-05-22T07:40:10.505879Z"
    },
    "tags": []
   },
   "outputs": [
    {
     "data": {
      "text/plain": [
       "{'sentence0': ['+', 'a', 'a', 't0'],\n",
       " 'sentence1': ['=', 't0', ' ', 'a'],\n",
       " 'sentence2': [['+', 'a', 'a', 't0'], ['=', 't0', ' ', 'a']]}"
      ]
     },
     "execution_count": 14,
     "metadata": {},
     "output_type": "execute_result"
    }
   ],
   "source": [
    "num,snum,sy,ck=deal_expression(['a','=','a','+','a'],0,0,{},{})\n",
    "sy"
   ]
  },
  {
   "cell_type": "code",
   "execution_count": 15,
   "id": "ae0b7303-287a-4883-8adf-41c4fe8a81c8",
   "metadata": {
    "execution": {
     "iopub.execute_input": "2022-05-22T07:40:10.732328Z",
     "iopub.status.busy": "2022-05-22T07:40:10.732328Z",
     "iopub.status.idle": "2022-05-22T07:40:10.743296Z",
     "shell.execute_reply": "2022-05-22T07:40:10.742299Z",
     "shell.execute_reply.started": "2022-05-22T07:40:10.732328Z"
    },
    "tags": []
   },
   "outputs": [],
   "source": [
    "def  deal_com(expr,sy,num,snum,ck):\n",
    "    level=['<','>','<=','>=','==','!=']\n",
    "    comp_ind=0\n",
    "    for c,d in enumerate(expr):\n",
    "        print(c,d)\n",
    "        if d in level:\n",
    "            comp_ind=c\n",
    "            break\n",
    "    \n",
    "    left=expr[:comp_ind]\n",
    "    right=expr[comp_ind+1:]\n",
    "    \n",
    "    num2,snum,sy,ck=cal(left,num,snum,sy,ck)\n",
    "    print(num2,snum)\n",
    "    if num2!=num:\n",
    "        left=sy[snum-1][-1]\n",
    "        num=num2\n",
    "    else:\n",
    "        left=left[0]\n",
    "    \n",
    "    num2,snum,sy,ck=cal(right,num,snum,sy,ck)\n",
    "    print(num2,snum,sy)\n",
    "    if num2!=num:\n",
    "        right=sy[f'sentence{snum-1}'][-1]\n",
    "        num=num2\n",
    "    else:\n",
    "        right=right[0]\n",
    "    return left,expr[comp_ind],right,sy,num,snum,ck\n"
   ]
  },
  {
   "cell_type": "code",
   "execution_count": 16,
   "id": "9996e7f8-658c-417b-9986-56801ba80af5",
   "metadata": {
    "execution": {
     "iopub.execute_input": "2022-05-22T07:40:10.984403Z",
     "iopub.status.busy": "2022-05-22T07:40:10.984403Z",
     "iopub.status.idle": "2022-05-22T07:40:10.991382Z",
     "shell.execute_reply": "2022-05-22T07:40:10.990386Z",
     "shell.execute_reply.started": "2022-05-22T07:40:10.984403Z"
    },
    "tags": []
   },
   "outputs": [
    {
     "name": "stdout",
     "output_type": "stream",
     "text": [
      "0 a\n",
      "1 <\n",
      "0 0\n",
      "1 1 {'sentence0': ['+', 'c', 'd', 't0']}\n"
     ]
    },
    {
     "data": {
      "text/plain": [
       "('a', '<', 't0', {'sentence0': ['+', 'c', 'd', 't0']}, 1, 1, {})"
      ]
     },
     "execution_count": 16,
     "metadata": {},
     "output_type": "execute_result"
    }
   ],
   "source": [
    "deal_com(['a','<','c','+','d'],{},0,0,{})"
   ]
  },
  {
   "cell_type": "code",
   "execution_count": 17,
   "id": "0fb7776d-ba19-4ade-bd43-7b8ba75f38a1",
   "metadata": {
    "execution": {
     "iopub.execute_input": "2022-05-22T07:40:11.212541Z",
     "iopub.status.busy": "2022-05-22T07:40:11.212541Z",
     "iopub.status.idle": "2022-05-22T07:40:11.230677Z",
     "shell.execute_reply": "2022-05-22T07:40:11.229497Z",
     "shell.execute_reply.started": "2022-05-22T07:40:11.212541Z"
    },
    "tags": []
   },
   "outputs": [],
   "source": [
    "def deal_iteration(code,num,snum,sy,ck):\n",
    "    ja=[]\n",
    "    first=snum\n",
    "    khl=code.index('(')\n",
    "    khr=code.index(')')\n",
    "    expression=code[khl+1:khr]\n",
    "    expr=[]\n",
    "    temp=[]\n",
    "    fi_r=khr\n",
    "    while code[fi_r]!='}':\n",
    "        fi_r+=1\n",
    "\n",
    "    real_z=code[khr+2:fi_r]\n",
    "\n",
    "\n",
    "    if 'for' in code:\n",
    "        expression.insert(1,';')\n",
    "        print('expression',expression)\n",
    "        for e in  expression:\n",
    "            if e!=';':\n",
    "                temp.append(e)\n",
    "\n",
    "            else:\n",
    "                expr.append(temp)\n",
    "                temp=[]\n",
    "        expr.append(temp)\n",
    "        for r in expr[0]:\n",
    "            if 'sentence' in r:\n",
    "                sy,snum,ja=copy_mid(sy,snum,r)\n",
    "                \n",
    "        pa=f'sentence{snum}'\n",
    "        left,comp,right,sy,num,snum,ck=deal_com(expr[1],sy,num,snum,ck)\n",
    "        \n",
    "        sy[f'sentence{snum}'] = [f'j{comp}',left,right,f'sentence_daiding']\n",
    "        expc=f'sentence{snum}'\n",
    "        \n",
    "        snum+=1\n",
    "        sy[f'sentence{snum}']=['j',' ',' ','sentence_unknow']\n",
    "        jck=[f'sentence{snum}']\n",
    "        snum+=1\n",
    "        \n",
    "        #     这里要接上expr2\n",
    "        pa2=f'sentence{snum}'\n",
    "        for r in expr[2]:\n",
    "                if 'sentence' in r:\n",
    "                    print(r,snum)\n",
    "                    sy,snum,ja=copy_mid(sy,snum,r)\n",
    "                    \n",
    "        sy[f'sentence{snum}']=['j',' ',' ',pa]\n",
    "        snum+=1\n",
    "        \n",
    "        sy[expc][-1]=f'sentence{snum}'\n",
    "        for r in real_z:\n",
    "                if 'sentence' in r:\n",
    "                    sy,snum,ja=copy_mid(sy,snum,r)\n",
    "        \n",
    "        if len(ja)!=0:            \n",
    "            for j in ja:\n",
    "                sy[f'sentence{j}']=['j',' ',' ',pa2]\n",
    "        else:\n",
    "            sy[f'sentence{snum}']=['j',' ',' ',pa2]\n",
    "            snum+=1\n",
    "        \n",
    "        sy[f'sentence{snum}']=get_allsy(sy,first,snum)\n",
    "        snum+=1\n",
    "    elif 'while' in code:\n",
    "        pa=f'sentence{snum}'\n",
    "        left,comp,right,sy,num,snum,ck=deal_com(expression,sy,num,snum,ck)\n",
    "        sy[f'sentence{snum}'] = [f'j{comp}',left,right,f'sentence_daiding']\n",
    "        expc=f'sentence{snum}'\n",
    "        snum+=1\n",
    "        sy[f'sentence{snum}']=['j',' ',' ','sentence_unknow']\n",
    "        jck=[f'sentence{snum}']\n",
    "        snum+=1\n",
    "        sy[expc][-1]=f'sentence{snum}'\n",
    "        for r in real_z:\n",
    "                if 'sentence' in r:\n",
    "                    sy,snum,ja=copy_mid(sy,snum,r)\n",
    "        if len(ja)!=0:\n",
    "            for j in ja:\n",
    "                sy[f'sentence{j}']=['j',' ',' ',pa]\n",
    "        else:\n",
    "            sy[f'sentence{snum}']=['j',' ',' ',pa]\n",
    "            snum+=1\n",
    "            \n",
    "        \n",
    "        sy[f'sentence{snum}']=get_allsy(sy,first,snum)\n",
    "        snum+=1\n",
    "    for c in jck:\n",
    "        sy[c].pop()\n",
    "        sy[c].append(f'sentence{snum}')\n",
    "    \n",
    "    return num,snum,sy,ck"
   ]
  },
  {
   "cell_type": "code",
   "execution_count": 18,
   "id": "ba481309-1c82-4123-93b1-20ea1fa3e096",
   "metadata": {
    "execution": {
     "iopub.execute_input": "2022-05-22T07:40:11.432914Z",
     "iopub.status.busy": "2022-05-22T07:40:11.431916Z",
     "iopub.status.idle": "2022-05-22T07:40:11.447508Z",
     "shell.execute_reply": "2022-05-22T07:40:11.446510Z",
     "shell.execute_reply.started": "2022-05-22T07:40:11.432914Z"
    },
    "tags": []
   },
   "outputs": [
    {
     "name": "stdout",
     "output_type": "stream",
     "text": [
      "expression ['sentence1', ';', 'i', '<', 'b', ';', 'sentence3']\n",
      "0 i\n",
      "1 <\n",
      "10 11\n",
      "10 11 {'sentence1': [['=', '0', ' ', 'i']], 'sentence2': [['j', ' ', ' ', 'sentence3']], 'sentence3': [['+', 'i', '1', 't0'], ['=', 't0', ' ', 'i']], 'sentence4': [['+', 'm', '1', 't2'], ['=', 't2', ' ', 'f'], ['j', ' ', ' ', 'sentence4']], 'sentence10': ['=', '0', ' ', 'i']}\n",
      "sentence3 13\n"
     ]
    },
    {
     "data": {
      "text/plain": [
       "(10,\n",
       " 20,\n",
       " {'sentence1': [['=', '0', ' ', 'i']],\n",
       "  'sentence2': [['j', ' ', ' ', 'sentence3']],\n",
       "  'sentence3': [['+', 'i', '1', 't0'], ['=', 't0', ' ', 'i']],\n",
       "  'sentence4': [['+', 'm', '1', 't2'],\n",
       "   ['=', 't2', ' ', 'f'],\n",
       "   ['j', ' ', ' ', 'sentence4']],\n",
       "  'sentence10': ['=', '0', ' ', 'i'],\n",
       "  'sentence11': ['j<', 'i', 'b', 'sentence16'],\n",
       "  'sentence12': ['j', ' ', ' ', 'sentence20'],\n",
       "  'sentence13': ['+', 'i', '1', 't0'],\n",
       "  'sentence14': ['=', 't0', ' ', 'i'],\n",
       "  'sentence15': ['j', ' ', ' ', 'sentence11'],\n",
       "  'sentence16': ['+', 'm', '1', 't2'],\n",
       "  'sentence17': ['=', 't2', ' ', 'f'],\n",
       "  'sentence18': ['j', ' ', ' ', 'sentence13'],\n",
       "  'sentence19': [['=', '0', ' ', 'i'],\n",
       "   ['j<', 'i', 'b', 'sentence16'],\n",
       "   ['j', ' ', ' ', 'sentence20'],\n",
       "   ['+', 'i', '1', 't0'],\n",
       "   ['=', 't0', ' ', 'i'],\n",
       "   ['j', ' ', ' ', 'sentence11'],\n",
       "   ['+', 'm', '1', 't2'],\n",
       "   ['=', 't2', ' ', 'f'],\n",
       "   ['j', ' ', ' ', 'sentence13']]},\n",
       " {'sentence3': [2]})"
      ]
     },
     "execution_count": 18,
     "metadata": {},
     "output_type": "execute_result"
    }
   ],
   "source": [
    "sy={\n",
    "    'sentence1':[['=','0',' ','i']],\n",
    "    'sentence2':[['j',' ',' ','sentence3']],\n",
    "    'sentence3':[['+','i','1','t0'],['=','t0',' ','i']],\n",
    "    'sentence4':[['+','m','1','t2'],['=','t2',' ','f'],['j',' ',' ','sentence4']],\n",
    "    \n",
    "}\n",
    "ck={\n",
    "    'sentence3':[2],\n",
    "}\n",
    "deal_iteration(['for','(','sentence1','i','<','b',';','sentence3',')','{','sentence4','}'],10,10,sy,ck)"
   ]
  },
  {
   "cell_type": "markdown",
   "id": "51252a77-15c4-44ee-a009-10781c886ad3",
   "metadata": {},
   "source": [
    "    '''\n",
    "    d ：语法树\n",
    "    start ：当前遍历所在节点\n",
    "    fz ： 所有非终结符\n",
    "    num ： 临时变量值\n",
    "    snum : 四元式的数量\n",
    "    sy : 存储四元式\n",
    "    ck ： 存储假出口\n",
    "    '''"
   ]
  },
  {
   "cell_type": "code",
   "execution_count": 52,
   "id": "2ca2c600-818e-42d7-8e7e-63425547e8fe",
   "metadata": {
    "execution": {
     "iopub.execute_input": "2022-05-22T07:52:01.971996Z",
     "iopub.status.busy": "2022-05-22T07:52:01.971996Z",
     "iopub.status.idle": "2022-05-22T07:52:01.986077Z",
     "shell.execute_reply": "2022-05-22T07:52:01.984996Z",
     "shell.execute_reply.started": "2022-05-22T07:52:01.971996Z"
    },
    "tags": []
   },
   "outputs": [],
   "source": [
    "def mid_code(d,start,fz,num,snum,sy,ck):\n",
    "    value=[]\n",
    "    name=start.split(' ')[0]\n",
    "    key=list(dict(d[start]).keys())\n",
    "    if len(key)==0:\n",
    "        value.append(name)\n",
    "        return value,num,snum,sy,ck\n",
    "    else:\n",
    "        for k in key:\n",
    "            if k[0]!='$':\n",
    "                va,num,snum,sy,ck=mid_code(d,k,fz,num,snum,sy,ck)\n",
    "                value.extend(va)\n",
    "    \n",
    "    if name in ['expression','isnull_expr3']:\n",
    "        print('遇到',name,value)\n",
    "        if '=' in value:\n",
    "            num,snum,sy,ck=deal_expression(value,num,snum,sy,ck)\n",
    "            value=[f'sentence{snum-1}']\n",
    "            print('中间代码如下',sy[value[0]])\n",
    "    elif name =='isnull_expr1':\n",
    "        print('遇到',name,value)\n",
    "        if '=' in value:\n",
    "            if value[0] in ['int','char']:\n",
    "                num,snum,sy,ck=deal_expression(value[1:-1],num,snum,sy,ck)\n",
    "                value=[f'sentence{snum-1}']\n",
    "                print('中间代码如下',sy[value[0]])\n",
    "            else:\n",
    "                num,snum,sy,ck=deal_expression(value[:-1],num,snum,sy,ck)\n",
    "                value=[f'sentence{snum-1}']\n",
    "                print('中间代码如下',sy[value[0]])\n",
    "\n",
    "    elif name =='define_stmt':\n",
    "        print('遇到',name,value)\n",
    "        ind=value.index(';')\n",
    "        if '+' in value or '*' in  value or '-'in  value or '/'in  value :\n",
    "            num,snum,sy,ck=deal_expression(value[1:ind],num,snum,sy,ck)\n",
    "            if 'define' not in sy:\n",
    "                sy['define']=value\n",
    "            else:\n",
    "                sy['define'].extend(value)\n",
    "            \n",
    "            value=[f'sentence{snum-1}']\n",
    "            \n",
    "  \n",
    "    elif name =='branch_stmt':\n",
    "        print('遇到',name,value)\n",
    "        num,snum,sy,ck=deal_bool_expression(value,num,snum,sy,ck)\n",
    "        value=[f'sentence{snum-1}']\n",
    "        print('中间代码如下',sy[value[0]])\n",
    "        \n",
    "    elif name=='iteration_stmt':\n",
    "        print('遇到',name,value)\n",
    "        num,snum,sy,ck=deal_iteration(value,num,snum,sy,ck)\n",
    "        value=[f'sentence{snum-1}']\n",
    "        print('中间代码如下',f'sentence{snum-1}','->',sy[value[0]])\n",
    "    elif name=='stmts':\n",
    "        print('遇到',name,'开始整合')\n",
    "        \n",
    "    return value,num,snum,sy,ck"
   ]
  },
  {
   "cell_type": "code",
   "execution_count": 53,
   "id": "469433ca-1f04-4088-b4c2-b9bb8cf45fa2",
   "metadata": {
    "execution": {
     "iopub.execute_input": "2022-05-22T07:52:02.378900Z",
     "iopub.status.busy": "2022-05-22T07:52:02.378900Z",
     "iopub.status.idle": "2022-05-22T07:52:02.385881Z",
     "shell.execute_reply": "2022-05-22T07:52:02.385881Z",
     "shell.execute_reply.started": "2022-05-22T07:52:02.378900Z"
    },
    "tags": []
   },
   "outputs": [
    {
     "name": "stdout",
     "output_type": "stream",
     "text": [
      "遇到 expression ['1']\n",
      "遇到 expression ['2']\n",
      "遇到 expression ['1']\n",
      "遇到 expression ['2']\n",
      "遇到 expression ['d', '*', '3']\n",
      "遇到 define_stmt ['int', 'i', ';']\n",
      "遇到 define_stmt ['int', 'p', '=', 'd', '*', '3', ';', 'int', 'i', ';']\n",
      "遇到 define_stmt ['int', 'd', '=', '2', ';', 'sentence2']\n",
      "遇到 define_stmt ['int', 'c', '=', '1', ';', 'int', 'd', '=', '2', ';', 'sentence2']\n",
      "遇到 define_stmt ['int', 'b', '=', '2', ';', 'int', 'c', '=', '1', ';', 'int', 'd', '=', '2', ';', 'sentence2']\n",
      "遇到 define_stmt ['int', 'a', '=', '1', ';', 'int', 'b', '=', '2', ';', 'int', 'c', '=', '1', ';', 'int', 'd', '=', '2', ';', 'sentence2']\n",
      "遇到 isnull_expr1 ['i', '=', '0', ';']\n",
      "中间代码如下 [['=', '0', ' ', 'i']]\n",
      "遇到 expression ['i', '<', 'c', '+', 'd', '+', '10']\n",
      "遇到 isnull_expr3 ['i', '=', 'i', '+', '1']\n",
      "中间代码如下 [['+', 'i', '1', 't2'], ['=', 't2', ' ', 'i']]\n",
      "遇到 expression ['p', '=', 'p', '+', '1']\n",
      "中间代码如下 [['+', 'p', '1', 't4'], ['=', 't4', ' ', 'p']]\n",
      "遇到 expression ['a', '=', 'a', '*', '2']\n",
      "中间代码如下 [['*', 'a', '2', 't6'], ['=', 't6', ' ', 'a']]\n",
      "遇到 stmts 开始整合\n",
      "遇到 stmts 开始整合\n",
      "遇到 stmts 开始整合\n",
      "遇到 iteration_stmt ['for', '(', 'sentence4', 'i', '<', 'c', '+', 'd', '+', '10', ';', 'sentence7', ')', '{', 'sentence10', ';', 'sentence13', ';', '}']\n",
      "expression ['sentence4', ';', 'i', '<', 'c', '+', 'd', '+', '10', ';', 'sentence7']\n",
      "0 i\n",
      "1 <\n",
      "8 15\n",
      "10 17 {'sentence0': ['*', 'd', '3', 't0'], 'sentence1': ['=', 't0', ' ', 'p'], 'sentence2': [['*', 'd', '3', 't0'], ['=', 't0', ' ', 'p']], 'define': ['int', 'p', '=', 'd', '*', '3', ';', 'int', 'i', ';'], 'sentence3': ['=', '0', ' ', 'i'], 'sentence4': [['=', '0', ' ', 'i']], 'sentence5': ['+', 'i', '1', 't2'], 'sentence6': ['=', 't2', ' ', 'i'], 'sentence7': [['+', 'i', '1', 't2'], ['=', 't2', ' ', 'i']], 'sentence8': ['+', 'p', '1', 't4'], 'sentence9': ['=', 't4', ' ', 'p'], 'sentence10': [['+', 'p', '1', 't4'], ['=', 't4', ' ', 'p']], 'sentence11': ['*', 'a', '2', 't6'], 'sentence12': ['=', 't6', ' ', 'a'], 'sentence13': [['*', 'a', '2', 't6'], ['=', 't6', ' ', 'a']], 'sentence14': ['=', '0', ' ', 'i'], 'sentence15': ['+', 'd', '10', 't8'], 'sentence16': ['+', 'c', 't8', 't9']}\n",
      "sentence7 19\n",
      "中间代码如下 sentence27 -> [['=', '0', ' ', 'i'], ['+', 'd', '10', 't8'], ['+', 'c', 't8', 't9'], ['j<', 'i', 't9', 'sentence22'], ['j', ' ', ' ', 'sentence28'], ['+', 'i', '1', 't2'], ['=', 't2', ' ', 'i'], ['j', ' ', ' ', 'sentence15'], ['+', 'p', '1', 't4'], ['=', 't4', ' ', 'p'], ['*', 'a', '2', 't6'], ['=', 't6', ' ', 'a'], ['j', ' ', ' ', 'sentence19']]\n",
      "遇到 stmts 开始整合\n",
      "遇到 stmts 开始整合\n"
     ]
    }
   ],
   "source": [
    "f=mid_code(d,'Start 0',fz,0,0,{},{})"
   ]
  },
  {
   "cell_type": "code",
   "execution_count": 54,
   "id": "394203d7-5964-4722-927c-38f385ca5109",
   "metadata": {
    "execution": {
     "iopub.execute_input": "2022-05-22T07:52:02.678398Z",
     "iopub.status.busy": "2022-05-22T07:52:02.678398Z",
     "iopub.status.idle": "2022-05-22T07:52:02.687408Z",
     "shell.execute_reply": "2022-05-22T07:52:02.687408Z",
     "shell.execute_reply.started": "2022-05-22T07:52:02.678398Z"
    },
    "tags": []
   },
   "outputs": [
    {
     "data": {
      "text/plain": [
       "{'sentence0': ['*', 'd', '3', 't0'],\n",
       " 'sentence1': ['=', 't0', ' ', 'p'],\n",
       " 'sentence2': [['*', 'd', '3', 't0'], ['=', 't0', ' ', 'p']],\n",
       " 'define': ['int', 'p', '=', 'd', '*', '3', ';', 'int', 'i', ';'],\n",
       " 'sentence3': ['=', '0', ' ', 'i'],\n",
       " 'sentence4': [['=', '0', ' ', 'i']],\n",
       " 'sentence5': ['+', 'i', '1', 't2'],\n",
       " 'sentence6': ['=', 't2', ' ', 'i'],\n",
       " 'sentence7': [['+', 'i', '1', 't2'], ['=', 't2', ' ', 'i']],\n",
       " 'sentence8': ['+', 'p', '1', 't4'],\n",
       " 'sentence9': ['=', 't4', ' ', 'p'],\n",
       " 'sentence10': [['+', 'p', '1', 't4'], ['=', 't4', ' ', 'p']],\n",
       " 'sentence11': ['*', 'a', '2', 't6'],\n",
       " 'sentence12': ['=', 't6', ' ', 'a'],\n",
       " 'sentence13': [['*', 'a', '2', 't6'], ['=', 't6', ' ', 'a']],\n",
       " 'sentence14': ['=', '0', ' ', 'i'],\n",
       " 'sentence15': ['+', 'd', '10', 't8'],\n",
       " 'sentence16': ['+', 'c', 't8', 't9'],\n",
       " 'sentence17': ['j<', 'i', 't9', 'sentence22'],\n",
       " 'sentence18': ['j', ' ', ' ', 'sentence28'],\n",
       " 'sentence19': ['+', 'i', '1', 't2'],\n",
       " 'sentence20': ['=', 't2', ' ', 'i'],\n",
       " 'sentence21': ['j', ' ', ' ', 'sentence15'],\n",
       " 'sentence22': ['+', 'p', '1', 't4'],\n",
       " 'sentence23': ['=', 't4', ' ', 'p'],\n",
       " 'sentence24': ['*', 'a', '2', 't6'],\n",
       " 'sentence25': ['=', 't6', ' ', 'a'],\n",
       " 'sentence26': ['j', ' ', ' ', 'sentence19'],\n",
       " 'sentence27': [['=', '0', ' ', 'i'],\n",
       "  ['+', 'd', '10', 't8'],\n",
       "  ['+', 'c', 't8', 't9'],\n",
       "  ['j<', 'i', 't9', 'sentence22'],\n",
       "  ['j', ' ', ' ', 'sentence28'],\n",
       "  ['+', 'i', '1', 't2'],\n",
       "  ['=', 't2', ' ', 'i'],\n",
       "  ['j', ' ', ' ', 'sentence15'],\n",
       "  ['+', 'p', '1', 't4'],\n",
       "  ['=', 't4', ' ', 'p'],\n",
       "  ['*', 'a', '2', 't6'],\n",
       "  ['=', 't6', ' ', 'a'],\n",
       "  ['j', ' ', ' ', 'sentence19']]}"
      ]
     },
     "execution_count": 54,
     "metadata": {},
     "output_type": "execute_result"
    }
   ],
   "source": [
    "f[-2]"
   ]
  },
  {
   "cell_type": "code",
   "execution_count": 55,
   "id": "85df85d2-9207-489e-bfa9-3f349b29d29b",
   "metadata": {
    "execution": {
     "iopub.execute_input": "2022-05-22T07:52:02.990170Z",
     "iopub.status.busy": "2022-05-22T07:52:02.990170Z",
     "iopub.status.idle": "2022-05-22T07:52:02.996251Z",
     "shell.execute_reply": "2022-05-22T07:52:02.996251Z",
     "shell.execute_reply.started": "2022-05-22T07:52:02.990170Z"
    },
    "tags": []
   },
   "outputs": [
    {
     "data": {
      "text/plain": [
       "['int',\n",
       " 'main',\n",
       " '(',\n",
       " ')',\n",
       " '{',\n",
       " 'int',\n",
       " 'a',\n",
       " '=',\n",
       " '1',\n",
       " ';',\n",
       " 'int',\n",
       " 'b',\n",
       " '=',\n",
       " '2',\n",
       " ';',\n",
       " 'int',\n",
       " 'c',\n",
       " '=',\n",
       " '1',\n",
       " ';',\n",
       " 'int',\n",
       " 'd',\n",
       " '=',\n",
       " '2',\n",
       " ';',\n",
       " 'sentence2',\n",
       " 'sentence27',\n",
       " '}']"
      ]
     },
     "execution_count": 55,
     "metadata": {},
     "output_type": "execute_result"
    }
   ],
   "source": [
    "f[0]"
   ]
  },
  {
   "cell_type": "code",
   "execution_count": 56,
   "id": "81ac1700-a456-4efb-913b-b73126041897",
   "metadata": {
    "execution": {
     "iopub.execute_input": "2022-05-22T07:52:03.248334Z",
     "iopub.status.busy": "2022-05-22T07:52:03.248334Z",
     "iopub.status.idle": "2022-05-22T07:52:03.253345Z",
     "shell.execute_reply": "2022-05-22T07:52:03.253345Z",
     "shell.execute_reply.started": "2022-05-22T07:52:03.248334Z"
    },
    "tags": []
   },
   "outputs": [],
   "source": [
    "midcode=[]\n",
    "define_code=[]\n",
    "for c in f[0]:\n",
    "    if 'sentence' in c:\n",
    "        midcode.extend(f[-2][c])\n",
    "    else:\n",
    "        define_code.append(c)"
   ]
  },
  {
   "cell_type": "code",
   "execution_count": 57,
   "id": "a033eca3-8e18-49d5-b30e-ddffa48fd3fc",
   "metadata": {
    "execution": {
     "iopub.execute_input": "2022-05-22T07:52:03.658297Z",
     "iopub.status.busy": "2022-05-22T07:52:03.658297Z",
     "iopub.status.idle": "2022-05-22T07:52:03.664280Z",
     "shell.execute_reply": "2022-05-22T07:52:03.664280Z",
     "shell.execute_reply.started": "2022-05-22T07:52:03.658297Z"
    },
    "tags": []
   },
   "outputs": [
    {
     "data": {
      "text/plain": [
       "[['*', 'd', '3', 't0'],\n",
       " ['=', 't0', ' ', 'p'],\n",
       " ['=', '0', ' ', 'i'],\n",
       " ['+', 'd', '10', 't8'],\n",
       " ['+', 'c', 't8', 't9'],\n",
       " ['j<', 'i', 't9', 'sentence22'],\n",
       " ['j', ' ', ' ', 'sentence28'],\n",
       " ['+', 'i', '1', 't2'],\n",
       " ['=', 't2', ' ', 'i'],\n",
       " ['j', ' ', ' ', 'sentence15'],\n",
       " ['+', 'p', '1', 't4'],\n",
       " ['=', 't4', ' ', 'p'],\n",
       " ['*', 'a', '2', 't6'],\n",
       " ['=', 't6', ' ', 'a'],\n",
       " ['j', ' ', ' ', 'sentence19']]"
      ]
     },
     "execution_count": 57,
     "metadata": {},
     "output_type": "execute_result"
    }
   ],
   "source": [
    "midcode"
   ]
  },
  {
   "cell_type": "code",
   "execution_count": 58,
   "id": "95b705ec-d0d7-469b-8a9d-7e7424146849",
   "metadata": {
    "execution": {
     "iopub.execute_input": "2022-05-22T07:52:04.282107Z",
     "iopub.status.busy": "2022-05-22T07:52:04.282107Z",
     "iopub.status.idle": "2022-05-22T07:52:04.287092Z",
     "shell.execute_reply": "2022-05-22T07:52:04.287092Z",
     "shell.execute_reply.started": "2022-05-22T07:52:04.282107Z"
    },
    "tags": []
   },
   "outputs": [
    {
     "data": {
      "text/plain": [
       "['int', 'p', '=', 'd', '*', '3', ';', 'int', 'i', ';']"
      ]
     },
     "execution_count": 58,
     "metadata": {},
     "output_type": "execute_result"
    }
   ],
   "source": []
  },
  {
   "cell_type": "code",
   "execution_count": 60,
   "id": "58fb4d88-ee76-4496-a6f0-0cdeff34c775",
   "metadata": {
    "execution": {
     "iopub.execute_input": "2022-05-22T07:52:23.825952Z",
     "iopub.status.busy": "2022-05-22T07:52:23.824957Z",
     "iopub.status.idle": "2022-05-22T07:52:23.831999Z",
     "shell.execute_reply": "2022-05-22T07:52:23.830940Z",
     "shell.execute_reply.started": "2022-05-22T07:52:23.825952Z"
    },
    "tags": []
   },
   "outputs": [],
   "source": [
    "import re\n",
    "define_code=' '.join(define_code)+' '.join(f[-2]['define'])\n",
    "define_code=re.split('(;|{|})',define_code)"
   ]
  },
  {
   "cell_type": "code",
   "execution_count": 64,
   "id": "8b069dff-6575-40a5-ab55-23f20f0577e3",
   "metadata": {
    "execution": {
     "iopub.execute_input": "2022-05-22T07:56:42.777691Z",
     "iopub.status.busy": "2022-05-22T07:56:42.777691Z",
     "iopub.status.idle": "2022-05-22T07:56:42.781680Z",
     "shell.execute_reply": "2022-05-22T07:56:42.781680Z",
     "shell.execute_reply.started": "2022-05-22T07:56:42.777691Z"
    },
    "tags": []
   },
   "outputs": [],
   "source": [
    "define_code=[d.strip() for d in define_code]"
   ]
  },
  {
   "cell_type": "code",
   "execution_count": 65,
   "id": "1472a78d-a541-470a-8f32-1128f97cd4a9",
   "metadata": {
    "execution": {
     "iopub.execute_input": "2022-05-22T07:56:48.141287Z",
     "iopub.status.busy": "2022-05-22T07:56:48.140291Z",
     "iopub.status.idle": "2022-05-22T07:56:48.148268Z",
     "shell.execute_reply": "2022-05-22T07:56:48.147271Z",
     "shell.execute_reply.started": "2022-05-22T07:56:48.141287Z"
    }
   },
   "outputs": [
    {
     "data": {
      "text/plain": [
       "['int main ( )',\n",
       " '{',\n",
       " 'int a = 1',\n",
       " ';',\n",
       " 'int b = 2',\n",
       " ';',\n",
       " 'int c = 1',\n",
       " ';',\n",
       " 'int d = 2',\n",
       " ';',\n",
       " '',\n",
       " '}',\n",
       " 'int p = d * 3',\n",
       " ';',\n",
       " 'int i',\n",
       " ';',\n",
       " '']"
      ]
     },
     "execution_count": 65,
     "metadata": {},
     "output_type": "execute_result"
    }
   ],
   "source": [
    "define_code"
   ]
  },
  {
   "cell_type": "code",
   "execution_count": 95,
   "id": "3f834bf5-1795-4192-ad7f-aaee35d6654b",
   "metadata": {
    "execution": {
     "iopub.execute_input": "2022-05-22T08:20:41.118889Z",
     "iopub.status.busy": "2022-05-22T08:20:41.118889Z",
     "iopub.status.idle": "2022-05-22T08:20:41.125835Z",
     "shell.execute_reply": "2022-05-22T08:20:41.124874Z",
     "shell.execute_reply.started": "2022-05-22T08:20:41.118889Z"
    },
    "tags": []
   },
   "outputs": [
    {
     "data": {
      "text/plain": [
       "[['有参数函数', 'int', 'main', 'null', 0],\n",
       " ['数值', 'int', 'a', '1', 1],\n",
       " ['数值', 'int', 'b', '2', 1],\n",
       " ['数值', 'int', 'c', '1', 1],\n",
       " ['数值', 'int', 'd', '2', 1],\n",
       " ['数值', 'int', 'p', '3', 1],\n",
       " ['数值', 'int', 'i', 'null', 1]]"
      ]
     },
     "execution_count": 95,
     "metadata": {},
     "output_type": "execute_result"
    }
   ],
   "source": []
  },
  {
   "cell_type": "code",
   "execution_count": 100,
   "id": "bfcb9ef2-fecb-4750-b0c5-a8977bf6e45c",
   "metadata": {
    "execution": {
     "iopub.execute_input": "2022-05-22T08:28:19.952741Z",
     "iopub.status.busy": "2022-05-22T08:28:19.952741Z",
     "iopub.status.idle": "2022-05-22T08:28:19.971732Z",
     "shell.execute_reply": "2022-05-22T08:28:19.971732Z",
     "shell.execute_reply.started": "2022-05-22T08:28:19.952741Z"
    },
    "tags": []
   },
   "outputs": [],
   "source": [
    "def creat_tabel(define_code):\n",
    "    type1=['int','char','double','float']\n",
    "    table=[]\n",
    "    func_area=0\n",
    "    for d  in define_code:\n",
    "        d=d.split(' ')\n",
    "        if d[0]=='{' or d[0] == '(':\n",
    "            func_area=func_area+1\n",
    "\n",
    "        if d[0] in type1  and d[-1]==')':\n",
    "            if d[-2]==')':\n",
    "                table.append(['无参数函数',d[0],d[1],'null',func_area])\n",
    "            else:\n",
    "                table.append(['有参数函数',d[0],d[1],'null',func_area])\n",
    "        elif  d[0] in ['int','float','double']:\n",
    "            if d[-1].isdigit():\n",
    "                table.append(['数值',d[0],d[1],d[-1],func_area])\n",
    "            elif d[0]=='int':\n",
    "                table.append(['数值',d[0],d[1],0,func_area])\n",
    "            elif d[0]=='float':\n",
    "                table.append(['浮点数',d[0],d[1],0.0,func_area])\n",
    "            elif d[0]=='double':\n",
    "                table.append(['双字节浮点数',d[0],d[1],0.0,func_area])\n",
    "        elif  d[0] in ['char','string']:\n",
    "            if d[-1].isalpha():\n",
    "                table.append(['字符',d[0],d[1],d[-1],func_area])\n",
    "            elif d[0]=='char':\n",
    "                table.append(['字符',d[0],d[1],'',func_area])\n",
    "    return table\n",
    "\n"
   ]
  },
  {
   "cell_type": "code",
   "execution_count": 101,
   "id": "de69e282-baa7-43fd-bdb5-d5a4eae7d4c7",
   "metadata": {
    "execution": {
     "iopub.execute_input": "2022-05-22T08:28:20.306106Z",
     "iopub.status.busy": "2022-05-22T08:28:20.306106Z",
     "iopub.status.idle": "2022-05-22T08:28:20.310096Z",
     "shell.execute_reply": "2022-05-22T08:28:20.310096Z",
     "shell.execute_reply.started": "2022-05-22T08:28:20.306106Z"
    },
    "tags": []
   },
   "outputs": [],
   "source": [
    "table=creat_tabel(define_code)\n",
    "symbol=pd.DataFrame(table,columns=['类型','类型token','标识符','值','作用域'])"
   ]
  },
  {
   "cell_type": "code",
   "execution_count": 102,
   "id": "51251dd7-f779-4ffe-afb5-78ff7fc9a4a2",
   "metadata": {
    "execution": {
     "iopub.execute_input": "2022-05-22T08:28:20.673786Z",
     "iopub.status.busy": "2022-05-22T08:28:20.673786Z",
     "iopub.status.idle": "2022-05-22T08:28:20.684755Z",
     "shell.execute_reply": "2022-05-22T08:28:20.683759Z",
     "shell.execute_reply.started": "2022-05-22T08:28:20.673786Z"
    },
    "tags": []
   },
   "outputs": [
    {
     "data": {
      "text/html": [
       "<div>\n",
       "<style scoped>\n",
       "    .dataframe tbody tr th:only-of-type {\n",
       "        vertical-align: middle;\n",
       "    }\n",
       "\n",
       "    .dataframe tbody tr th {\n",
       "        vertical-align: top;\n",
       "    }\n",
       "\n",
       "    .dataframe thead th {\n",
       "        text-align: right;\n",
       "    }\n",
       "</style>\n",
       "<table border=\"1\" class=\"dataframe\">\n",
       "  <thead>\n",
       "    <tr style=\"text-align: right;\">\n",
       "      <th></th>\n",
       "      <th>类型</th>\n",
       "      <th>类型token</th>\n",
       "      <th>标识符</th>\n",
       "      <th>值</th>\n",
       "      <th>作用域</th>\n",
       "    </tr>\n",
       "  </thead>\n",
       "  <tbody>\n",
       "    <tr>\n",
       "      <th>0</th>\n",
       "      <td>有参数函数</td>\n",
       "      <td>int</td>\n",
       "      <td>main</td>\n",
       "      <td>null</td>\n",
       "      <td>0</td>\n",
       "    </tr>\n",
       "    <tr>\n",
       "      <th>1</th>\n",
       "      <td>数值</td>\n",
       "      <td>int</td>\n",
       "      <td>a</td>\n",
       "      <td>1</td>\n",
       "      <td>1</td>\n",
       "    </tr>\n",
       "    <tr>\n",
       "      <th>2</th>\n",
       "      <td>数值</td>\n",
       "      <td>int</td>\n",
       "      <td>b</td>\n",
       "      <td>2</td>\n",
       "      <td>1</td>\n",
       "    </tr>\n",
       "    <tr>\n",
       "      <th>3</th>\n",
       "      <td>数值</td>\n",
       "      <td>int</td>\n",
       "      <td>c</td>\n",
       "      <td>1</td>\n",
       "      <td>1</td>\n",
       "    </tr>\n",
       "    <tr>\n",
       "      <th>4</th>\n",
       "      <td>数值</td>\n",
       "      <td>int</td>\n",
       "      <td>d</td>\n",
       "      <td>2</td>\n",
       "      <td>1</td>\n",
       "    </tr>\n",
       "    <tr>\n",
       "      <th>5</th>\n",
       "      <td>数值</td>\n",
       "      <td>int</td>\n",
       "      <td>p</td>\n",
       "      <td>3</td>\n",
       "      <td>1</td>\n",
       "    </tr>\n",
       "    <tr>\n",
       "      <th>6</th>\n",
       "      <td>数值</td>\n",
       "      <td>int</td>\n",
       "      <td>i</td>\n",
       "      <td>0</td>\n",
       "      <td>1</td>\n",
       "    </tr>\n",
       "  </tbody>\n",
       "</table>\n",
       "</div>"
      ],
      "text/plain": [
       "      类型 类型token   标识符     值  作用域\n",
       "0  有参数函数     int  main  null    0\n",
       "1     数值     int     a     1    1\n",
       "2     数值     int     b     2    1\n",
       "3     数值     int     c     1    1\n",
       "4     数值     int     d     2    1\n",
       "5     数值     int     p     3    1\n",
       "6     数值     int     i     0    1"
      ]
     },
     "execution_count": 102,
     "metadata": {},
     "output_type": "execute_result"
    }
   ],
   "source": [
    "symbol"
   ]
  },
  {
   "cell_type": "code",
   "execution_count": 109,
   "id": "3505188b-8ee5-4832-9419-2f60432136a5",
   "metadata": {
    "execution": {
     "iopub.execute_input": "2022-05-22T08:31:05.441123Z",
     "iopub.status.busy": "2022-05-22T08:31:05.441123Z",
     "iopub.status.idle": "2022-05-22T08:31:05.448103Z",
     "shell.execute_reply": "2022-05-22T08:31:05.448103Z",
     "shell.execute_reply.started": "2022-05-22T08:31:05.441123Z"
    },
    "tags": []
   },
   "outputs": [
    {
     "data": {
      "text/plain": [
       "[['a', '1'], ['b', '2'], ['c', '1'], ['d', '2'], ['p', '3'], ['i', 0]]"
      ]
     },
     "execution_count": 109,
     "metadata": {},
     "output_type": "execute_result"
    }
   ],
   "source": [
    "symbol.iloc[1:,:][['标识符','值']].values.tolist()"
   ]
  },
  {
   "cell_type": "code",
   "execution_count": null,
   "id": "fda536e8-e072-407d-843b-dbfddc69b6b0",
   "metadata": {},
   "outputs": [],
   "source": [
    "# 1.检查是否存在无定义变量,就是非声明变量中的未定义的变量\n",
    "#2.数组越界问题，如果是数组要记录它的长度"
   ]
  }
 ],
 "metadata": {
  "kernelspec": {
   "display_name": "Python 3",
   "language": "python",
   "name": "python3"
  },
  "language_info": {
   "codemirror_mode": {
    "name": "ipython",
    "version": 3
   },
   "file_extension": ".py",
   "mimetype": "text/x-python",
   "name": "python",
   "nbconvert_exporter": "python",
   "pygments_lexer": "ipython3",
   "version": "3.8.8"
  }
 },
 "nbformat": 4,
 "nbformat_minor": 5
}
